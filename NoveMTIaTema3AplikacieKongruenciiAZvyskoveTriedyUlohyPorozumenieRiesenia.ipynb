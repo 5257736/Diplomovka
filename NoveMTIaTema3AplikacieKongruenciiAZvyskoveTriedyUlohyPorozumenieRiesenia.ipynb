{
 "cells": [
  {
   "cell_type": "markdown",
   "metadata": {},
   "source": [
    "**Autori:** Andrej Gajdoš, Dagmara Lopatková  <br> \n",
    "*[Ústav matematických vied](https://www.upjs.sk/prirodovedecka-fakulta/ustav/umv/), [Prírodovedecká fakulta](https://www.upjs.sk/prirodovedecka-fakulta/), Univerzita Pavla Jozefa Šafárika v Košiciach,* <br> \n",
    "email: [andrej.gajdos@upjs.sk](mailto:andrej.gajdos@upjs.sk)\n",
    "\n",
    "***\n",
    "\n",
    "**<font size=6 color=blue> MTIa: Téma 3 - Aplikácie kongruencií a zvyškové triedy </font>** "
   ]
  },
  {
   "cell_type": "markdown",
   "metadata": {},
   "source": [
    "---\n",
    "\n",
    "#### 1. Každý palindróm je deliteľný číslom $11$.  \n",
    "Pozn. **Palindróm** je všeobecne akákoľvek postupnosť symbolov, typicky slovo, veta, číslo, ktorá má tú vlastnosť, že ju možno čítať v ľubovoľnom smere (sprava doľava alebo zľava doprava).\n",
    "\n",
    "a) Áno    \n",
    "<font color=blue> b) Nie </font>    \n",
    " \n",
    "  \n",
    "<ins> Vysvetlenie: </ins>    \n",
    "Palindromické číslo je „súmerné číslo\". Jeho hodnota sa po napísaní číslic v opačnom poradí nezmení, napr. 11, 22, 3333, ale i 121, 12321, 10201 atď.  \n",
    "\n",
    "\n",
    "Kontrapríklad:  \n",
    "číslo 10201 nie je deliteľné 11, našli sme palindromické číslo, ktoré nie je deliteľné 11."
   ]
  },
  {
   "cell_type": "markdown",
   "metadata": {},
   "source": [
    "---\n",
    "\n",
    "#### 2. Prvky množiny zvyškových triedy podľa modulu $4$ t.j. $\\mathbb{Z}_{4}=\\left\\{[0]_4,[1]_4,[2]_4,[3]_4\\right\\}$ sú:\n",
    "\n",
    "a) celé čísla     \n",
    "b) kladné celé čísla    \n",
    "<font color=blue> c) množiny resp. podmnožiny celých čísel  </font>   \n",
    "d) ani jedna z možností nie je správna  \n",
    "\n",
    "<ins> Vysvetlenie: </ins>     \n",
    "Sú to množiny celých čísel obsahujúce čísla, ktoré dávajú po delení (v našom prípade) modulom 4 zvyšok 0, 1, 2, alebo 3.\n",
    "\n",
    "Množina zvyškových tried je tým pádom taká množina, ktorej prvky sú tiež množiny (celých čísel). Ide teda o množinu množín. Konkrétne napr. $0_4$ obsahuje všetky celé čísla, ktoré po vydelení modulom $m$ (teraz číslom 4), dajú zvyšok 0. Podobne $1_4$ obsahuje všetky celé čísla, ktoré po vydelení modulom $m$ (teraz číslom 4), dajú zvyšok 1 atď. Čiže všetky celé čísla sa rozdelia do $m$ množín, od $0_m$ po $(m-1)_m$, v našom prípade od $0_4$ po $3_4$ (keďže $m=4$), pričom čísla 0, 1, 2, 3 sú možné zvyšky po delení číslom 4 a teda reprezentanti zvyškových tried $0_4$, $1_4$, $2_4$, $3_4$.\n"
   ]
  },
  {
   "cell_type": "markdown",
   "metadata": {},
   "source": [
    "---\n",
    "\n",
    "#### 3. Operácia sčítania $\\oplus$ zvyškových tried je binárna operácia medzi:\n",
    "\n",
    "<font color=blue> a) množinami  </font>      \n",
    "b) medzi kladnými celými číslami   \n",
    "c) ani jedna z odpovedí nie je správna   \n",
    "  \n",
    "<ins> Vysvetlenie: </ins>   \n",
    "Z **Poznámky 3** z učebného textu vyplýva, že operácia $\\oplus$ na ľavej strane v **Definícii 2** vyjadruje v určitom zmysle \"súčet\" množín (teda zvyškových tried $a_m$, $b_m$) a tento súčet zvyškových tried sa realizuje pomocou ich reprezentantov $a$, $b$ (to sú už celé čísla), preto je na pravej strane v **Definícii 2** operácia $+$, t.j. klasický súčet dvoch celých čísel.\n"
   ]
  },
  {
   "cell_type": "markdown",
   "metadata": {},
   "source": [
    "---\n",
    "\n",
    "#### 4. Operácia súčinu $\\odot$ zvyškových tried je binárna operácia realizovaná pomocou:\n",
    "\n",
    "a) množín     \n",
    "<font color=blue> b) reprezentantov množín   </font>  \n",
    "<font color=blue> c) celých čísel    </font>  \n",
    "d) len kladných celých čísel     \n",
    "  \n",
    "<ins> Vysvetlenie: </ins>    \n",
    "Z **Poznámky 4** z učebného textu vyplýva, že podobne ako pri sčítaní aj tu operácia $\\odot$ na ľavej strane v **Definícii 3** vyjadruje v určitom zmysle \"súčin\" množín (teda zvyškových tried $a_m$, $b_m$) a tento súčin zvyškových tried sa realizuje pomocou ich reprezentantov $a$, $b$ (to sú už celé čísla), preto je na pravej strane v **Definícii 3** operácia $\\cdot$, t.j. klasický súčin dvoch celých čísel.\n"
   ]
  },
  {
   "cell_type": "markdown",
   "metadata": {},
   "source": [
    "---\n",
    "\n",
    "#### 5. Výsledkom operácii $\\oplus$ a $\\odot$ na zvyškových triedach je:\n",
    "\n",
    "<font color=blue> a) množina </font>    \n",
    "b) celé číslo      \n",
    "c) vždy kladné celé číslo    \n",
    "<font color=blue> d) zvyšková trieda</font>   \n",
    "\n",
    "<ins> Vysvetlenie: </ins>     \n",
    "Na ilustračnom príklade si ukážeme, prečo výsledok sčítania a násobenia je zvyšková trieda a množina.\n",
    "\n",
    "\\textbf{Ilustračný príklad} \\\\\n",
    "Zoberieme si modulo $n=5$, máme rôzne zvyškové triedy:   \n",
    "$0 \\mod 5 = \\{ \\dots, -10, -5, 0, 5, 10, \\dots \\}$   \n",
    "$1 \\mod 5 = \\{ \\dots, -9, -4, 1, 6, 11, \\dots \\}$   \n",
    "$2 \\mod 5 = \\{ \\dots, -8, -3, 2, 7, 12, \\dots \\}$   \n",
    "$3 \\mod 5 = \\{ \\dots, -7, -2, 3, 8, 13, \\dots \\}$   \n",
    "$4 \\mod 5 = \\{ \\dots, -6, -1, 4, 9, 14, \\dots \\}$\n",
    "\n",
    "\\textbf{Sčítavanie}   \n",
    "Predstavme si, že máme dve zvyškové triedy $2\\mod 5$ a $3\\mod 5$. Reprezentanti týchto tried sú čísla 2 a 3.   \n",
    "Teraz použijeme operáciu $\\oplus$:   \n",
    "$2 \\mod 5 \\oplus 3 \\mod 5 = (2 + 3) \\mod 5 = 5 \\mod 5 = 0 \\mod 5$\n",
    "\n",
    "Výsledná zvyšková trieda je $0 \\mod 5$, čo je množina všetkých čísel, ktoré dávajú zvyšok 0 pri delení 5.\n",
    "\n",
    "\\textbf{Násobenie}   \n",
    "Predstavme si, že máme dve zvyškové triedy $2 \\mod 5$ a $3 \\mod 5$. Reprezentanti týchto tried sú čísla 2 a 3.   \n",
    "Teraz použijeme operáciu $\\odot$:   \n",
    "$2 \\mod 5 \\odot 3 \\mod 5 = (2 \\cdot 3) \\mod 5 = 6 \\mod 5 = 1 \\mod 5$\n",
    "\n",
    "Výsledná zvyšková trieda je $1 \\mod 5$, čo je množina všetkých čísel, ktoré dávajú zvyšok 1 pri delení 5.\n",
    "\n",
    "Operácie $\\oplus$ a $\\odot$ na zvyškových triedach vždy vedú k novej zvyškovej triede. Výsledkom sčítania a násobenia reprezentantov tried je vždy jedna zo zvyškových tried. Navyše, zvyšková trieda je množina. Modulo $n$, zvyšková trieda predstavuje množinu celých čísel, ktoré dávajú rovnaký zvyšok pri delení číslom $n$.\n"
   ]
  },
  {
   "cell_type": "markdown",
   "metadata": {},
   "source": [
    "---\n",
    "\n",
    "#### 6. Na poradí sčítania zvyškových tried\n",
    "\n",
    "a) záleží   \n",
    "<font color=blue> b) nezáleží  </font>   \n",
    "  \n",
    "<ins> Vysvetlenie: </ins>     \n",
    "Na základe **Tvrdenia 1** vieme zistiť, že platí komutatívnosť, preto platí:\n",
    "\n",
    "$(\\forall a_m, b_m \\in \\mathbb{Z}_m) \\quad a_m \\oplus b_m = b_m \\oplus a_m$\n"
   ]
  },
  {
   "cell_type": "markdown",
   "metadata": {},
   "source": [
    "---\n",
    "\n",
    "#### 7. Na poradí násobenia zvyškových tried\n",
    "\n",
    "a) záleží  \n",
    "<font color=blue> b) nezáleží  </font>    \n",
    "  \n",
    "<ins> Vysvetlenie: </ins>   \n",
    "Na základe **Tvrdenia 2** vieme zistiť, že platí komutatívnosť, preto platí:\n",
    "\n",
    "$(\\forall a_m, b_m \\in \\mathbb{Z}_m) \\quad a_m \\odot b_m = b_m \\odot a_m$\n"
   ]
  },
  {
   "cell_type": "markdown",
   "metadata": {},
   "source": [
    "---\n",
    "\n",
    "#### 8. Opačný prvok k $4_8$ v rámci $\\left(\\mathbb{Z}_{8},\\oplus\\right)$ je:\n",
    "\n",
    "a) $1_8$   \n",
    "b) $2_8$  \n",
    "c) $3_8$  \n",
    "<font color=blue> d) $4_8$  </font>  \n",
    "e) $5_8$  \n",
    "f) $6_8$  \n",
    "g) $7_8$  \n",
    "h) neexistuje\n",
    "\n",
    "<ins> Vysvetlenie: </ins>  \n",
    "Z **Tvrdenia 1** vyplýva, že ku každému prvku z danej zvyškovej triedy existuje opačný prvok:\n",
    "\n",
    "$$(\\forall a_m \\in \\mathbb{Z}_m) (\\exists b_m \\in \\mathbb{Z}_m) \\quad a_m \\oplus b_m = 0_m.$$\n",
    "\n",
    "V našom prípade: $4_8 + x_8 = 0_8$, hľadáme, čomu by sa mohlo rovnať $x_8$. Čo musíme pripočítať, aby ich súčet bol deliteľný 8, keďže máme modulo 8. V $\\mathbb{Z}_8$ má zvyškové triedy $0_8$, $1_8$, $2_8$, $3_8$, $4_8$, $5_8$, $6_8$ a $7_8$. Môžeme aj postupným skúšaním zistiť opačný prvok.\n",
    "\n",
    "$$4_8 + 1_8 = 5_8 \\text{ (nerovná sa } 0_8 \\text{)}$$\n",
    "$$4_8 + 2_8 = 6_8 \\text{ (nerovná sa } 0_8 \\text{)}$$\n",
    "$$4_8 + 3_8 = 7_8 \\text{ (nerovná sa } 0_8 \\text{)}$$\n",
    "$$4_8 + 4_8 = 0_8 \\text{ (rovná sa } 0_8 \\text{)} \\text{ -> vyhovuje, našli sme opačný prvok}$$\n",
    "\n",
    "$$4_8 + 5_8 = 1_8 \\text{ (nerovná sa } 0_8 \\text{)}$$\n",
    "$$4_8 + 6_8 = 2_8 \\text{ (nerovná sa } 0_8 \\text{)}$$\n",
    "$$4_8 + 7_8 = 3_8 \\text{ (nerovná sa } 0_8 \\text{)}$$\n",
    "\n",
    "K $4_8$ je $4_8$ opačný prvok.\n"
   ]
  },
  {
   "cell_type": "markdown",
   "metadata": {},
   "source": [
    "---\n",
    "\n",
    "\n",
    "#### 9. Inverzný prvok k $2_8$ v rámci $\\left(\\mathbb{Z}_{8},\\odot\\right)$ je:\n",
    "\n",
    "a) $1_8$   \n",
    "b) $2_8$  \n",
    "c) $3_8$  \n",
    "d) $4_8$  \n",
    "e) $5_8$  \n",
    "f) $6_8$  \n",
    "g) $7_8$  \n",
    "<font color=blue> h) neexistuje </font>  \n",
    "\n",
    "  \n",
    "<ins> Vysvetlenie: </ins>  \n",
    "Na základe **Tvrdenia 4**: Nech $m \\in \\mathbb{Z}^+$, $m \\geq 2$. Potom v $\\mathbb{Z}_m$ platí\n",
    "\n",
    "$$(\\forall a_m \\in \\mathbb{Z}_m, a_m \\neq 0_m) (\\exists b_m \\in \\mathbb{Z}_m) \\quad a_m \\odot b_m = 1_m \\text{ práve vtedy, keď } m \\text{ je prvočíslo.}$$\n",
    "\n",
    "Keďže v našom prípade $8$ nie je prvočíslo, preto ani nemôže existovať inverzný prvok.\n"
   ]
  }
 ],
 "metadata": {
  "kernelspec": {
   "display_name": "Python 3 (ipykernel)",
   "language": "python",
   "name": "python3"
  },
  "language_info": {
   "codemirror_mode": {
    "name": "ipython",
    "version": 3
   },
   "file_extension": ".py",
   "mimetype": "text/x-python",
   "name": "python",
   "nbconvert_exporter": "python",
   "pygments_lexer": "ipython3",
   "version": "3.9.12"
  }
 },
 "nbformat": 4,
 "nbformat_minor": 4
}

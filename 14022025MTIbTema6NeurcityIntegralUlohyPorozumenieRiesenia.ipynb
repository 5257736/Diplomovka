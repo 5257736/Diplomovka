{
 "cells": [
  {
   "cell_type": "markdown",
   "metadata": {},
   "source": [
    "**Autori:** Andrej Gajdoš, Dagmara Lopatková  <br> \n",
    "*[Ústav matematiky](https://www.upjs.sk/prirodovedecka-fakulta/ustav/umv/), [Prírodovedecká fakulta](https://www.upjs.sk/prirodovedecka-fakulta/), Univerzita Pavla Jozefa Šafárika v Košiciach,* <br> \n",
    "email: [andrej.gajdos@upjs.sk](mailto:andrej.gajdos@upjs.sk)\n",
    "\n",
    "***\n",
    "\n",
    "**<font size=6 color=blue> MTIb: Téma 6 - Neurčitý integrál </font>** "
   ]
  },
  {
   "cell_type": "markdown",
   "metadata": {},
   "source": [
    "---\n",
    "\n",
    "#### 1. Antiderivácia k funkcii $f(x)$ je to isté, čo primitívna funkcia k $f(x)$.\n",
    "\n",
    "<font color=blue> a) Áno  </font>   \n",
    "b) Nie  \n",
    "  \n",
    "<ins> Vysvetlenie: </ins>    \n",
    "**Antiderivácia** k funkcii $f(x)$ je skutočne to isté, čo **primitívna funkcia** k $f(x)$. Tieto pojmy sú navzájom zameniteľné a označujú tú istú matematickú operáciu.   \n",
    "\n",
    "**Antiderivácia** funkcie $f(x)$ je definovaná ako funkcia $F(x)$, ktorej derivácia je rovná $f(x)$, teda $F'(x) = f(x)$.  \n",
    "\n",
    "**Primitívna funkcia** k $f(x)$ je tiež definovaná ako funkcia $F(x)$, pre ktorú platí $F'(x) = f(x)$.  \n",
    "\n",
    "Oba pojmy popisujú **inverznú operáciu k derivovaniu**. Keď hľadáme antideriváciu alebo primitívnu funkciu, v skutočnosti robíme tú istú vec - hľadáme funkciu $F(x)$, pre ktorú platí $F'(x) = f(x)$."
   ]
  },
  {
   "cell_type": "markdown",
   "metadata": {},
   "source": [
    "---\n",
    "\n",
    "#### 2. Neurčitý integrál funkcie $f(x)$ je: \n",
    "\n",
    "a) primitívna funkcia k $f(x)$  \n",
    "b) konečný počet primitívnych funkcií  \n",
    "<font color=blue> c) množina všetkých primitívnych funkcií </font>    \n",
    "  \n",
    "<ins> Vysvetlenie: </ins>   \n",
    "Neurčitý integrál funkcie $ f(x) $ je definovaný ako množina všetkých primitívnych funkcií k $ f(x) $ (**Definícia 2**). \n",
    "\n",
    "Je dôležité dodať, že všetky tieto primitívne funkcie sa navzájom líšia o aditívnu konštantu. To znamená, že ak $F(x)$ je primitívna funkcia k $f(x)$, potom všetky primitívne funkcie k $f(x)$ môžeme vyjadriť vo forme $F(x) + C$, kde $C$ je ľubovoľná reálna konštanta.\n",
    "\n",
    "Tento fakt sa často vyjadruje zápisom neurčitého integrálu ako:\n",
    "$$\\int f(x) \\, dx=F(x)+C$$\n",
    "\n",
    "kde $F(x)$ je konkrétna primitívna funkcia a $C$ reprezentuje všetky možné konštanty, čím sa pokrýva celá množina primitívnych funkcií."
   ]
  },
  {
   "cell_type": "markdown",
   "metadata": {},
   "source": [
    "---\n",
    "\n",
    "#### 3. Antiderivácii k danej funkcii $f(x)$ existuje: \n",
    "\n",
    "a) konečne veľa  \n",
    "<font color=blue> b) nekonečne veľa  </font>  \n",
    "c) záleží od funkcie, môže byť konečne aj nekonečne veľa\n",
    "  \n",
    "<ins> Vysvetlenie: </ins>  \n",
    "K danej funkcii $f(x)$ existuje nekonečne veľa antiderivácií (**Dôsledok 1**). Znamená, že ak máme jednu antideriváciu $F(x)$, môžeme získať nekonečne veľa ďalších antiderivácií pridaním ľubovoľnej reálnej konštanty $C$. Každá takáto funkcia $F(x) + C$ bude tiež antideriváciou k $f(x)$, pretože jej derivácia bude opäť $f(x)$. \n",
    "\n",
    "Môžeme to dokázať nasledovne:\n",
    "$$(F(x)+C)′=F′(x)+C′=F′(x)+0=F′(x)=f(x)$$\n",
    "\n",
    "Tu vidíme, že derivácia súčtu je súčet derivácií. Derivácia konštanty $C$ je 0, $F'(x) = f(x)$, pretože $F(x)$ je antiderivácia k $f(x)$. Teda pre každú reálnu konštantu $C$ dostávame novú antideriváciu $F(x) + C$, čo vedie k nekonečnému počtu antiderivácií pre danú funkciu $f(x)$."
   ]
  },
  {
   "cell_type": "markdown",
   "metadata": {},
   "source": [
    "---\n",
    "\n",
    "#### 4. Neurčitý integrál je súhrný názov množiny všetkých antiderivácii k $f(x)$.\n",
    "\n",
    "<font color=blue> a) Áno  </font>   \n",
    "b) Nie  \n",
    "  \n",
    "<ins> Vysvetlenie: </ins>    \n",
    "Neurčitý integrál predstavuje množinu všetkých antiderivácií (primitívnych funkcií) k danej funkcii $f(x)$ (**Definícia 2**). "
   ]
  },
  {
   "cell_type": "markdown",
   "metadata": {},
   "source": [
    "---\n",
    "\n",
    "#### 5.  Nech $F(x)$ je primitívna funkcia k $f(x)$. Ak $f(x)$ je všade rastúca, potom $F(x)\\ge0$.\n",
    "\n",
    "a) Áno  \n",
    "<font color=blue> b) Nie  </font>  \n",
    "  \n",
    "<ins> Vysvetlenie: </ins>    \n",
    "Aj keď $f(x)$ je všade rastúca, neznamená to, že jej primitívna funkcia $F(x)$ musí byť vždy nezáporná.\n",
    "Rastúca funkcia $f(x)$ neznamená, že derivácia $F'(x) = f(x)$ je kladná pre všetky $x$. To však hovorí len o zmene (raste) funkcie $F(x)$.\n",
    "\n",
    "Primitívna funkcia $F(x)$ môže nadobúdať aj záporné hodnoty, aj keď jej derivácia $f(x)$ je všade kladná a rastúca.  \n",
    "\n",
    "Napríklad:  \n",
    "Nech $f(x) = x + 2$, čo je rastúca funkcia (jej derivácia $f'(x) = 1$ je kladná pre všetky $x$).  \n",
    "\n",
    "Primitívna funkcia $F(x)$ je daná integráciou:  \n",
    "$$ F(x) = \\int (x + 2) \\, dx = \\frac{x^2}{2} + 2x + C, $$  \n",
    "kde $C$ je ľubovoľná konštanta.\n",
    "\n",
    "Ak zvolíme $C = -10$, dostaneme:  \n",
    "$$F(x) = \\frac{x^2}{2} + 2x - 10$$\n",
    "\n",
    "Táto primitívna funkcia môže byť záporná pre niektoré hodnoty $x$. Napríklad, ak $x = -5$:  \n",
    "$$ F(-5) = \\frac{(-5)^2}{2} + 2(-5) - 10 = \\frac{25}{2} - 10 - 10 = \\frac{25}{2} - 20 = -\\frac{15}{2}$$\n",
    "\n",
    "Aj keď $f(x)$ je rastúca, jej primitívna funkcia $F(x)$ nemusí byť vždy nezáporná. Hodnota $F(x)$ závisí od voľby integračnej konštanty $C$ a od konkrétnych hodnôt $x$."
   ]
  },
  {
   "cell_type": "markdown",
   "metadata": {},
   "source": [
    "---\n",
    "\n",
    "#### 6. Ak funkcie $F(x)$, $G(x)$ sú obe primitívne funkcie k $f(x)$, potom aj funkcia $H(x)=F(x)+G(x)$ je primitívna funkcia k $f(x)$.\n",
    "\n",
    "a) Áno  \n",
    "<font color=blue> b) Nie  </font>    \n",
    "  \n",
    "<ins> Vysvetlenie: </ins>  \n",
    "Ak $F(x)$ a $G(x)$ sú obe primitívne funkcie k $f(x)$, potom podľa **Dôsledku 1** existuje konštanta $C$ taká, že $G(x) = F(x) + C$ pre všetky $x \\in I$.  \n",
    "\n",
    "Ak by sme definovali $H(x) = F(x) + G(x)$, dostali by sme $H(x) = F(x) + (F(x) + C) = 2F(x) + C$.  \n",
    "\n",
    "Derivácia $H(x)$ by bola $H'(x) = 2F'(x) = 2f(x)$. \n",
    "\n",
    "Vidíme, že $H'(x)\\ne f(x)$, takže $H(x)$ nie je primitívnou funkciou k $f(x)$.\n",
    "\n",
    "\n",
    "Napríklad:  \n",
    "Nech $f(x) = 2x$.\n",
    "\n",
    "Jednou z primitívnych funkcií k $f(x)$ je:  \n",
    "$$F(x) = x^2 + C_1,$$  \n",
    "kde $C_1$ je ľubovoľná konštanta.\n",
    "\n",
    "Inou primitívnou funkciou k $f(x)$ je:  \n",
    "$$G(x) = x^2 + C_2,$$  \n",
    "kde $C_2$ je tiež ľubovoľná konštanta.\n",
    "\n",
    "Definujme $H(x)$ ako súčet $F(x)$ a $G(x)$:  \n",
    "$$H(x) = F(x) + G(x) = (x^2 + C_1) + (x^2 + C_2) = 2x^2 + (C_1 + C_2).$$\n",
    "\n",
    "Derivácia $H(x)$ je:  \n",
    "$$H'(x) = \\frac{d}{dx}[2x^2 + (C_1 + C_2)] = 4x.$$\n",
    "\n",
    "Vidíme, že $H'(x) = 4x$, zatiaľ čo $f(x) = 2x$.  \n",
    "Teda $H'(x) \\ne f(x)$, čo znamená, že $H(x)$ nie je primitívnou funkciou k $f(x)$.\n"
   ]
  },
  {
   "cell_type": "markdown",
   "metadata": {},
   "source": [
    "---\n",
    "\n",
    "#### 7. Pre ľubovoľné $n$ platí $\\displaystyle\\int x^n\\mathrm{d}x=\\dfrac{x^{n+1}}{n+1}+C$, $C\\in\\mathbb{R}$.\n",
    "\n",
    "a) Áno  \n",
    "<font color=blue> b) Nie  </font>  \n",
    "  \n",
    "<ins> Vysvetlenie: </ins>   \n",
    "Vzorec $$\\int x^n \\mathrm{d}x = \\frac{x^{n+1}}{n+1} + C, C \\in \\mathbb{R}$$, platí okrem $n= -1$. Keď $n = -1$, nastáva problém:\n",
    "1. V čitateli by sme mali $x^0 = 1$\n",
    "2. V menovateli by sme mali $n + 1 = -1 + 1 = 0$\n",
    "Toto by viedlo k deleniu nulou, čo nie je definované.  \n",
    "\n",
    "Tento špeciálny prípad je dôvodom, prečo vzorec uvedený v tvrdení nie je všeobecne platný pre všetky $n$, ale len pre $n \\ne -1$. Je to kľúčová výnimka, ktorú treba mať vždy na pamäti pri integrovaní mocninových funkcií.\n",
    "\n",
    "Ak $n = -1$, integrál $$\\int x^{-1} \\mathrm{d}x = \\int \\frac{1}{x}  \\mathrm{d}x$$ je rovný $\\ln|x| + C$ podľa vzorcov pre integrovanie. Preto vzorec uvedený v tvrdení nie je všeobecne platný pre všetky $n$, ale len pre $n \\ne -1$."
   ]
  },
  {
   "cell_type": "markdown",
   "metadata": {},
   "source": [
    "---\n",
    "\n",
    "#### 8. Ak funkcia $F(x)$ je primitívna funkcia k $f(x)$, potom aj funkcia $G(x)=F(x)+2$ je primitívna funkcia k $f(x)$.\n",
    "\n",
    "<font color=blue> a) Áno  </font>   \n",
    "b) Nie  \n",
    "  \n",
    "<ins> Vysvetlenie: </ins>  \n",
    "Vyplýva z **Dôsledku 1**. Ak $F$ a $G$ sú dve primitívne funkcie k funkcii $f$ na intervale $I$, potom existuje konštanta $C$ taká, že $G(x) = F(x) + C$ pre všetky $x \\in I$.\n",
    "\n",
    "V tomto prípade je $C = 2$, čo je konštanta. Keď zderivujeme $G(x)$, dostaneme $$G'(x) = (F(x) + 2)' = F'(x) + 0 = F'(x) = f(x)$$\n",
    "\n",
    "Vidíme, že derivácia $G(x)$ je rovnaká ako derivácia $F(x)$, teda $f(x)$. To znamená, že $G(x)$ je tiež primitívnou funkciou k $f(x)$."
   ]
  },
  {
   "cell_type": "markdown",
   "metadata": {},
   "source": [
    "---\n",
    "\n",
    "#### 9. Ak funkcie $F(x)$, $G(x)$ sú obe primitívne funkcie k $f(x)$ na intervale $I$, potom funkcia $H(x)=F(x)-G(x)$ je konštantná funkcia na intervale $I$.\n",
    "\n",
    "<font color=blue> a) Áno  </font>   \n",
    "b) Nie   \n",
    "  \n",
    "<ins> Vysvetlenie: </ins>   \n",
    "Ak definujeme $H(x) = F(x) - G(x)$, môžeme to prepísať ako $$H(x) = F(x) - (F(x) + C) = -C$$\n",
    "Vidíme, že $H(x)$ je rovné konštante $-C$ pre všetky $x \\in I$, čo znamená, že $H(x)$ je **konštantná funkcia** na intervale $I$."
   ]
  },
  {
   "cell_type": "markdown",
   "metadata": {},
   "source": [
    "---\n",
    "\n",
    "#### 10. Platí nasledujúci vzťah ? $$\\displaystyle\\int \\frac{1}{f(x)}\\,\\mathrm{d}x=\\ln|f(x)|+C,C\\in\\mathbb{R}$$\n",
    "\n",
    "a) Áno  \n",
    "<font color=blue> b) Nie  </font>  \n",
    "  \n",
    "<ins> Vysvetlenie: </ins>  \n",
    "Platí pre $f(x) = x$\n",
    "$$\\displaystyle\\int \\frac{1}{x}\\mathrm{d}x = \\ln|x|+C$$\n",
    "\n",
    "Kontrapríklad:\n",
    "$f(x) = x^2$\n",
    "$$\\displaystyle\\int \\frac{1}{x^2}\\mathrm{d}x = - \\frac{1}{x}+C \\ne \\ln|x|+C$$\n",
    "\n",
    "Vzťah neplatí všeobecne pre hocijakú funkciu $f(x)$, iba pre špeciálny prípad, ak $f(x)=x$. \n",
    "\n",
    "Správny všeobecný vzťah, ktorý zahŕňa deriváciu menovateľa, je:\n",
    "$$\\displaystyle\\int \\frac{f'(x)}{f(x)}\\mathrm{d}x = \\ln|f(x)|+C$$\n",
    "\n",
    "Tento vzťah platí pre všetky funkcie $f(x)$, kde $f'(x)$ je derivácia $f(x)$. Je to vlastne substitučná metóda integrovania, kde $u = f(x)$ a $\\mathrm{d}u = f'(x)\\,\\mathrm{d}x$. Tento vzorec je základom pre integrovanie mnohých zložitejších funkcií a je kľúčový v integrálnom počte."
   ]
  },
  {
   "cell_type": "markdown",
   "metadata": {},
   "source": [
    "---\n",
    "\n",
    "#### 11. Je pravdivý nasledujúci výrok? Integrál $\\displaystyle\\int \\mathrm{arctg}\\,x\\,\\mathrm{d}x$ nie je možné vyrátať pomocou metódy per partes, lebo integrand nie je súčinom dvoch funkcií.\n",
    "\n",
    "a) Áno  \n",
    "<font color=blue> b) Nie  </font>  \n",
    "  \n",
    "<ins> Vysvetlenie: </ins>  \n",
    "Integrál $\\displaystyle\\int \\mathrm{arctg}\\,x \\,\\mathrm{d}x$ je možné vyrátať pomocou metódy per partes, aj keď integrand na prvý pohľad nevyzerá ako súčin dvoch funkcií. V skutočnosti ho môžeme zapísať ako:\n",
    "$$\\displaystyle\\int 1\\cdot\\mathrm{arctg}\\,x \\,\\mathrm{d}x $$ kde explicitne vidíme súčin dvoch funkcií: konštantnej funkcie 1 a funkcie $\\mathrm{arctg}\\,x$.\n",
    "\n",
    "\n",
    "Pri použití metódy per partes môžeme tento integrál upraviť nasledovne:\n",
    "- Položíme $u'(x) = 1$ a $v(x) = \\mathrm{arctg}\\,x\\,$\n",
    "- Potom $u(x) = x$ a $v'(x) = \\frac{1}{1+x^2}$\n",
    "\n",
    "Aplikáciou vzorca pre integrovanie per partes dostaneme:\n",
    "$$\\displaystyle\\int \\mathrm{arctg}\\,x \\,\\mathrm{d}x = x\\cdot \\mathrm{arctg}\\,x\\, - \\int x \\cdot \\frac{1}{1+x^2} \\,\\mathrm{d}x$$\n",
    "\n",
    "Tento postup ukazuje, že metóda per partes je aplikovateľná a vedie k riešeniu daného integrálu. Explicitné uvedenie jednotky v integrande nám pomáha lepšie vidieť, ako môžeme aplikovať metódu per partes aj na zdanlivo jednoduché funkcie."
   ]
  },
  {
   "cell_type": "code",
   "execution_count": null,
   "metadata": {},
   "outputs": [],
   "source": []
  }
 ],
 "metadata": {
  "kernelspec": {
   "display_name": "SageMath 9.3",
   "language": "sage",
   "name": "sagemath"
  },
  "language_info": {
   "codemirror_mode": {
    "name": "ipython",
    "version": 3
   },
   "file_extension": ".py",
   "mimetype": "text/x-python",
   "name": "python",
   "nbconvert_exporter": "python",
   "pygments_lexer": "ipython3",
   "version": "3.7.10"
  }
 },
 "nbformat": 4,
 "nbformat_minor": 4
}

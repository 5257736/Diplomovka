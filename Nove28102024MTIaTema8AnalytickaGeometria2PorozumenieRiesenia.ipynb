{
 "cells": [
  {
   "cell_type": "markdown",
   "metadata": {},
   "source": [
    "**Autori:** Andrej Gajdoš, Dagmara Lopatková  <br> \n",
    "*[Ústav matematických vied](https://www.upjs.sk/prirodovedecka-fakulta/ustav/umv/), [Prírodovedecká fakulta](https://www.upjs.sk/prirodovedecka-fakulta/), Univerzita Pavla Jozefa Šafárika v Košiciach,* <br> \n",
    "email: [andrej.gajdos@upjs.sk](mailto:andrej.gajdos@upjs.sk)\n",
    "\n",
    "***\n",
    "\n",
    "**<font size=6 color=blue> MTIa: Téma 8 - Analytická geometria 2 </font>** "
   ]
  },
  {
   "cell_type": "markdown",
   "metadata": {},
   "source": [
    "---\n",
    "\n",
    "#### 1. Čo vytvoria spolu všetky vektory v tvare $p\\boldsymbol{u}+q\\boldsymbol{v}+r\\boldsymbol{w}$, kde $p,q,r\\in\\mathbb{R}$ sa menia a $\\boldsymbol{u},\\boldsymbol{v},\\boldsymbol{w}\\in\\mathbb{R}^3$ sú pevne zvolené nenulové vektory v 3D ?\n",
    "\n",
    "a) Jeden bod;  \n",
    "<font color=blue> b) Priamku; </font>  \n",
    "<font color=blue>c) Rovinu; </font>  \n",
    "<font color=blue>d) Celý 3D priestor. </font>  \n",
    "  \n",
    "<ins> Vysvetlenie: </ins>    \n",
    "Vieme, že sú vektory nenulové, čiže môžu nastať tri možnosti:\n",
    "1. Všetky tri vektory sú lineárne závislé, takže vytvoria priamku.\n",
    "2. Dva vektory sú lineárne závislé a tretí vektor je lineárne nezávislý. Ich lineárna kombinácia vytvorí rovinu.\n",
    "3. Všetky tri vektory sú lineárne nezávislé, takže vytvoria celý 3D priestor.\n",
    "\n",
    "Bod nemôžu vytvoriť, lebo vektory sú nenulové. Keby bola možnosť, že vektory sú nulové, tak by mohli vytvoriť aj bod.\n",
    "\n",
    "APPLET: https://www.geogebra.org/m/unfcwjdw"
   ]
  },
  {
   "cell_type": "markdown",
   "metadata": {},
   "source": [
    "---\n",
    "\n",
    "#### 2.  Označte správne možnosti - priamka v 3D môže byť zadaná:\n",
    "\n",
    "a) Všeobecnou rovnicou;     \n",
    "<font color=blue> b) Ako prienik dvoch rovín;  </font>  \n",
    "<font color=blue> c) Parametricky; </font>  \n",
    "d) Žiadna z možností.   \n",
    "  \n",
    "<ins> Vysvetlenie: </ins>     \n",
    "Musíme si zapamätať, že **všeobecná rovnica neexistuje**, pretože normálový (kolmý) vektor priamky v 3D nie je jednoznačne určený (je ich nekonečne veľa). Ale môže byť zadaná parametricky (bod + smerový vektor) a z **Poznámky 6** vieme, že aj prienikom dvoch rovín."
   ]
  },
  {
   "cell_type": "markdown",
   "metadata": {},
   "source": [
    "---\n",
    "\n",
    "#### 3. Prienikom priamky a roviny môže byť:\n",
    "\n",
    "<font color=blue> a) Prázdna množina;   </font>    \n",
    "<font color=blue> b) Jeden bod;   </font>  \n",
    "<font color=blue> c) Priamka;    </font>  \n",
    "d) Rovina.    \n",
    "  \n",
    "<ins> Vysvetlenie: </ins>   \n",
    "Na obrázku v učebnom materiáli vieme nájsť, že máme tri možnosti.\n",
    "1. Majú práve jeden spoločný bod, vtedy priamka prechádza rovinou.\n",
    "2. Majú spoločné body nastáva to vtedy, keď priamka leží v rovine.\n",
    "3. Priamka a rovine nemajú žiaden spoločný bod.\n"
   ]
  },
  {
   "cell_type": "markdown",
   "metadata": {},
   "source": [
    "---\n",
    "\n",
    "#### 4. Kružnica a priamka môžu mať: \n",
    "\n",
    "<font color=blue> a) konečne veľa spoločných bodov; </font>  \n",
    "b) nekonečne veľa spoločných bodov. \n",
    "  \n",
    "  \n",
    "<ins> Vysvetlenie: </ins>    \n",
    "V učebnom materiáli vieme nájsť, vzájomnú polohu priamky a kružnice. Uvažujme kružnicu $k$ so stredom v bode $S$, s polomerom $r$ a tiež priamku $p$, ktorá sa nazýva buď sečnica alebo dotyčnica alebo nesečnica v závislosti od toho, koľko bodov má táto priamka spoločných s kružnicou. Sečnica, ak má $2$ body spoločné. Dotyčnica, ak $1$ bod majú spoločný. A nesečnica, ak nemajú žiaden spoločný bod.\n",
    "\n",
    "Iná možnosť neexistuje, takže najviac môžu mať $2$ spoločné body."
   ]
  },
  {
   "cell_type": "markdown",
   "metadata": {},
   "source": [
    "---\n",
    "\n",
    "#### 5. $x^2+(y-1)^2+z^2=4$ je rovnica kružnice?\n",
    "\n",
    "a) Áno   \n",
    "<font color=blue> b) Nie  </font>   \n",
    "  \n",
    "<ins> Vysvetlenie: </ins>     \n",
    "Vieme, že to nie je rovnica kružnice, pretože z **Poznámky 10** vieme, že všeobecná rovnica kružnice je: $$(x−x_0)^2+(y−y_0)^2=r^2$$ žiadna tretia neznáma $z^2$ v tejto rovnici nevystupuje."
   ]
  },
  {
   "cell_type": "markdown",
   "metadata": {},
   "source": []
  }
 ],
 "metadata": {
  "kernelspec": {
   "display_name": "Python 3",
   "language": "python",
   "name": "python3"
  },
  "language_info": {
   "codemirror_mode": {
    "name": "ipython",
    "version": 3
   },
   "file_extension": ".py",
   "mimetype": "text/x-python",
   "name": "python",
   "nbconvert_exporter": "python",
   "pygments_lexer": "ipython3",
   "version": "3.7.10"
  }
 },
 "nbformat": 4,
 "nbformat_minor": 4
}

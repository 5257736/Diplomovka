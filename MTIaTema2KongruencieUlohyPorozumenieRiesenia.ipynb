{
 "cells": [
  {
   "cell_type": "markdown",
   "metadata": {},
   "source": [
    "**Autori:** Andrej Gajdoš, Dagmara Lopatková  <br> \n",
    "*[Ústav matematiky](https://www.upjs.sk/prirodovedecka-fakulta/ustav/umv/), [Prírodovedecká fakulta](https://www.upjs.sk/prirodovedecka-fakulta/), Univerzita Pavla Jozefa Šafárika v Košiciach,* <br> \n",
    "email: [andrej.gajdos@upjs.sk](mailto:andrej.gajdos@upjs.sk)\n",
    "\n",
    "***\n",
    "\n",
    "**<font size=6 color=blue> MTIa: Téma 2 -  Prvočísla a kongruencie </font>** "
   ]
  },
  {
   "cell_type": "markdown",
   "metadata": {},
   "source": [
    "---\n",
    "\n",
    "#### 1. V ktorej možnosti sa nachádzajú iba prvočísla?. \n",
    "\n",
    "a) 23, 17, 21, 45, 91;    \n",
    "<font color=blue> b) 3,97,11,29,2; </font>    \n",
    "c) 53,93,19,1,9;    \n",
    "d) 5,25,10,13,100.    \n",
    "  \n",
    "<ins> Vysvetlenie: </ins>    \n",
    "Na základe **Definície 1** musí platiť, že číslo je prvočíslo $a$ , ak má práve 4 delitele $(−1,1,−a,a)$.\n",
    "Takže v tomto prípade čísla 3, 97, 11, 29, 2 majú **práve 4 deliteľov**. V ostatných možnostiach sa nachádzali aj zložené čísla, ktoré majú viac ako 4 deliteľov.\n",
    "\n"
   ]
  },
  {
   "cell_type": "markdown",
   "metadata": {},
   "source": [
    "---\n",
    "\n",
    "#### 2.  Prvočíslo je:\n",
    "\n",
    "a) Číslo, ktoré je súčinom samého seba a iného čísla;  \n",
    "b) Číslo s viac ako dvomi kladnými deliteľmi;    \n",
    "c) Súčin dvoch ľubovoľných čísel;    \n",
    "<font color=blue> d) Číslo, ktoré má iba dvoch kladných deliteľov.    </font>   \n",
    "  \n",
    "<ins> Vysvetlenie: </ins>     \n",
    "Na základe **Definície 1** vieme povedať, že prvočíslo $a$ má **pravé 4 deliteľov** (triviálnych deliteľov) a to sú: $−1,1,−a,a$. Ale najčastejšie sa pýtame len na **kladných** deliteľov a tých má prvočíslo **práve dvoch**: $1, a$. \n",
    "\n"
   ]
  },
  {
   "cell_type": "markdown",
   "metadata": {},
   "source": [
    "---\n",
    "\n",
    "#### 3. Zložené číslo je:\n",
    "\n",
    "a) Číslo, ktoré vznikne vynásobením dvoch čísel;    \n",
    "b) Číslo, ktoré má iba dvoch kladných deliteľov;    \n",
    "c) Číslo, ktoré je súčinom iného čísla so sebou samým;  \n",
    "<font color=blue> d) Číslo, ktoré má viac ako dvoch kladných deliteľov. </font>    \n",
    "  \n",
    "<ins> Vysvetlenie: </ins>   \n",
    "Definícia 1 hovorí, že zložené číslo $a\\not\\in{−1,0,1}$ je také číslo, ktoré má netriviálne delitele. Okrem deliteľov $−1, 1, −a, a$ má aj iné delitele. Takže má viac ako dvoch kladných deliteľov. **Tvrdenie 1** nám hovorí aj to, že musí existovať $b, c \\in\\mathbb{Z}$ také, že $a=bc$ a $1 < |𝑏|, |𝑐| < |𝑎|$.\n",
    "\n",
    "\n",
    "\n"
   ]
  },
  {
   "cell_type": "markdown",
   "metadata": {},
   "source": [
    "---\n",
    "\n",
    "#### 4. V ktorej možnosti sa nachádzajú všetky delitele čísla 48? \n",
    "\n",
    "a)  1,2,4,6,8,24,48;     \n",
    "b) 1,2,3,6,8,24,48;        \n",
    "c) 1,2,4,5,6,8,9,12,24,48;    \n",
    "<font color=blue> d) 1,2,3,4,6,8,12,16,24,48.  </font>   \n",
    "  \n",
    "<ins> Vysvetlenie: </ins>    \n",
    "Na základe **Definície 2** vieme číslo $48$ zapísať pomocou **kanonického rozkladu**: $48=2^4⋅3$. Vieme vytvoriť rôzne kombinácie čísel, kde na základe nich nájdeme všetky delitele čísla $48$ ($1,48$ sú automaticky deliteľmi čísla $48$). Ale napr. ďalšími deliteľmi sú: $2, 2^2, 2^3, 2^4, 2\\cdot3, 2^2\\cdot3 \\ldots $"
   ]
  },
  {
   "cell_type": "markdown",
   "metadata": {},
   "source": [
    "---\n",
    "\n",
    "#### 5. Aké je pravidlo deliteľnosti číslom $3$? Teda čo musí platiť pre delenca aby po vydelení číslom $3$ bol zvyšok $0$?\n",
    "\n",
    "a) Delenec musí byť párne číslo;   \n",
    "<font color=blue>b) Súčet cifier delenca je deliteľný číslom $3$;  </font>    \n",
    "c) Delenec je nepárne číslo;   \n",
    "d) Posledná cifra deliteľa je $0$. \n",
    "\n",
    "\n",
    "<ins> Vysvetlenie: </ins>     \n",
    "Musíme si číslo rozložiť v desiatkovej sústave. Napr. $abcde$ sú číslice, $abcde=a\\cdot10 000+b\\cdot1 000+c\\cdot100+d\\cdot10+e\\cdot1$. Teraz pomocou **Definíie 3 o kongruenciách** vieme číslam $10 000, 1 000, 100, 10$ a $1$ vyjadriť zvyšky pri module $3$.\n",
    "\n",
    "$10 000 \\equiv 1 (\\mathrm{mod}\\,\\,3)$  \n",
    "$1 000 \\equiv 1 (\\mathrm{mod}\\,\\,3)$  \n",
    "$100 \\equiv 1 (\\mathrm{mod}\\,\\,3)$  \n",
    "$10 \\equiv 1 (\\mathrm{mod}\\,\\,3)$  \n",
    "$1 \\equiv 1 (\\mathrm{mod}\\,\\,3)$  \n",
    "\n",
    "Z každého člena máme zvyšok 1, ktorý musíme vynásobiť ešte danou číslicou $a\\cdot1+b\\cdot1+c\\cdot1+d\\cdot1+e\\cdot1 $je celkový zvyšok daného čísla. Chceme, aby zvyšok bol $0$ pri delení $3$, preto daný výraz $a\\cdot1+b\\cdot1+c\\cdot1+d\\cdot1+e\\cdot1 $ musí byť deliteľný $3$. Z toho vyplýva, že číslo $a+b+c+d+e$ je násobkom $3$. Preto vieme na základe sčítania cifier rozhodnúť, či číslo je deliteľné $3$. \n"
   ]
  },
  {
   "cell_type": "markdown",
   "metadata": {},
   "source": [
    "---\n",
    "\n",
    "#### 6. Číslo $10^{25}-7$ je deliteľné:\n",
    "\n",
    "a) 2;   \n",
    "<font color=blue> b) 3;  </font>  \n",
    "c) 9;  \n",
    "d) 2 aj 3.\n",
    "  \n",
    "<ins> Vysvetlenie: </ins>     \n",
    "Z **Definície 3 o kongruenciách** vieme povedať, že $10^25\\equiv 1 \\,\\,(\\mathrm{mod}\\,\\, 3)$ má zvyšok $1$ a $7\\equiv 1 \\,\\,(\\mathrm{mod}\\,\\, 3)$ má tiež zvyšok $1$, z toho nám vyplýva, že $1-1=0$, takže zvyšok je $0$. Číslo $10^25-7$ je deliteľné $3$. "
   ]
  },
  {
   "cell_type": "markdown",
   "metadata": {},
   "source": [
    "---\n",
    "\n",
    "#### 7. Ktorá z nasledujúcich možností vyjadruje to isté čo $a\\equiv b\\,\\,(\\mathrm{mod}\\,\\,m)$, $a,b,m\\in\\mathbb{Z}$ ?\n",
    "\n",
    "a) $a = k\\cdot m + r$, $b = l\\cdot m + r$ kde $k,l,r\\mathbb{Z}$;  \n",
    "b) $m\\mid(a-b)$;    \n",
    "c) Číslo $a$ po vydelení číslom $m$ dáva rovnaký zvyšok ako číslo $b$ vydelené čislom $m$;  \n",
    "<font color=blue>d) Možnosti a), b), c) sú správne. </font>    \n",
    "\n",
    "\n",
    "<ins> Vysvetlenie: </ins>   \n",
    "Na základe **Definície 3** a **Poznámky 2** vieme povedať, že všetky možnosti sú správne. Sú to rôzne spôsoby vyjadrenia kongruencie.\n"
   ]
  },
  {
   "cell_type": "markdown",
   "metadata": {},
   "source": [
    "---\n",
    "\n",
    "#### 8. Vyberte správnu (pravdivú) kongruenciu:\n",
    "\n",
    "<font color=blue>a) $-8\\equiv 16\\,\\,(\\mathrm{mod}\\,\\,12);$  </font>  \n",
    "b) $64\\equiv 14\\,\\,(\\mathrm{mod}\\,\\,12)$;    \n",
    "c) Žiadna z kongruencií nie je správna.   \n",
    "\n",
    "<ins> Vysvetlenie: </ins>  \n",
    "Pomocou **Definície 3**, **Poznámky 2** a aj z **Vety o delení so zvyškom** vieme určiť zvyšky jednotlivých čísel, že  $-8$ pri modulo $12$ dáva zvyšok $4$ a číslo $16$ dáva zvyšok pri modulo $12$ tiež $4$, preto možnosť $-8\\equiv 16\\,\\,(\\mathrm{mod}\\,\\,12)$ je pravdivá. \n",
    "\n",
    " $64\\equiv 14\\,\\,(\\mathrm{mod}\\,\\,12)$, $64$ dáva zvyšok pri modulo $12 \\, 4$, $14$ pri modulo $12$ dáva zvyšok $2$, preto kongruencia v možnosti b) neplatí $4 \\ne 2$."
   ]
  },
  {
   "cell_type": "markdown",
   "metadata": {},
   "source": [
    "---\n",
    "\n",
    "\n",
    "#### 9. Ak je dnes utorok, aký deň bude o $129$ dní?\n",
    "\n",
    "a) Pondelok;      \n",
    "b) utorok;   \n",
    "c) streda;  \n",
    "d) štvrtok;  \n",
    "<font color=blue> e) piatok; </font>      \n",
    "f) sobota;  \n",
    "g) nedeľa.\n",
    "  \n",
    "<ins> Vysvetlenie: </ins>\n",
    "Na základe **Definície 3** a **Poznámky 2** vieme veľmi jednoducho zistiť, aký bude deň v týždni o $129$ dní. Hľadáme zvyšok čísla $129$ po delení $7$. Vieme, že máme $7$ dní (v našom prípade to bude modulo $7$). \n",
    "\n",
    "$129\\equiv x\\,\\,(\\mathrm{mod}\\,\\,7)$  \n",
    "$129:7=18$ zvyšok $3$   \n",
    "$129\\equiv 3\\,\\,(\\mathrm{mod}\\,\\,7)$  \n",
    "Teraz je utorok o $18$ týždňov bude opäť utorok a o tri dni (čo je náš zvyšok) bude **piatok**.\n"
   ]
  },
  {
   "cell_type": "markdown",
   "metadata": {},
   "source": [
    "---\n",
    "\n",
    "\n",
    "#### 10. Opakovaným pripočítavaním alebo odpočítavaním modulu $m$ od ľubovoľného, konkrétného, pevne zvoleného celého čísla $a$, dostávame čísla, ktoré sú kongruentné s číslom $a$ pri module $m$\n",
    "\n",
    "<font color=blue> a) Áno  </font>       \n",
    "b) Nie      \n",
    "\n",
    "  \n",
    "<ins> Vysvetlenie: </ins>  \n",
    "Ak číslo $a$ po delení číslom $m$ dá zvyšok $r$ tak $a$ je kongruentné s $r$ podľa modulu $m$ t.j. $a\\equiv r\\,\\,(\\mathrm{mod}\\,\\,m)$, pre $0\\le r < m$.\n",
    "\n",
    "Čiže si to vieme povedať aj tak, že $m\\mid a-r$. Pripočítaním alebo odpočítavaním $m$ dostaneme, že  $m\\mid a+m-r$ (alebo $m\\mid a-m-r$).\n",
    "\n",
    "Napr.   \n",
    "$a=7, m=4, r=3$  \n",
    "$7\\equiv 3\\,\\,(\\mathrm{mod}\\,\\,4)$     \n",
    "$11\\equiv 7\\,\\,(\\mathrm{mod}\\,\\,4)$   \n",
    "$15\\equiv 11\\,\\,(\\mathrm{mod}\\,\\,4)$  \n",
    "\n",
    "  \n"
   ]
  },
  {
   "cell_type": "markdown",
   "metadata": {},
   "source": [
    "---\n",
    "\n",
    "\n",
    "#### 11. Je vzťah $10\\equiv -1\\,\\,(\\mathrm{mod}\\,\\,11)$ pravdivý ?\n",
    "  \n",
    "<font color=blue> a) Áno </font>      \n",
    "b) Nie\n",
    "  \n",
    "<ins> Vysvetlenie: </ins>  \n",
    "Platí pretože 11 delí 10+1, resp. pravá aj ľavá strana po delení 11 dáva rovnaký zvyšok. "
   ]
  },
  {
   "cell_type": "markdown",
   "metadata": {},
   "source": [
    "---\n",
    "\n",
    "\n",
    "#### 12. Označte správne odpovede: Lineárna kongruencia môže mať:\n",
    "  \n",
    "<font color=blue> a) Prázdnu množinu riešení; </font>  \n",
    "<font color=blue> b) Nekonečne veľa kongruentných riešení; </font>      \n",
    "c)  Konečne veľa kongruentných riešení.  \n",
    "  \n",
    "<ins> Vysvetlenie: </ins>  \n",
    "Na základe **Vety 3 o lineárnych kongruenciách** a  **Poznámky 5**  vieme povedať, že lineárne kongruencie buď **nemajú riešenie** alebo ich majú **nekonečne veľa** navzájom kongruentných riešení. Iná možnosť neexistuje.\n"
   ]
  },
  {
   "cell_type": "code",
   "execution_count": null,
   "metadata": {},
   "outputs": [],
   "source": []
  }
 ],
 "metadata": {
  "kernelspec": {
   "display_name": "Python 3",
   "language": "python",
   "name": "python3"
  },
  "language_info": {
   "codemirror_mode": {
    "name": "ipython",
    "version": 3
   },
   "file_extension": ".py",
   "mimetype": "text/x-python",
   "name": "python",
   "nbconvert_exporter": "python",
   "pygments_lexer": "ipython3",
   "version": "3.7.10"
  }
 },
 "nbformat": 4,
 "nbformat_minor": 4
}

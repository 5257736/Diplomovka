{
 "cells": [
  {
   "cell_type": "markdown",
   "metadata": {},
   "source": [
    "**Autori:** Andrej Gajdoš, Dagmara Lopatková  <br> \n",
    "*[Ústav matematiky](https://www.upjs.sk/prirodovedecka-fakulta/ustav/umv/), [Prírodovedecká fakulta](https://www.upjs.sk/prirodovedecka-fakulta/), Univerzita Pavla Jozefa Šafárika v Košiciach,* <br> \n",
    "email: [andrej.gajdos@upjs.sk](mailto:andrej.gajdos@upjs.sk)\n",
    "\n",
    "***\n",
    "\n",
    "**<font size=6 color=blue> MTIb: Téma 7 - Určitý integral I. </font>** "
   ]
  },
  {
   "cell_type": "markdown",
   "metadata": {},
   "source": [
    "---\n",
    "\n",
    "#### 1. Ak $f$ je spojitá funkcia na intervale $\\langle a,b \\rangle$, potom $\\displaystyle\\int_{a}^{b} f(x)\\,\\mathrm{d}x$ je číslo.\n",
    "\n",
    "<font color=blue> a) Áno </font>   \n",
    "b) Nie \n",
    "  \n",
    "<ins> Vysvetlenie: </ins>    \n",
    "Podľa **Vety 2** $\\displaystyle\\int_{a}^{b} f(x)\\mathrm{d}x=F(b)-F(a)$ je číslo. Tento výsledok predstavuje rozdiel dvoch funkčných hodnôt primitívnej funkcie $F$ v bodoch $b$ a $a$. Keďže rozdiel dvoch čísel je vždy číslo, môžeme s istotou tvrdiť, že určitý integrál spojitej funkcie na uzavretom intervale je skutočne číslo."
   ]
  },
  {
   "cell_type": "markdown",
   "metadata": {},
   "source": [
    "---\n",
    "\n",
    "#### 2. Voda vyteká z potrubia s intenzitou $f(t)$ galónov za minútu. V čase od $t=2$ po $t=4$ zachytávate vodu do vedra. Množstvo takto zachytenej vody vyjadruje vzťah: \n",
    "\n",
    "<font color=blue> a) $\\displaystyle\\int_{2}^{4} f(t)\\,\\mathrm{d}t$;  </font>    \n",
    "b) $f(4)-f(2)$ ;  \n",
    "c) $(4-2)\\cdot f(4)$;  \n",
    "d) Priemer hodnôt $f(4)$ a $f(2)$ vynásobený časom, ktorý uplynul. \n",
    "  \n",
    "<ins> Vysvetlenie: </ins>    \n",
    "Použitie určitého integrálu na výpočet celkového množstva (objemu) vody, ktorá vytečie za daný časový interval. \n",
    "\n",
    "- Funkcia $f(t)$ predstavuje intenzitu (rýchlosť) vytekania vody v galónoch za minútu v čase $t$.\n",
    "- Chceme zistiť celkové množstvo vody, ktoré vytečie medzi časmi $t=2$ a $t=4$.\n",
    "- Určitý integrál $\\displaystyle\\int_{2}^{4} f(t)\\mathrm{d}t$ presne vyjadruje súčet všetkých okamžitých hodnôt $f(t)$ v danom časovom intervale.\n",
    "- Geometricky si to môžeme predstaviť ako plochu pod krivkou funkcie $f(t)$ medzi $t=2$ a $t=4$.\n",
    "\n",
    "Tento integrál nám dáva celkový objem vody v galónoch, ktorý vytečie za dané 2 minúty.  \n",
    "\n",
    "Ostatné možnosti nie sú správne preto, lebo:  \n",
    "b) $f(4)-f(2)$ predstavuje len rozdiel intenzít na konci a na začiatku intervalu, nie celkové množstvo.  \n",
    "\n",
    "c) $(4-2)\\cdot f(4)$ by bolo správne len ak by intenzita bola konštantná a rovná $f(4)$.  \n",
    "\n",
    "d) Priemer hodnôt by tiež nebol presný, pretože neberie do úvahy možné zmeny intenzity  v čase   medzi krajnými bodmi intervalu."
   ]
  },
  {
   "cell_type": "markdown",
   "metadata": {},
   "source": [
    "---\n",
    "\n",
    "#### 3. Nech $f$ je spojitá funkcia, pre ktorú platí $f(x)<0$ pre $x\\in\\langle a,b \\rangle$. Potom $\\displaystyle\\int_{a}^{b} f(x)\\,\\mathrm{d}x$ je:\n",
    "\n",
    "<font color=blue> a) Záporný; </font>   \n",
    "b) Môže byť nula;  \n",
    "c) Nedá sa určiť zo zadania.    \n",
    "  \n",
    "<ins> Vysvetlenie: </ins>    \n",
    "Integrál vieme prepísať podľa vlastností integrálu ako $$\\displaystyle\\int_{a}^{b} -(-f(x))\\,\\mathrm{d}x=-\\displaystyle\\int_{a}^{b} -f(x)\\,\\mathrm{d}x$$, pričom $-f$ už je kladná od $a$ po $b$. V tomto prípade vieme, že integrál z kladnej funkcie bude kladný, ale pre znamienko mínus sa výsledok stáva záporným."
   ]
  },
  {
   "cell_type": "markdown",
   "metadata": {},
   "source": [
    "---\n",
    "\n",
    "#### 4. Predpokladajme, že funkcia $f$ má deriváciu. Kedy platí $\\displaystyle\\int_{0}^{x} f'(t)\\,\\mathrm{d}t=f(x)$ ?\n",
    "\n",
    "a) Vždy;   \n",
    "<font color=blue> b) Niekedy; </font>  \n",
    "c) Nikdy.   \n",
    "  \n",
    "<ins> Vysvetlenie: </ins>  \n",
    "Integrál je rovný podľa N-L formuly $F(x)-F(0)$ ale vieme, že primitívne funkcie k $f'(t)$ sú v tvare $f(t)+C$, preto $F(x)-F(0)=f(x)-f(0)$.\n",
    "\n",
    "V našom prípade máme:\n",
    "$$\\displaystyle\\int_{0}^{x} f'(t),\\mathrm{d}t = F(x) - F(0)=f(x)-f(0)=f(x)-0=f(x)$$\n",
    "  \n",
    "Vidíme, že táto rovnosť sa rovná $f(x)$ len vtedy, keď $f(0) = 0$. Rovnosť platí pre tie funkcie $f$, ktoré majú hodnotu $0$ v bode $0$.\n",
    "\n"
   ]
  },
  {
   "cell_type": "markdown",
   "metadata": {},
   "source": [
    "---\n",
    "\n",
    "#### 5. Nech $f\\ge0$ je spojitá funkcia na intervale $\\langle a,b \\rangle$. Potom existujú reálne koštanty $m$, $M$ také, že platí $m(b-a)\\le\\displaystyle\\int_{a}^{b} f(x)\\,\\mathrm{d}x\\le M(b-a)$\n",
    "\n",
    "<font color=blue> a) Áno </font>   \n",
    "b) Nie \n",
    "  \n",
    "<ins> Vysvetlenie: </ins>    \n",
    "Je to jedna z vlastností Riemannovho integrálu o ohraničenosti, $m,M$ existujú. Plocha pod grafom funkcie $f(x)$ je ohraničená medzi plochou obdĺžnika s výškou \n",
    "$m$ (minimálna hodnota $f(x)$) a plochou obdĺžnika s výškou\n",
    "$M$ (maximálna hodnota $f(x)$).   "
   ]
  },
  {
   "cell_type": "markdown",
   "metadata": {},
   "source": [
    "---\n",
    "\n",
    "#### 6. Populácia v meste rastie s intenzitou $300\\cdot e^{0.3t}$ obyvateľov za rok, kde $t$ vyjadruje čas v rokoch. V čase $t=2$ žije v meste 1200 ľudí. Aká bude populácia v meste v čase $t=7$ ? \n",
    "\n",
    "a) $r'(7)-r'(2)$;  \n",
    "b) $\\displaystyle\\int_{2}^{7} r(t)\\,\\mathrm{d}t$;   \n",
    "c) $\\displaystyle\\int_{0}^{7} r(t)\\,\\mathrm{d}t$;   \n",
    "<font color=blue> d) $1200 + \\displaystyle\\int_{2}^{7} r(t)\\,\\mathrm{d}t$.  </font>   \n",
    "  \n",
    "<ins> Vysvetlenie: </ins>    \n",
    "Máme danú intenzitu rastu populácie: $r(t) = 300 \\cdot e^{0.3t}$ obyvateľov za rok.  \n",
    "V čase t=2 je populácia 1200 ľudí. To je náš východiskový bod (počiatočný stav  ).  \n",
    "Aby sme zistili populáciu v čase t=7, musíme k východiskovej populácii pripočítať prírastok populácie medzi časmi t=2 a t=7.  \n",
    "Tento prírastok získame integrovaním funkcie intenzity rastu od t=2 do t=7 $$\\displaystyle\\int_{2}^{7} r(t)\\mathrm{d}t = \\int_{2}^{7} 300 \\cdot e^{0.3t}\\mathrm{d}t$$  \n",
    "Celková populácia v čase t=7 bude teda $$\\text{Populácia(t=7) = Populácia(t=2) + Prírastok od t=2 do t=7}\n",
    "= 1200 + \\displaystyle\\int_{2}^{7} r(t)\\mathrm{d}t$$\n",
    "\n",
    "a) $r'(7)-r'(2)$ by predstavovalo zmenu v intenzite rastu, nie celkovú populáciu.  \n",
    "b) $\\displaystyle\\int_{2}^{7} r(t),\\mathrm{d}t$ predstavuje len prírastok populácie, nie celkovú populáciu.  \n",
    "c) $\\displaystyle\\int_{0}^{7} r(t),\\mathrm{d}t$ by zahŕňalo aj prírastok pred časom t=2, čo nie je správne, keďže poznáme populáciu v t=2."
   ]
  },
  {
   "cell_type": "markdown",
   "metadata": {},
   "source": [
    "---\n",
    "\n",
    "#### 7. Hĺbka vody v nádrži sa mení s intenzitou $r(t)=0.3t$ centimetrov za minútu, kde $t$ je čas v minútach. V čase $t=0$ je hĺbka vody $35$ cm. Aká bude zmena hĺbky vody v nádrži počas štvrtej minúty?\n",
    "\n",
    "a) $\\displaystyle\\int_{4}^{4} r(t)\\,\\mathrm{d}t$;   \n",
    "<font color=blue> b)  $\\displaystyle\\int_{3}^{4} r(t)\\,\\mathrm{d}t$;  </font>     \n",
    "c) $\\displaystyle\\int_{4}^{5} r(t)\\,\\mathrm{d}t$;     \n",
    "d) $\\displaystyle\\int_{0}^{4} r(t)\\,\\mathrm{d}t$.    \n",
    "  \n",
    "<ins> Vysvetlenie: </ins>  \n",
    "Pýtame sa iba na zmenu t.j koľko vody pribudne resp. ubudne v nádrži od 3 po 4 minútu, bez počiatočnej podmienky, zaujíma nás kumulatívna zmena počas 1 minúty, ak poznáme intenzitu/rýchlosť, s akou sa mení voda v nádrži, podobné ako dráha prejdená za určitý čas a (okamžitá) rýchlosť v danom časovom okamihu, intenzita/rýchlosť s akou sa poybuje objekt v danom konkrétnom časovom okamihu, inými slovami je daná miera zmeny jeho pohybu resp. dráhy v danom časovom okamihu.\n",
    "\n",
    "a) Integruje od 4 do 4, čo by dalo nulovú zmenu.   \n",
    "c) Integruje od 4 do 5, čo reprezentuje piatu minútu, nie štvrtú.   \n",
    "d) Integruje od 0 do 4, čo by dalo celkovú zmenu za prvé štyri minúty, nie len za štvrtú minútu.  "
   ]
  }
 ],
 "metadata": {
  "kernelspec": {
   "display_name": "SageMath 9.3",
   "language": "sage",
   "name": "sagemath"
  },
  "language_info": {
   "codemirror_mode": {
    "name": "ipython",
    "version": 3
   },
   "file_extension": ".py",
   "mimetype": "text/x-python",
   "name": "python",
   "nbconvert_exporter": "python",
   "pygments_lexer": "ipython3",
   "version": "3.7.10"
  }
 },
 "nbformat": 4,
 "nbformat_minor": 4
}

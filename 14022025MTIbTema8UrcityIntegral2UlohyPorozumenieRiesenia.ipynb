{
 "cells": [
  {
   "cell_type": "markdown",
   "metadata": {},
   "source": [
    "**Autori:** Andrej Gajdoš, Dagmara Lopatková  <br> \n",
    "*[Ústav matematiky](https://www.upjs.sk/prirodovedecka-fakulta/ustav/umv/), [Prírodovedecká fakulta](https://www.upjs.sk/prirodovedecka-fakulta/), Univerzita Pavla Jozefa Šafárika v Košiciach,* <br> \n",
    "email: [andrej.gajdos@upjs.sk](mailto:andrej.gajdos@upjs.sk)\n",
    "\n",
    "***\n",
    "\n",
    "**<font size=6 color=blue> MTIb: Téma 8 - Určitý integrál II. </font>** "
   ]
  },
  {
   "cell_type": "markdown",
   "metadata": {},
   "source": [
    "---\n",
    "\n",
    "#### 1. Dĺžka krivky danej funkciou $y=\\sin x$ od $x=0$ po $x=\\pi/4$ sa určí pomocou integrálu $\\displaystyle\\int_{0}^{\\pi/4}\\sqrt{1+\\sin^2x}\\,\\mathrm{d}x$.\n",
    "\n",
    "a) Áno     \n",
    "<font color=blue> b) Nie </font>\n",
    "  \n",
    "<ins> Vysvetlenie: </ins>    \n",
    "Správny vzorec pre dĺžku krivky (**Výpočet dĺžok kriviek**) danej funkciou $y = f(x)$ od $a$ po $b$ je:\n",
    "$$\\displaystyle\\int_{a}^{b}\\sqrt{1+\\left(\\frac{dy}{dx}\\right)^2},\\mathrm{d}x$$\n",
    "Pre funkciu $y = \\sin(x)$ je derivácia $\\frac{dy}{dx} = \\cos(x)$. Preto správny integrál pre dĺžku krivky $y = \\sin(x)$ od $0$ po $\\frac{\\pi}{4}$ je:\n",
    "$$\\displaystyle\\int_{0}^{\\pi/4}\\sqrt{1+\\cos^2x},\\mathrm{d}x$$\n",
    "Uvedený integrál $$\\displaystyle\\int_{0}^{\\pi/4}\\sqrt{1+\\sin^2x},\\mathrm{d}x$$ nie je správny, pretože obsahuje $\\sin^2(x) $namiesto $\\cos^2(x)$."
   ]
  },
  {
   "cell_type": "markdown",
   "metadata": {},
   "source": [
    "---\n",
    "\n",
    "#### 2. Ak $\\displaystyle\\int_{1}^{\\infty}f(x)$ diverguje, potom $\\lim\\limits_{x\\to\\infty}f(x)\\neq0$.\n",
    "\n",
    "a) Áno     \n",
    "<font color=blue> b) Nie </font>\n",
    "  \n",
    "<ins> Vysvetlenie: </ins>   \n",
    "Divergencia nevlastného integrálu $$\\displaystyle\\int_{1}^{\\infty}f(x)$$ neznamená automaticky, že $$\\lim\\limits_{x\\to\\infty}f(x)\\neq0$$ Existujú funkcie, ktorých nevlastný integrál diverguje, ale limita funkcie v nekonečne je nula.  \n",
    "\n",
    "Príkladom takejto funkcie je $$f(x)=\\frac{1}{x} \\,  \\text{na intervale} \\, [1,\\infty)$$\n",
    "$$\\lim\\limits_{x\\to\\infty}\\frac{1}{x}=0$$\n",
    "Ale $$\\displaystyle\\int_{1}^{\\infty}\\frac{1}{x}dx = \\lim\\limits_{b\\to\\infty}\\ln(b) = \\infty$$, čo znamená, že **integrál diverguje**.  \n",
    "Tento príklad ukazuje, že aj keď funkcia konverguje k nule v nekonečne, jej  nevlastný  integrál môže divergovať. "
   ]
  },
  {
   "cell_type": "markdown",
   "metadata": {},
   "source": [
    "---\n",
    "\n",
    "#### 3. Ak je $f(x)$ kladná, periodická funkcia, potom platí, že $\\displaystyle\\int_{0}^{\\infty}f(x)\\,\\mathrm{d}x$ diverguje. \n",
    "\n",
    "<font color=blue> a) Áno    </font>   \n",
    "b) Nie \n",
    "  \n",
    "<ins> Vysvetlenie: </ins>    \n",
    "Ak je $f(x)$ kladná a periodická funkcia, znamená to, že sa jej priebeh opakuje v pravidelných intervaloch a vždy nadobúda kladné hodnoty. To má za následok, že plocha pod krivkou $f(x)$ v každej perióde je kladná a konštantná.  \n",
    "\n",
    "Ak je $f(x)$ kladná a periodická funkcia s periódou $T$, môžeme integrál rozdeliť na nekonečný súčet integrálov cez jednotlivé periódy:\n",
    "$$\\int_{0}^{\\infty}f(x)\\,\\mathrm{d}x = \\lim_{n\\to\\infty}\\sum_{k=0}^{n-1}\\int_{kT}^{(k+1)T}f(x)\\,\\mathrm{d}x$$\n",
    "\n",
    "Keďže $f(x)$ je periodická s periódou $T$, platí:\n",
    "$$\\int_{kT}^{(k+1)T}f(x)\\,\\mathrm{d}x = \\int_{0}^{T}f(x)\\,\\mathrm{d}x = C$$\n",
    "kde $C$ je kladná konštanta (pretože $f(x)$ je kladná funkcia).\n",
    "\n",
    "Teraz môžeme integrál prepísať ako:\n",
    "$$\\int_{0}^{\\infty}f(x)\\,\\mathrm{d}x = \\lim_{n\\to\\infty}\\sum_{k=0}^{n-1}C = \\lim_{n\\to\\infty}nC$$\n",
    "\n",
    "Keďže $C$ je kladná konštanta a $n$ rastie do nekonečna, tento limit diverguje. To znamená, že pôvodný integrál $$\\int_{0}^{\\infty}f(x)\\,\\mathrm{d}x$$ musí divergovať.\n",
    "\n",
    "Tento prístup jasne ukazuje, že súčet nekonečne mnohých rovnakých kladných hodnôt (plôch pod krivkou v každej perióde) nevyhnutne vedie k divergencii integrálu. Na rozdiel od klesajúcich funkcií, kde plochy môžu byť postupne menšie a menšie (ako v prípade $1/x^2$), tu máme zaručené, že každá ďalšia perióda prispeje rovnakou kladnou hodnotou, čo vedie k neobmedzenému rastu integrálu."
   ]
  },
  {
   "cell_type": "markdown",
   "metadata": {},
   "source": [
    "---\n",
    "\n",
    "#### 4. Ak $\\displaystyle\\int_{0}^{\\infty}f(x)\\,\\mathrm{d}x$ konverguje a súčasne  $\\displaystyle\\int_{0}^{\\infty}g(x)\\,\\mathrm{d}x$ konverguje, potom aj  $\\displaystyle\\int_{0}^{\\infty}\\left(f(x)+g(x)\\right)\\,\\mathrm{d}x$ konverguje. \n",
    "\n",
    "<font color=blue> a) Áno    </font>   \n",
    "b) Nie  \n",
    "  \n",
    "<ins> Vysvetlenie: </ins>   \n",
    "Ak konvergujú integrály $$\\displaystyle\\int_{0}^{\\infty} f(x) \\, \\mathrm{d}x , \\displaystyle\\int_{0}^{\\infty} g(x) \\, \\mathrm{d}x$$, potom aj integrál $$\\displaystyle\\int_{0}^{\\infty} (f(x) + g(x)) \\, \\mathrm{d}x=\\displaystyle\\int_{0}^{\\infty} f(x) \\, \\mathrm{d}x+\\displaystyle\\int_{0}^{\\infty} g(x) \\, \\mathrm{d}x$$ konverguje, pretože ak sú obidva integrály konvergentné, môžeme ich hodnoty sčítať. To znamená, že ak existujú konečné hodnoty $A$ a $B$ pre integrály $f(x)$ a $g(x)$, potom:\n",
    "\n",
    "$$ \\lim_{b \\to \\infty} \\int_{0}^{b} f(x) \\, \\mathrm{d}x = A $$\n",
    "$$\\lim_{b \\to \\infty} \\int_{0}^{b} g(x) \\, \\mathrm{d}x = B $$\n",
    "Tým pádom:\n",
    "$$\\lim_{b \\to \\infty} \\int_{0}^{b} (f(x) + g(x)) \\, \\mathrm{d}x = \\lim_{b \\to \\infty} \\int_{0}^{b} f(x) \\, \\mathrm{d}x+\\lim_{b \\to \\infty} \\int_{0}^{b}  g(x) \\, \\mathrm{d}x= A + B $$\n",
    "Preto platí, že ak obidva integrály konvergujú, aj ich súčet musí konvergovať.\n",
    "\n",
    "Z hľadiska geometrickej interpretácie si to môžeme predstaviť ako plochy pod krivkami. Ak je plocha pod krivkou $f(x)$ konečná a plocha pod krivkou $g(x)$ je tiež konečná, potom ich súčet - plocha pod krivkou $(f(x) + g(x))$ - musí byť tiež konečný. Inými slovami, ak máme dve ohraničené plochy a sčítame ich, výsledná plocha bude tiež ohraničená."
   ]
  },
  {
   "cell_type": "markdown",
   "metadata": {},
   "source": [
    "---\n",
    "\n",
    "#### 5. Ak platí $0\\le f(x)\\le g(x)$ a $\\displaystyle\\int_{0}^{\\infty}g(x)\\,\\mathrm{d}x$ diverguje, potom podľa porovnávacieho kritéria $\\displaystyle\\int_{0}^{\\infty}f(x)\\,\\mathrm{d}x$ diverguje.\n",
    "\n",
    "a) Áno     \n",
    "<font color=blue> b) Nie </font>  \n",
    "  \n",
    "<ins> Vysvetlenie: </ins>    \n",
    "Divergencia integrálu $\\displaystyle\\int_{0}^{\\infty}g(x),\\mathrm{d}x$ nezaručuje automaticky divergenciu integrálu $\\displaystyle\\int_{0}^{\\infty}f(x),\\mathrm{d}x$, aj keď platí $0 \\le f(x) \\le g(x)$. \n",
    "\n",
    "Kontrapríklad:  \n",
    "Funkcie $f(x) = \\frac{1}{x^2}$ a $g(x) = \\frac{1}{x}$ na intervale $[1,\\infty)$.  \n",
    "\n",
    "Platí $0 \\le f(x) \\le g(x)$ pre všetky $x \\ge 1$\n",
    "$\\displaystyle\\int_{1}^{\\infty}\\frac{1}{x}dx$ diverguje.\n",
    "Ale $\\displaystyle\\int_{1}^{\\infty}\\frac{1}{x^2}dx$ konverguje.  \n",
    "\n",
    "Tento príklad ukazuje, že aj keď funkcia $g(x)$ má divergentný integrál, funkcia $f(x)$, ktorá je menšia alebo rovná $g(x)$, môže mať konvergentný integrál.\n",
    "\n",
    "Z hľadiska plôch si to môžeme predstaviť tak, že plocha pod krivkou $g(x)$ je nekonečná, ale plocha pod krivkou $f(x)$ môže byť konečná, aj keď je všade pod $g(x)$. Je to preto, že $f(x)$ môže klesať k nule oveľa rýchlejšie ako $g(x)$.\n",
    "\n",
    "Porovnávacie kritérium pre integrály funguje podobne ako pre nekonečné rady. Ak $\\displaystyle\\int_{0}^{\\infty}f(x),\\mathrm{d}x$ diverguje, potom aj $\\displaystyle\\int_{0}^{\\infty}g(x),\\mathrm{d}x$ diverguje pre $0 \\le f(x) \\le g(x)$. Avšak opačná implikácia neplatí, čo je práve prípad v našom tvrdení.\n",
    "\n",
    "Toto je analogické s nekonečnými radmi, kde konvergencia radu $\\sum_{n=1}^{\\infty}a_n$ implikuje konvergenciu radu $\\sum_{n=1}^{\\infty}b_n$ pre $0 \\le b_n \\le a_n$, ale divergencia radu $\\sum_{n=1}^{\\infty}a_n$ neimplikuje divergenciu radu $\\sum_{n=1}^{\\infty}b_n$."
   ]
  }
 ],
 "metadata": {
  "kernelspec": {
   "display_name": "SageMath 9.3",
   "language": "sage",
   "name": "sagemath"
  },
  "language_info": {
   "codemirror_mode": {
    "name": "ipython",
    "version": 3
   },
   "file_extension": ".py",
   "mimetype": "text/x-python",
   "name": "python",
   "nbconvert_exporter": "python",
   "pygments_lexer": "ipython3",
   "version": "3.7.10"
  }
 },
 "nbformat": 4,
 "nbformat_minor": 4
}

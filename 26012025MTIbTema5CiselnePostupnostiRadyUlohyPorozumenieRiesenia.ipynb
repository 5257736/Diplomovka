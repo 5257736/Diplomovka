{
 "cells": [
  {
   "cell_type": "markdown",
   "metadata": {},
   "source": [
    "**Autori:** Andrej Gajdoš, Dagmara Lopatková  <br> \n",
    "*[Ústav matematiky](https://www.upjs.sk/prirodovedecka-fakulta/ustav/umv/), [Prírodovedecká fakulta](https://www.upjs.sk/prirodovedecka-fakulta/), Univerzita Pavla Jozefa Šafárika v Košiciach,* <br> \n",
    "email: [andrej.gajdos@upjs.sk](mailto:andrej.gajdos@upjs.sk)\n",
    "\n",
    "***\n",
    "\n",
    "**<font size=6 color=blue> MTIb: Téma 5 - Číselné postupnosti a rady </font>** "
   ]
  },
  {
   "cell_type": "markdown",
   "metadata": {},
   "source": [
    "---\n",
    "\n",
    "#### 1. Postupnosť $\\left\\{a_n\\right\\}_{n=1}^{\\infty}$, ktorej $n$-tý člen je daný predpisom $a_n=\\dfrac{3n+10}{7n+3}$ a prvé štyri členy sú $\\dfrac{13}{10}, \\dfrac{16}{17}, \\dfrac{19}{24}, \\dfrac{22}{31}, \\ldots$, konverguje k $0$ lebo jej členy sú stále menšie a menšie.\n",
    "\n",
    "a) Áno  \n",
    "<font color=blue> b) Nie </font>  \n",
    "  \n",
    "<ins> Vysvetlenie: </ins>    \n",
    "Postupnosť $a_n=\\frac{3n+10}{7n+3}$ síce má klesajúce členy, ale to samo o sebe neznamená, že konverguje k 0.\n",
    "Môžeme určiť limitu tejto postupnosti:\n",
    "$$\\lim\\limits_{n\\to\\infty} \\frac{3n+10}{7n+3} = \\lim\\limits_{n\\to\\infty} \\frac{3+\\frac{10}{n}}{7+\\frac{3}{n}} = \\frac{3}{7}$$\n",
    "Postupnosť konverguje k hodnote $\\frac{3}{7}$, nie k 0.\n",
    "To, že postupnosť je klesajúca, neznamená automaticky, že konverguje k 0. Postupnosť môže byť klesajúca a konvergovať k ľubovoľnému reálnemu číslu, ktoré je menšie ako jej prvý člen."
   ]
  },
  {
   "cell_type": "markdown",
   "metadata": {},
   "source": [
    "---\n",
    "\n",
    "#### 2. Monotónna (rastúca/klesajúca) postupnosť nemôže mať kladné aj záporné členy súčasne.\n",
    "\n",
    "a) Áno  \n",
    "<font color=blue> b) Nie </font>   \n",
    "\n",
    "<ins> Vysvetlenie: </ins>  \n",
    "Monotónna postupnosť je postupnosť, ktorá buď rastie, alebo klesá. Ak je postupnosť rastúca, každý ďalší člen je väčší alebo rovný predchádzajúcemu. Ak je postupnosť klesajúca, každý ďalší člen je menší alebo rovný predchádzajúcemu. Monotónna postupnosť teda môže mať kladné aj záporné členy súčasne, ak postupnosť napríklad začne s kladným číslom a postupne klesá do záporných hodnôt, alebo naopak.\n",
    "\n",
    "Napríklad klesajúca postupnosť:  \n",
    "$a_n = 3 - n$ pre $n \\geq 1$  \n",
    "\n",
    "Prvých 5 členov postupnosti:  \n",
    "$a_1 = 2$ (kladné)  \n",
    "$a_2 = 1$ (kladné)  \n",
    "$a_3 = 0$  \n",
    "$a_4 = -1$ (záporné)  \n",
    "$a_5 = -2$ (záporné)  \n",
    "\n",
    "Táto postupnosť je klesajúca a obsahuje kladné aj záporné členy súčasne."
   ]
  },
  {
   "cell_type": "markdown",
   "metadata": {},
   "source": [
    "---\n",
    "\n",
    "#### 3. Ak sú všetky členy konvergentnej postupnosti kladné, potom aj limita tejto postupnosti musí byť kladná.\n",
    "\n",
    "a) Áno  \n",
    "<font color=blue> b) Nie </font>   \n",
    "  \n",
    "<ins> Vysvetlenie: </ins>   \n",
    "Príklad takejto postupnosti:   \n",
    "Postupnosť $a_n = \\frac{1}{n}$ pre $n ≥ 1$, všetky členy postupnosti sú kladné a limita postupnosti je 0 $\\lim\\limits_{n\\to\\infty} \\frac{1}{n} = 0$."
   ]
  },
  {
   "cell_type": "markdown",
   "metadata": {},
   "source": [
    "---\n",
    "\n",
    "#### 4. Ak postupnosť $\\{a_n\\}_{n=1}^{\\infty}$ konverguje, potom rad tvorený členmi tejto postupnosti $\\sum\\limits_{n=1}^{\\infty}a_n$ je \n",
    "\n",
    "a) konvergentný  \n",
    "<font color=blue> b) divergentný </font>  \n",
    "c) osciluje\n",
    "\n",
    "  \n",
    "<ins> Vysvetlenie: </ins>  \n",
    "Konvergencia postupnosti nezaručuje konvergenciu radu. Klasickým protipríkladom je harmonická postupnosť:\n",
    "$$a_n = \\frac{1}{n}$$\n",
    "**Postupnosť konverguje k 0**:\n",
    "$$\\lim\\limits_{n\\to\\infty} \\frac{1}{n} = 0$$\n",
    "Ale **harmonický rad diverguje**:\n",
    "$$\\sum\\limits_{n=1}^{\\infty} \\frac{1}{n} = 1 + \\frac{1}{2} + \\frac{1}{3} + \\frac{1}{4} + ...$$\n",
    "\n",
    "Teda aj keď postupnosť konverguje k nule, súčet jej členov môže rásť do nekonečna. Preto konvergencia postupnosti **nie je postačujúcou podmienkou pre konvergenciu radu**."
   ]
  },
  {
   "cell_type": "markdown",
   "metadata": {},
   "source": [
    "---\n",
    "\n",
    "#### 5. Ak rad konverguje, potom aj postupnosť jeho čiastočných súčtov \n",
    "\n",
    "<font color=blue> a) konverguje </font>   \n",
    "b) diverguje  \n",
    "c) osciluje \n",
    " \n",
    "  \n",
    "<ins> Vysvetlenie: </ins>   \n",
    "Vyplýva to priamo z **Definície 7** konvergencie radu."
   ]
  },
  {
   "cell_type": "markdown",
   "metadata": {},
   "source": [
    "---\n",
    "\n",
    "#### 6. Rad $\\sum\\limits_{n=1}^{\\infty}2^{(-1)^{n}}$ je konvergentný.\n",
    "\n",
    "a) Áno  \n",
    "<font color=blue> b) Nie </font>  \n",
    "  \n",
    "<ins> Vysvetlenie: </ins>    \n",
    "Rad nie je konvergentný z dvoch dôvodov: \n",
    "1. Členy radu sa striedajú medzi hodnotami $2^{-1} = \\frac{1}{2}$ (pre nepárne n) a $2^1 = 2$ (pre párne n). Keďže limita postupnosti členov radu neexistuje (postupnosť osciluje medzi $\\frac{1}{2}$ a $2$), nie je splnená nutná podmienka konvergencie radu.  \n",
    "2. Súčet členov radu rastie do nekonečna, pretože každý druhý člen pridáva hodnotu 2, ktorá prevyšuje zmenšenie o $\\frac{1}{2}$ v predchádzajúcom kroku. Teda rad diverguje k nekonečnu."
   ]
  },
  {
   "cell_type": "markdown",
   "metadata": {},
   "source": [
    "---\n",
    "\n",
    "#### 7. Ktorý z uvedených radov je geometrický?\n",
    "\n",
    "a) $1 − 1/2 + 1/4 − 1/6 + \\ldots$;  \n",
    "<font color=blue> b) $2y-6y^3+18y^5-54y^7+\\ldots$ </font>     \n",
    "c) $1/2 + 2/3 + 3/4 + 5/6 + \\ldots$;    \n",
    "d) $x+x^2+x^4+x^7+\\ldots$.    \n",
    "  \n",
    "<ins> Vysvetlenie: </ins>  \n",
    "- V možnosti a) nie je konštantný podiel medzi susednými členmi.  \n",
    "- V možnosti b) vidíme, že každý nasledujúci člen dostaneme vynásobením predchádzajúceho člena konštantou $-3y^2$. Preto je tento rad geometrický s kvocientom $q = -3y^2$. (**Definícia 8**)  \n",
    "- V možnosti c) nie je konštantný podiel medzi susednými členmi.  \n",
    "- V možnosti d) exponenty nerastú geometricky.\n"
   ]
  },
  {
   "cell_type": "markdown",
   "metadata": {},
   "source": [
    "---\n",
    "\n",
    "#### 8. Ak rad $\\sum\\limits_{n=1}^{\\infty}a_n$ konverguje, tak s rastúcim $n$ sa členy $a_n$ blížia k $0$. \n",
    "\n",
    "  \n",
    "<font color=blue> a) Áno </font>   \n",
    "b) Nie   \n",
    "  \n",
    "<ins> Vysvetlenie: </ins>    \n",
    "Ak rad $\\sum\\limits_{n=1}^{\\infty}a_n$ konverguje, potom sa jeho členy $a_n$ musia blížiť k **nule**. Toto je nutná podmienka konvergencie radu ( **Veta 5**). Ak rad konverguje, znamená to, že postupnosť jeho čiastočných súčtov konverguje k nejakému konečnému číslu, konkrétnejšie v našom prípade $\\lim\\limits_{n \\to \\infty} a_n = 0$."
   ]
  },
  {
   "cell_type": "markdown",
   "metadata": {},
   "source": [
    "---\n",
    "\n",
    "#### 9. Ak rad $\\sum\\limits_{n=1}^{\\infty}a_n$ je divergentný a tiež ak rad $\\sum\\limits_{n=1}^{\\infty}b_n$ je divergentný, potom aj rad $\\sum\\limits_{n=1}^{\\infty}a_nb_n$ je divergentný. \n",
    "\n",
    "  \n",
    "a) Áno   \n",
    "<font color=blue>  b) Nie   </font>   \n",
    "  \n",
    "<ins> Vysvetlenie:  </ins>   \n",
    "Kontrapríklad:     \n",
    "Nech $a_n = \\frac{1}{n}$ a $b_n = \\frac{1}{n}$.\n",
    "Oba harmonické rady divergujú.\n",
    "Ale ich súčin $\\sum\\limits_{n=1}^{\\infty}\\frac{1}{n^2}$ je harmonický rad, ktorý konverguje. Teda súčin členov dvoch divergentných radov môže vytvoriť konvergentný rad.\n"
   ]
  },
  {
   "cell_type": "markdown",
   "metadata": {},
   "source": [
    "---\n",
    "\n",
    "#### 10. Ak platí $\\forall n\\in\\mathbb{N}:\\,0\\le a_n\\le b_n$ a rad $\\sum\\limits_{n=1}^{\\infty}a_n$ je konvergentný, potom aj rad $\\sum\\limits_{n=1}^{\\infty}b_n$ konverguje.\n",
    "\n",
    "  \n",
    "a) Áno   \n",
    "<font color=blue>  b) Nie   </font> \n",
    "  \n",
    "<ins> Vysvetlenie: </ins>   \n",
    "Kontrapríklad:   \n",
    "Nech $a_n = \\frac{1}{n^2}$ a $b_n = \\frac{1}{n}$.   \n",
    "Platí $0 \\leq \\frac{1}{n^2} \\leq \\frac{1}{n}$ pre všetky $n ≥ 1$.  \n",
    "Rad $\\sum\\limits_{n=1}^{\\infty}\\frac{1}{n^2}$ konverguje.  \n",
    "Ale rad $\\sum\\limits_{n=1}^{\\infty}\\frac{1}{n}$ (harmonický rad) diverguje.  \n",
    "\n",
    "Tento príklad ilustruje, že nerovnosť medzi členmi postupnosti nezaručuje rovnaké správanie sa ich radov z hľadiska konvergencie.  \n",
    "\n",
    "Toto súvisí s porovnávacím kritériom (**Veta 6, Dôsledok 2**). Intuitívne - ak rad s menšími členmi má nekonečný súčet, tak rad s väčšími členmi musí mať tiež nekonečný súčet. Avšak konvergencia \"menšieho\" radu nezaručuje konvergenciu \"väčšieho\" radu."
   ]
  },
  {
   "cell_type": "markdown",
   "metadata": {},
   "source": [
    "---\n",
    "\n",
    "#### 11. Ak platí $\\forall n\\in\\mathbb{N}:\\,0\\le a_n\\le b_n$ a rad $\\sum\\limits_{n=1}^{\\infty}a_n$ diverguje, potom aj rad $\\sum\\limits_{n=1}^{\\infty}b_n$ diverguje\n",
    "\n",
    "  \n",
    "<font color=blue> a) Áno </font>   \n",
    "b) Nie   \n",
    "  \n",
    "<ins> Vysvetlenie: </ins>  \n",
    "Keďže $a_n \\leq b_n$ pre všetky n, čiastočné súčty radu $\\sum b_n$ sú väčšie alebo rovné čiastočným súčtom radu $\\sum a_n$. Ak rad $\\sum a_n$ diverguje, jeho čiastočné súčty rastú nad všetky medze. Keďže čiastočné súčty radu $\\sum b_n$ sú ešte väčšie, musia tiež rásť nad všetky medze. Preto aj rad $\\sum b_n$ musí divergovať.\n",
    "Toto je príklad tzv. porovnávacieho kritéria (**Veta 6**) pre divergenciu radov."
   ]
  },
  {
   "cell_type": "markdown",
   "metadata": {},
   "source": [
    "---\n",
    "\n",
    "#### 12. Ak rad $\\displaystyle\\sum\\limits_{k=1}^{\\infty}a_k$ konverguje, potom aj rad $\\displaystyle\\sum\\limits_{n=1}^{\\infty}|a_n|$ konverguje.\n",
    "\n",
    "a) Áno  \n",
    "<font color=blue> b) Nie </font>   \n",
    "\n",
    "  \n",
    "<ins> Vysvetlenie: </ins>   \n",
    "Kontrapríklad:    \n",
    "alternujúci harmonický rad $\\displaystyle\\sum\\limits_{k=1}^{\\infty}\\frac{(-1)^{k-1}}{k}=\\ln2$, ale už tento $\\displaystyle\\sum\\limits_{k=1}^{\\infty}|\\frac{(-1)^{k-1}}{k}|=\\infty$ diverguje. "
   ]
  }
 ],
 "metadata": {
  "kernelspec": {
   "display_name": "SageMath 9.3",
   "language": "sage",
   "name": "sagemath"
  },
  "language_info": {
   "codemirror_mode": {
    "name": "ipython",
    "version": 3
   },
   "file_extension": ".py",
   "mimetype": "text/x-python",
   "name": "python",
   "nbconvert_exporter": "python",
   "pygments_lexer": "ipython3",
   "version": "3.7.10"
  }
 },
 "nbformat": 4,
 "nbformat_minor": 4
}

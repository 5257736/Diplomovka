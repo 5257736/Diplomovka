{
 "cells": [
  {
   "cell_type": "markdown",
   "metadata": {},
   "source": [
    "**Autori:** Andrej Gajdoš, Dagmara Lopatková  <br> \n",
    "*[Ústav matematiky](https://www.upjs.sk/prirodovedecka-fakulta/ustav/umv/), [Prírodovedecká fakulta](https://www.upjs.sk/prirodovedecka-fakulta/), Univerzita Pavla Jozefa Šafárika v Košiciach,* <br> \n",
    "email: [andrej.gajdos@upjs.sk](mailto:andrej.gajdos@upjs.sk)\n",
    "\n",
    "***\n",
    "\n",
    "**<font size=6 color=blue> MTIb: Téma 10 - Funkcie viacerých premenných II. </font>** "
   ]
  },
  {
   "cell_type": "markdown",
   "metadata": {},
   "source": [
    "---\n",
    "\n",
    "#### 1. Ak funkcia $f(x,y)$ má limitu pre $[x,y]\\to[x_0,y_0]$, potom $f$ je spojitá v bode $[x_0,y_0]$. \n",
    "\n",
    "a) Áno     \n",
    "<font color=blue> b) Nie </font>  \n",
    "  \n",
    "<ins> Vysvetlenie: </ins>    \n",
    "Pre spojitosť funkcie v bode $[x₀,y₀]$ musia byť splnené dve podmienky (**Definícia 2**):\n",
    "1. Funkcia musí mať limitu v bode $[x₀,y₀]$.\n",
    "2. Funkcia musí byť v bode $[x₀,y₀]$ definovaná a hodnota funkcie v tomto bode sa musí rovnať limite.  \n",
    "\n",
    "Preto samotná existencia limity nezaručuje spojitosť funkcie v danom bode.\n"
   ]
  },
  {
   "cell_type": "markdown",
   "metadata": {},
   "source": [
    "---\n",
    "\n",
    "#### 2. Ak sú funkcie $f$, $g$ spojité v bode $[x_0,y_0]$, potom sú v tomto bode spojité aj funkcie $f\\pm g$, $f\\cdot g$ a $f/g$.\n",
    "\n",
    "a) Áno     \n",
    "<font color=blue> b) Nie </font> \n",
    "  \n",
    "<ins> Vysvetlenie: </ins>   \n",
    "Zatiaľ čo súčet, rozdiel a súčin spojitých funkcií je vždy spojitý, pre podiel to neplatí. Pri podiele funkcií $\\frac{f}{g}$ musí byť splnená dodatočná podmienka, že $g(x₀,y₀) \\ne 0$, inak podiel nie je v bode $[x₀,y₀]$ definovaný a teda nemôže byť spojitý. \n",
    "\n",
    "Táto vlastnosť je analogická s funkciami jednej reálnej premennej. Intuitívne si to môžeme predstaviť tak, že ak grafy funkcií $f$ a $g$ nemajú skoky ani trhliny, tak ani ich súčet, rozdiel či súčin nebude mať takéto nespojitosti. Nemajú totiž ako vzniknúť, keďže operácie sčítania, odčítania a násobenia zachovávajú spojitosť.\n",
    "\n",
    "Pri delení však môže nastať situácia, kedy menovateľ nadobúda nulovú hodnotu, čo vedie k nespojitosti alebo nedefinovanosti funkcie v danom bode. Preto je potrebné explicitne uviesť podmienku nenulovosti menovateľa pre zachovanie spojitosti podielu funkcií."
   ]
  },
  {
   "cell_type": "markdown",
   "metadata": {},
   "source": [
    "---\n",
    "\n",
    "#### 3. Parciálna derivácia vzhľadom na premennú $y$ nie je definovaná v prípade, keď predpis funkcie $f$ neobsahuje premennú $y$ napr. $f(x,y)=x^2+5$.\n",
    "\n",
    "a) Áno     \n",
    "<font color=blue> b) Nie </font>  \n",
    "  \n",
    "<ins> Vysvetlenie: </ins>   \n",
    "Parciálna derivácia (**Definícia 3,4**) podľa premennej $y$ je definovaná aj v prípade, keď predpis funkcie neobsahuje premennú $y$. V takom prípade je parciálna derivácia podľa $y$ rovná $0$, pretože pri derivovaní podľa $y$ považujeme $x$ za konštantu a derivácia konštanty je $0$."
   ]
  },
  {
   "cell_type": "markdown",
   "metadata": {},
   "source": [
    "---\n",
    "\n",
    "#### 4. Ak $f_x(a,b)>0$, potom hodnoty funkcie $f$ v blízkosti bodu $[a,b]$ klesajú v smere zápornej časti osi $x$. \n",
    "\n",
    "<font color=blue> a) Áno    </font>   \n",
    "b) Nie     \n",
    "  \n",
    "<ins> Vysvetlenie: </ins>    \n",
    "(**Príklad 8**) Ak $f_x(a,b)>0$, znamená to, že parciálna derivácia $f$  podľa $x$ v bode $[a,b]$ je kladná. To naznačuje, že funkcia $f$  **rastie** v smere kladnej osi $x$ v blízkosti bodu $[a,b]$, a naopak **klesá** v smere zápornej osi $x$.  \n",
    "\n",
    "Je to podobné ako pri funkcii jednej premennej - ak je derivácia v bode kladná, funkcia v tom bode rastie v kladnom smere a klesá v zápornom smere.\n",
    "Parciálna derivácia $f_x(a,b) > 0$ vyjadruje rýchlosť rastu funkcie $f$ v smere osi $x$ v bode $[a,b]$, preto v opačnom smere musí funkcia klesať."
   ]
  },
  {
   "cell_type": "markdown",
   "metadata": {},
   "source": [
    "---\n",
    "\n",
    "#### 5. Ak pre funkciu $f$ v bode $[a,b]$ platí $f_x(a,b)=f_y(a,b)=0$, potom $f$ je konštantná všade. \n",
    "\n",
    "a) Áno     \n",
    "<font color=blue> b) Nie </font>  \n",
    "  \n",
    "<ins> Vysvetlenie: </ins>  \n",
    "(**Príklad 8**) Ak platí $f_x(a,b)=f_y(a,b)=0$ v bode $[a,b]$, znamená to len to, že funkcia $f$ má v tomto bode **stacionárny bod** (lokálne minimum  alebo  maximum alebo sedlový bod).  \n",
    "\n",
    "Nulovosť parciálnych derivácií v jednom bode neznamená, že funkcia je konštantná všade.   \n",
    "\n",
    "Napríklad funkcia $f(x,y)=x^2+y^2$ má v bode $[0,0]$ obe parciálne derivácie nulové ($f_x(0,0)=f_y(0,0)=0$), ale funkcia nie je konštantná - ide o paraboloid, ktorý má v bode $[0,0]$ globálne minimum."
   ]
  },
  {
   "cell_type": "markdown",
   "metadata": {},
   "source": [
    "---\n",
    "\n",
    "#### 6. Ak pre funkciu $f(x,y)$ platí $f_y(x,y)=0$, tak $f$ musí byť konštantná funkcia.\n",
    "\n",
    "a) Áno     \n",
    "<font color=blue> b) Nie </font>  \n",
    "  \n",
    "<ins> Vysvetlenie: </ins>   \n",
    "Ak pre funkciu $ f(x, y) $ platí $ f_y(x, y) = 0 $, znamená to, že parciálna derivácia podľa $ y $ je nulová. To naznačuje, že $ f(x, y)$ sa **nemení** so zmenou $ y $, čo znamená, že $ f(x, y) $ závisí iba od $ x $.\n",
    "\n",
    "Funkcia však nemusí byť **konštantná**, pretože stále môže závisieť od $ x $.\n",
    "Napríklad:  \n",
    "$f(x, y) = x^2 $ má $ f_y(x, y) = 0 $, ale **nie je konštantná**.\n",
    "\n",
    "Funkcia nemusí byť konštantná, stačí, že je nezávislá od $ y $."
   ]
  }
 ],
 "metadata": {
  "kernelspec": {
   "display_name": "SageMath 9.3",
   "language": "sage",
   "name": "sagemath"
  },
  "language_info": {
   "codemirror_mode": {
    "name": "ipython",
    "version": 3
   },
   "file_extension": ".py",
   "mimetype": "text/x-python",
   "name": "python",
   "nbconvert_exporter": "python",
   "pygments_lexer": "ipython3",
   "version": "3.7.10"
  }
 },
 "nbformat": 4,
 "nbformat_minor": 4
}

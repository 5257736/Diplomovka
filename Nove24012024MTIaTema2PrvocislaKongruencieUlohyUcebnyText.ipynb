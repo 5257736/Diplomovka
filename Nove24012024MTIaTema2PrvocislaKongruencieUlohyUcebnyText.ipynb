{
 "cells": [
  {
   "cell_type": "markdown",
   "metadata": {},
   "source": [
    "**Autori:** Andrej Gajdoš, Dagmara Lopatková  <br> \n",
    "*[Ústav matematiky](https://www.upjs.sk/prirodovedecka-fakulta/ustav/umv/), [Prírodovedecká fakulta](https://www.upjs.sk/prirodovedecka-fakulta/), Univerzita Pavla Jozefa Šafárika v Košiciach,* <br> \n",
    "email: [andrej.gajdos@upjs.sk](mailto:andrej.gajdos@upjs.sk)\n",
    "***\n",
    "**_Tento materiál vznikol za podpory grantu VVGS-2021-1758._** \n",
    "*** \n",
    "\n",
    "**<font size=6 color=blue> MTIa: Téma 2 - Prvočísla a kongruencie: úlohy k učebnému textu </font>**"
   ]
  },
  {
   "cell_type": "markdown",
   "metadata": {},
   "source": [
    "---\n",
    "\n",
    "**1. Koľko rôznych deliteľov má číslo $48$, ak nerátame $1$ a $48$? Odpoveď zdôvodnite.**"
   ]
  },
  {
   "cell_type": "markdown",
   "metadata": {},
   "source": [
    "<ins> Riešenie: </ins>  \n",
    "\n",
    "Pomocou funkcie `divisors` v Sage, vieme zistiť všetkých deliteľov čísla $48$."
   ]
  },
  {
   "cell_type": "code",
   "execution_count": 2,
   "metadata": {},
   "outputs": [
    {
     "data": {
      "text/plain": [
       "[[1, 2, 3, 4, 6, 8, 12, 16, 24, 48]]"
      ]
     },
     "execution_count": 2,
     "metadata": {},
     "output_type": "execute_result"
    }
   ],
   "source": [
    "z = [48]\n",
    "[divisors(i) for i in z]"
   ]
  },
  {
   "cell_type": "markdown",
   "metadata": {},
   "source": [
    "Číslo $48$ má dokopy $10$ rôznych deliteľov. Keďže v zadaní je povedané, že neberieme do úvahy $1$ a $48$. Takže číslo $48$ má $\\mathbf{8}$ rôznych deliteľov (bez $1$ a $48$). "
   ]
  },
  {
   "cell_type": "markdown",
   "metadata": {},
   "source": [
    "---\n",
    "\n",
    "**2. Ilustrujte Tvrdenie 3 časť 2. na príklade s konkrétnymi číslami (inšpirujte príkladom v učebnom texte). Inými slovami, nájdite konkrétne celé čísla $a,b,c,d,m$ také, aby platila vlastnosť 2 (vysvetlite, prečo platí).**"
   ]
  },
  {
   "cell_type": "markdown",
   "metadata": {},
   "source": [
    "<ins> Riešenie: </ins>  \n",
    "\n",
    "V Tvrdení 3 časť 2. položme $a=11,b=1,c=7,d=2,m=5$. Zrejme platí $11\\equiv 1\\,\\,(\\mathrm{mod}\\,\\,5)$ a tiež $7\\equiv 2\\,\\,(\\mathrm{mod}\\,\\,5)$. Keď uvedené kongruencie sčítame, dostaneme, že by malo platiť  \n",
    "\n",
    "$$11\\cdot7\\equiv1\\cdot2\\,\\,(\\mathrm{mod}\\,\\,5),$$ \n",
    "\n",
    "čo je po úprave to isté ako \n",
    "\n",
    "$$77\\equiv2\\,\\,(\\mathrm{mod}\\,\\,5)$$ \n",
    "\n",
    "a to zrejme patí, lebo $5\\mid(77-2)$ resp. $77$ a $2$ dávajú rovnaký zvyšok po delení číslom $5$. "
   ]
  },
  {
   "cell_type": "markdown",
   "metadata": {},
   "source": [
    "--- \n",
    "\n",
    "**3. Vymyslite vlastné príklady a ilustrujte Poznámku 4. Inšpirujte sa príkladmi v učebnom texte.**"
   ]
  },
  {
   "cell_type": "markdown",
   "metadata": {},
   "source": [
    "<ins> Riešenie: </ins>  \n",
    "\n",
    "Poznámka 4:   \n",
    "Ak $ac\\equiv bc\\,\\,(\\mathrm{mod}\\,\\,m)$ tak nemusí vždy platiť aj $a\\equiv b\\,\\,(\\mathrm{mod}\\,\\,m)$. \n",
    "\n",
    "\n",
    "Tiež aj $uv\\equiv 0\\,\\,(\\mathrm{mod}\\,\\,m)$ ale $u\\not\\equiv 0\\,\\,(\\mathrm{mod}\\,\\,m)$ a tiež $v\\not\\equiv 0\\,\\,(\\mathrm{mod}\\,\\,m)$.\n",
    "\n",
    "\n",
    "**Ilustrácia Poznámky 4 na konkrétnych príkladoch:**  \n",
    "$6\\cdot 4\\equiv 12\\cdot 4\\,\\,(\\mathrm{mod}\\,\\,12)$ ale $6\\not\\equiv 12 \\,\\,(\\mathrm{mod}\\,\\,12)$.  \n",
    "\n",
    "$5\\cdot4\\equiv 0\\,\\,(\\mathrm{mod}\\,\\,10)$ ale $5\\not\\equiv 0\\,\\,(\\mathrm{mod}\\,\\,10)$ a $4\\not\\equiv 0\\,\\,(\\mathrm{mod}\\,\\,10)$"
   ]
  },
  {
   "cell_type": "markdown",
   "metadata": {},
   "source": [
    "---\n",
    "\n",
    "**4. Vymyslite konkrétne príklady a ilustrujte použitie Tvrdenia 4.**"
   ]
  },
  {
   "cell_type": "markdown",
   "metadata": {},
   "source": [
    "<ins> Riešenie: </ins>  \n",
    "\n",
    "Nech $a,b,d,m\\in\\mathbb{Z}$ a platí $a\\equiv b\\,\\,(\\mathrm{mod}\\,\\,m)$. \n",
    "1. Ak $d$ je spoločný deliteľ čísel $a,b,m$ t.j. $d\\in D(a,b,m)$, potom $\\dfrac{a}{d}\\equiv \\dfrac{b}{d}\\,\\,\\left(\\mathrm{mod}\\,\\,\\dfrac{m}{d}\\right)$. \n",
    "\n",
    "2. Ak $d$ je spoločný deliteľ čísel $a,b$ t.j. $d\\in D(a,b)$ taký, že $(d,m)=1$, potom $\\dfrac{a}{d}\\equiv \\dfrac{b}{d}\\,\\,\\left(\\mathrm{mod}\\,\\,m\\right)$. \n",
    "\n",
    "**Konkrétne príklady a ilustrácia Tvrdenia 4:** \n",
    "1. časť  \n",
    "$a=14,b=4,m=10$\n",
    "$$14\\equiv 4\\,\\,(\\mathrm{mod}\\,\\,10)$$   \n",
    "ak teraz si zoberieme $d=2$, kde $d \\in D(a,b,m)$ a využijeme časť 1 z Tvrdenia 4 dostaneme: \n",
    "\n",
    "$$\\dfrac{14}{2}\\equiv \\dfrac{4}{2}\\,\\,(\\mathrm{mod}\\,\\,\\dfrac{10}{2})$$   \n",
    "\n",
    "$$7\\equiv 2\\,\\,(\\mathrm{mod}\\,\\,5)$$  \n",
    "\n",
    "vidíme, že $5\\mid(7-2)$, resp. číslo $7$ a $2$ po delení $5$ majú rovnaký zvyšok   \n",
    "\n",
    "2. časť  \n",
    "$a=10,b=4,m=3$\n",
    "$$10\\equiv 4\\,\\,(\\mathrm{mod}\\,\\,3)$$\n",
    "ak teraz si zoberieme $d=2$, kde $d \\in D(a,b)$ a $(d,m)=1$ a využijeme časť 2 z Tvrdenia 4 dostaneme:  \n",
    "\n",
    "$$\\dfrac{10}{2}\\equiv \\dfrac{4}{2}\\,\\,(\\mathrm{mod}\\,\\,3)$$ \n",
    " \n",
    "$$5\\equiv 2\\,\\,(\\mathrm{mod}\\,\\,3)$$  \n",
    "\n",
    "vidíme, že $3\\mid(5-2)$, resp. číslo $5$ a $2$ po delení $3$ majú rovnaký zvyšok "
   ]
  },
  {
   "cell_type": "markdown",
   "metadata": {},
   "source": [
    "---\n",
    "\n",
    "**5. Overte riešenie Príkladu 2 pomocou Sage (podobne ako v Príklade 1).**"
   ]
  },
  {
   "cell_type": "markdown",
   "metadata": {},
   "source": [
    "<ins> Riešenie: </ins>  \n",
    "\n",
    "Príklad 2 je $$4\\cdot x\\equiv 3\\,\\,(\\mathrm{mod}\\,\\,19).$$\n",
    "\n",
    "Výpočet z Príkladu 2 môžeme v Sage overiť pomocou funkcie `solve_mod`. Sage nám vyhodí jedno konkrétne riešenie (prípadne viac navzájom nekongruentných riešení ak existujú), ale pri zápise všetkých riešení (celej množiny riešení) ešte musíme k nájdenému konkrétnemu riešeniu pripočítať všetky celočíselné násobky modulu tak, ako je to uvedené v Poznámke 5 t.j.  $\\{x_0+km,\\,\\,k\\in\\mathbb{Z} \\}$ alebo $x=x_0+km$ kde $k\\in\\mathbb{Z}$. "
   ]
  },
  {
   "cell_type": "code",
   "execution_count": 3,
   "metadata": {},
   "outputs": [
    {
     "data": {
      "text/html": [
       "<html><script type=\"math/tex; mode=display\">\\newcommand{\\Bold}[1]{\\mathbf{#1}}\\left[\\left(15\\right)\\right]</script></html>"
      ],
      "text/latex": [
       "$$\\newcommand{\\Bold}[1]{\\mathbf{#1}}\\left[\\left(15\\right)\\right]$$"
      ],
      "text/plain": [
       "[(15,)]"
      ]
     },
     "metadata": {},
     "output_type": "display_data"
    }
   ],
   "source": [
    "x = var('x') # zavedieme premennu x \n",
    "show(solve_mod(4*x == 3, 19)) # definujeme kongruenciu a zadame prislusny modul  "
   ]
  },
  {
   "cell_type": "markdown",
   "metadata": {},
   "source": [
    "V učebnom texte máme výsledok $$x\\equiv 15\\,\\,(\\mathrm{mod}\\,\\,19).$$ V predošlej bunde nám pomocou Sage funkcie vyšiel rovnaký výsledok, takže sme overili riešenie Príkladu 2. "
   ]
  },
  {
   "cell_type": "markdown",
   "metadata": {},
   "source": [
    "---\n",
    "\n",
    "**6. Vyriešte Príklad 2 pomocou Sage. Pomôžte si pri tom kódom z Príkladu 3.**\n"
   ]
  },
  {
   "cell_type": "markdown",
   "metadata": {},
   "source": [
    "<ins> Riešenie: </ins>  \n",
    "\n",
    "\n",
    "### <font color=red> TAKÉ SME NEPOČÍTALI S x^2, veľmi neviem ako to okomentovať </font>"
   ]
  },
  {
   "cell_type": "code",
   "execution_count": null,
   "metadata": {
    "scrolled": true
   },
   "outputs": [],
   "source": [
    "[x for x in range(19) if (4*x) % 19 == 3]"
   ]
  },
  {
   "cell_type": "markdown",
   "metadata": {},
   "source": [
    "---\n",
    "\n",
    "**7. Overte, že $x\\equiv 20\\,\\,(\\mathrm{mod}\\,\\,22)$ je riešením zadanej kongruencie v Príklade 4. Overte, že $x\\equiv 9\\,\\,(\\mathrm{mod}\\,\\,22)$ je tiež riešením rovnakej kongruencie. Napíšte (pomôžte si Poznámkou 5), ako vyzerajú všetky riešenia kongruentné s riešením $x=20$ a ako vyzerajú všetky riešenia kongruentné s riešením $x=9$.**"
   ]
  },
  {
   "cell_type": "markdown",
   "metadata": {},
   "source": [
    "<ins> Riešenie: </ins>  \n",
    "\n",
    "Príklad 4 je $$18\\cdot x\\equiv 8\\,\\,(\\mathrm{mod}\\,\\,22).$$\n",
    "\n",
    "Výpočet z Príkladu 4 môžeme v Sage overiť pomocou funkcie `solve_mod`. Sage nám vyhodí jedno konkrétne riešenie (prípadne viac navzájom nekongruentných riešení ak existujú), ale pri zápise všetkých riešení (celej množiny riešení) ešte musíme k nájdenému konkrétnemu riešeniu pripočítať všetky celočíselné násobky modulu tak, ako je to uvedené v Poznámke 5 t.j.  $\\{x_0+km,\\,\\,k\\in\\mathbb{Z} \\}$ alebo $x=x_0+km$ kde $k\\in\\mathbb{Z}$. "
   ]
  },
  {
   "cell_type": "code",
   "execution_count": null,
   "metadata": {},
   "outputs": [],
   "source": [
    "x = var('x') # zavedieme premennu x \n",
    "show(solve_mod(18*x == 8, 22)) # definujeme kongruenciu a zadame prislusny modul  "
   ]
  },
  {
   "cell_type": "markdown",
   "metadata": {},
   "source": [
    "Sage nám vypísal, že riešením kongruencie sú $$x\\equiv 20\\,\\,(\\mathrm{mod}\\,\\,22.$$ a  $$x\\equiv 9\\,\\,(\\mathrm{mod}\\,\\,22).$$ Takže sme overili, obidva výsledky sú riešením zadanej kongruencie v Príklade 4.  \n",
    "\n",
    "Všetky riešenia podľa Poznámky 5 sú v tvare množiny riešení $$\\{20+22\\cdot k,\\,\\,k\\in\\mathbb{Z} \\}$$ a $$\\{9+22\\cdot k,\\,\\,k\\in\\mathbb{Z} \\}.$$"
   ]
  },
  {
   "cell_type": "markdown",
   "metadata": {},
   "source": [
    "--- \n",
    "\n",
    "**8. Ako dostaneme podľa Vety 3 druhé spomínané riešenie v Príklade 4? Pre aké $k$? Zapíšte, môžete využiť aj Sage na overenie.**"
   ]
  },
  {
   "cell_type": "markdown",
   "metadata": {},
   "source": [
    "<ins> Riešenie: </ins>  \n",
    "    \n",
    "Príklad 4 je $$18\\cdot x\\equiv 8\\,\\,(\\mathrm{mod}\\,\\,22).$$\n",
    "má riešenie (podľa Vety 3), lebo $(18,22)=2$ delí $8$. Takže má **dve** rôzne (navzájom nekongruentné) riešenia.  \n",
    "\n",
    "Aby sme našli tieto riešenia, vyriešime najprv  \n",
    "\n",
    "$$18u-22v=2.$$\n",
    "\n",
    "Aplikáciou poznatkov z predošlej témy nájdeme riešenie $(u,v)=(5,4)$. Nás zaujíma koeficient pri čísle $18$ a to je $u_0=5$ (lebo v pôvodnej kongruencii je neznáma $x$ pri čísle $18$). Podľa Vety 3 (kde $a=18,c=8,m=22,g=2$) prenásobime zložku $u_0$ číslom $\\dfrac{c}{g}=\\dfrac{8}{2}=4$ a dostávame tak jedno konkrétne (partikulárne) riešenie \n",
    "\n",
    "$$x_0=\\dfrac{cu_0}{g}=\\dfrac{8\\cdot5}{2}=20$$\n",
    "\n",
    "zadanej kongruencie.\n",
    "\n",
    "Množinu všetkých riešení kongruencie   \n",
    "$$18x\\equiv 8\\,\\,(\\mathrm{mod}\\,\\,22)$$ \n",
    "\n",
    "dostaneme tak, že začneme s riešením $x_0=20$ a k tomu pripočítavame celočíselné $k$-násobky čísla $\\dfrac{m}{g}=\\dfrac{22}{2}=11$. Nezabudnime, že ak číslo v riešení prevýší modul $22$, tak môžeme hodnotu $22$ odrátať.\n",
    "\n",
    "Podľa Vety 3 môžeme všetky nekongruentné riešenia napísať v tvare \n",
    "\n",
    "$$x\\equiv x_0+k\\cdot\\dfrac{m}{g}\\,\\,(\\mathrm{mod}\\,\\,m), \\qquad \\text{ pre } k\\in\\{0,1,2,\\ldots,g-1\\},$$\n",
    "\n",
    "čo je po dosadení hodnôt z nášho príkladu to isté ako \n",
    "\n",
    "$$x\\equiv 20+k\\cdot11\\,\\,(\\mathrm{mod}\\,\\,22), \\qquad \\text{ pre } k\\in\\{0,1\\}.$$\n",
    "\n",
    "\n",
    "Množina všetkých rôznych (nekongruentných) riešení v Sage vyzerá takto:"
   ]
  },
  {
   "cell_type": "code",
   "execution_count": null,
   "metadata": {},
   "outputs": [],
   "source": [
    "#overenie podla Sage, zistenie druheho riesenia\n",
    "a = 18\n",
    "c = 8 \n",
    "m = 22\n",
    "g = gcd(a,m)\n",
    "x0 = 20\n",
    "[x0+k*m/g if x0+k*m/g < m else x0+k*m/g - m for k in range(g)]"
   ]
  },
  {
   "cell_type": "markdown",
   "metadata": {},
   "source": [
    "---\n",
    "\n",
    "**9. Aké <span style=\"color:red\"> konkrétne </span> otázky máte k náplni študijných materiálov, ktoré by ste chceli na hodine prediskutovať?**"
   ]
  },
  {
   "cell_type": "code",
   "execution_count": null,
   "metadata": {},
   "outputs": [],
   "source": []
  }
 ],
 "metadata": {
  "kernelspec": {
   "display_name": "SageMath 9.3",
   "language": "sage",
   "name": "sagemath"
  },
  "language_info": {
   "codemirror_mode": {
    "name": "ipython",
    "version": 3
   },
   "file_extension": ".py",
   "mimetype": "text/x-python",
   "name": "python",
   "nbconvert_exporter": "python",
   "pygments_lexer": "ipython3",
   "version": "3.7.10"
  }
 },
 "nbformat": 4,
 "nbformat_minor": 2
}

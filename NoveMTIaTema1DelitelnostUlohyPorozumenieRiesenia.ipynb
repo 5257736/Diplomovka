{
 "cells": [
  {
   "cell_type": "markdown",
   "metadata": {},
   "source": [
    "**Autori:** Andrej Gajdoš, Dagmara Lopatková  <br> \n",
    "*[Ústav matematických vied](https://www.upjs.sk/prirodovedecka-fakulta/ustav/umv/), [Prírodovedecká fakulta](https://www.upjs.sk/prirodovedecka-fakulta/), Univerzita Pavla Jozefa Šafárika v Košiciach,* <br> \n",
    "email: [andrej.gajdos@upjs.sk](mailto:andrej.gajdos@upjs.sk)\n",
    "\n",
    "***\n",
    "\n",
    "**<font size=6 color=blue> MTIa: Téma 1 - Deliteľnosť celých čísel </font>** "
   ]
  },
  {
   "cell_type": "markdown",
   "metadata": {},
   "source": [
    "---\n",
    "\n",
    "#### 1. Nájdite čiastočný podiel (kvocient) a zvyšok pri delení čísla 100 číslom 27. \n",
    "\n",
    "a) $q=4$, $r=-8$  \n",
    "<font color=blue> b) $q=3$, $r=19$ </font>  \n",
    "c) $q=-8$, $r=3$  \n",
    "d) $q=2$, $r=46$  \n",
    "  \n",
    "<ins> Vysvetlenie: </ins>    \n",
    "Zvyšok musí byť **nezáporný** a vždy menší ako deliteľ.\n",
    "Platí **Veta 1 (O delení so zvyškom)** -> Nech $a \\in \\mathbb{Z}^{+}$, $b \\in\\mathbb{Z}$. Potom existujú jediné dve celé čísla $𝑞$ a $𝑟$ také, že $b = q \\cdot a + r$, kde $0 ≤ r < a$."
   ]
  },
  {
   "cell_type": "markdown",
   "metadata": {},
   "source": [
    "---\n",
    "\n",
    "#### 2.  Najväčší spoločný deliteľ čísel 28 a 56 je:\n",
    "\n",
    "a) $7$     \n",
    "b) $14$   \n",
    "c) $9$  \n",
    "<font color=blue> d) $28$  </font>   \n",
    "  \n",
    "<ins> Vysvetlenie: </ins>     \n",
    "Použitá Definícia 2 (Najväčší spoločný deliteľ), kde číslo $28$ je NSD a delí číslo $28$ aj číslo $56$.\n",
    "\n",
    "$28$ má tieto kladné delitele: $1,2,4,7,14,28$  \n",
    "$56$ má tieto kladné delitele: $1,2,4,7,8,14,28,56$\n",
    "ich NSD je $28$  \n",
    "\n",
    "Zvyšok musí byť nezáporný a vždy menší ako deliteľ.\n",
    "Platí Veta 1 (O delení so zvyškom) -> Nech $a \\in \\mathbb{Z}^{+}$, $b\\in \\mathbb{Z}$. Potom existujú jediné dve celé čísla $q$ a $r$ také, že $b = q \\cdot a + r$, kde $0 ≤ r < a$."
   ]
  },
  {
   "cell_type": "markdown",
   "metadata": {},
   "source": [
    "---\n",
    "\n",
    "#### 3. Najmenší spoločný násobok čísel 36 a 72 je:\n",
    "\n",
    "a) $36$     \n",
    "<font color=blue> b) $72$    </font>  \n",
    "c) $9$  \n",
    "d) $144$   \n",
    "  \n",
    "<ins> Vysvetlenie: </ins>   \n",
    "Použitá Definícia 4 (Najmenší spoločný násobok), číslo $72$ je deliteľné $36$ aj $72$.\n",
    "\n",
    "**Definícia 4**: Číslo $n\\in\\mathbb{Z}$ nazývame **_najmenším spoločným násobkom_** (NSN) čísel $a,b\\in\\mathbb{Z}$ ak spĺňa: \n",
    "\n",
    "1. $\\,a\\mid n \\wedge b\\mid n$; \n",
    "\n",
    "\n",
    "2. $\\left(\\forall n'\\in\\mathbb{Z}\\right)\\left(a\\mid n' \\wedge b\\mid n'\\right)\\Rightarrow n\\mid n'$.\n",
    "\n",
    "Takže NSN $n$ musí byť deliteľné $a$ aj $b$. Hoci $144$ spĺňa podmienku, že $36$ aj $72$ delí $144$, ale nie je to NSN.\n"
   ]
  },
  {
   "cell_type": "markdown",
   "metadata": {},
   "source": [
    "---\n",
    "\n",
    "#### 4. Ak $\\,b\\mid a$, ktoré z nasledujúcich tvrdení je pravdivé? \n",
    "\n",
    "a)  $b$ delí $a$ bezo zvyšku.   \n",
    "b) V Euklidovom algoritme keď vydelíme číslo $a$ číslom $b$ tak zvyšok bude $0$.     \n",
    "c) $a=b\\cdot q$ pre nejaké $q\\in\\mathbb{Z}$.  \n",
    "<font color=blue> d) Všetky tvrdenia sú pravdivé.</font>   \n",
    "  \n",
    "<ins> Vysvetlenie: </ins>    \n",
    "Všetky tvrdenia sú správne. V prvom tvrdení je použitá **Definícia 1**. Druhé tvrdenie sa odvoláva na **Euklidov algoritmus**. V treťom tvrdení je použitá opäť **Definícia 1.** "
   ]
  },
  {
   "cell_type": "markdown",
   "metadata": {},
   "source": [
    "---\n",
    "\n",
    "#### 5. Podľa Vety o delení so zvyškom je možné vyjadriť vzťah medzi číslami $-16,3$ nasledovne: $-16=3\\cdot(-5)-1$\n",
    "\n",
    "a) Áno   \n",
    "<font color=blue> b) Nie  </font>   \n",
    "  \n",
    "<ins> Vysvetlenie: </ins>     \n",
    "Zvyšok musí byť nezáporný a vždy menší ako deliteľ.\n",
    "Platí **Veta 1 (O delení so zvyškom)** -> Nech $a \\in \\mathbb{Z}^{+}$, $b \\in \\mathbb{Z}$. Potom existujú jediné dve celé čísla $q$ a $r$ také, že $b = q\\cdot a + r$, kde $0 ≤ r < a$.\n",
    "\n",
    "Nie je splnená podmienka nezáporného zvyšku. Preto by správny vzťah mal byť: $-16=3\\cdot(-6)+2$. Kde naše $b=-16$, $a =3$, $q=-6$, $r=2$. "
   ]
  },
  {
   "cell_type": "markdown",
   "metadata": {},
   "source": [
    "---\n",
    "\n",
    "#### 6. Číslo $n$ je nepárne práve vtedy, keď číslo $n(n+1)$ je párne.\n",
    "\n",
    "a) Áno  \n",
    "<font color=blue> b) Nie  </font>   \n",
    "  \n",
    "<ins> Vysvetlenie: </ins>     \n",
    "Kontrapríklad:\n",
    "- Ak si zoberieme, že $n(n+1)=20$, potom pre $n=4$ zadaný výrok neplatí, lebo $n(n+1)=4⋅5=20$ je párne, ale $n=4$ je tiež párne.\n",
    "- Daná ekvivalencia neplatí oboma smermi, našli sme kontrapríklad.\n",
    "\n",
    "Dôkaz oboma smermi.  \n",
    "⇒: Ak $n=2k+1$ potom $n(n+1)=(2k+1)(2k+1+1)=2(2k+1)(k+1)$ a to je číslo párne, takže táto implikácia platí;\n",
    "\n",
    "⇐: $n(n+1)$ bude párne vždy (súčin dvoch po sebe nasledujúcich čísel je vždy súčin párneho a nepárneho čísla resp. nepárneho a párneho čísla a to je vždy párne číslo), avšak $n$ môže byť párne a nepárne, napr. pre $n=4$ uvažovaná implikácia neplatí, lebo $n(n+1)=4⋅5=20$ je parne, ale $n=4$ je tiež párne."
   ]
  },
  {
   "cell_type": "markdown",
   "metadata": {},
   "source": [
    "---\n",
    "\n",
    "#### 7. Pre ľubovoľné celé čísla $a,b,c$ platí: $a\\mid bc$ práve vtedy keď $a\\mid b$ a súčasne $a\\mid c$ \n",
    "\n",
    "a) Áno   \n",
    "<font color=blue> b) Nie  </font>    \n",
    "  \n",
    "<ins> Vysvetlenie: </ins>   \n",
    "Dôkaz oboma smermi:  \n",
    "$\\Rightarrow$: Neplatí, napr. $a=3, b=3, c=7$. Ak si zoberieme $a$ delí $bc$, čiže $3\\mid3\\cdot7$ a súčasne $3\\mid3$ ($a\\mid b$), ale už $3$ nedelí $7$ ($a$ nedelí $c$).\n",
    "\n",
    "$\\Leftarrow$: Ak $a\\mid b$, tak $b=k\\cdot a$, kde $k\\in\\mathbb{Z}$ (tzn. číslo $b$ je celočíselným násobkom čísla $a$). Podobne, ak $a\\mid c$, tak $c=l\\cdot a, l\\in\\mathbb{Z}$. Teda po dosadení za $b, c$ dostávame pre súčin $bc$ nasledovné: $bc=kala=kla^2$, čiže $bc$ je celočíselným násobkom čísla $a$, čo znamená, že $a\\mid bc$. Platí $a\\mid bc$.\n"
   ]
  },
  {
   "cell_type": "markdown",
   "metadata": {},
   "source": [
    "---\n",
    "\n",
    "#### 8. Diofantická rovnica v tvare $ax+by=c$ má vždy:\n",
    "\n",
    "a) Aspoň jedno celočíselné riešenie.   \n",
    "b) Nekonečne veľa celočíselných riešení.  \n",
    "<font color=blue> c) Žiadna z odpovedí nie je správna.  </font>  \n",
    "\n",
    "<ins> Vysvetlenie: </ins>  \n",
    "**Veta 3**: \n",
    "\n",
    "Nech $a,b\\in\\mathbb{Z}$, $a,b\\neq0$ a $g=(a,b)$. \n",
    "Potom rovnica \n",
    "\n",
    "$$ax+by=g$$\n",
    "\n",
    "má vždy celočíselné riešenie $[x_1,y_1]$ a toto riešenie je možné nájsť s využitím Euklidovho algoritmu ako je popísané vyššie. Každé ďalšie riešenie tejto rovnice dostaneme dosádzaním rôznych celočíselných hodnôt za $k$ do vzťahu \n",
    "\n",
    "$$\\left[x_1+k\\dfrac{b}{g},y_1-k\\dfrac{a}{g}\\right].$$\n",
    "\n",
    "Resp. **Poznámka 6 (zovšeobecnenie Vety 3)**, ak nie je splnená podmienka, že NSD $g=(a,b)$ delí $c$, potom neexistuje žiadne riešenie takej rovnice; ak však existuje aspoň jedno riešenie, tak už ich existuje nekonečne veľa."
   ]
  },
  {
   "cell_type": "markdown",
   "metadata": {},
   "source": [
    "---\n",
    "\n",
    "\n",
    "#### 9. Euklidov algoritmus nájde postupnosť nezáporných celých čísel $r_1>r_2>\\ldots>r_{k-1}>r_k=0$ kde pre každé $r_i$, $2<i\\le k$ vznikne zvyšok tak, že číslo $r_{i-2}$ sa vydelí číslom $r_{i-1}$. Označme ešte $r_{-1}=b$ a $r_0 =a$.  Určte množinu všetkých kladných spoločných deliteľov čísel $a$ a $b$ ak $r_{k-1}=45$.\n",
    "\n",
    "a) $\\{1,3,5\\}$   \n",
    "b) $\\{1,3,5,9,15\\}$  \n",
    "c) $\\{1,9,15,45\\}$  \n",
    "<font color=blue> d) $\\{1,3,5,9,15,45\\}$ </font>    \n",
    "e) $\\{1,3,5,15\\}$ \n",
    "  \n",
    "<ins> Vysvetlenie: </ins>  \n",
    "Využije sa **druhá podmienka z definície NSD** teda, že ak $d'$ je nejaký spoločný deliteľ čísel $a,b$ tak potom $d'∣d$.\n",
    "\n",
    "V našom prípade to je: Ak $45$ je NSD, tak potom všetky delitele čísla $45$ budú deliteľmi aj čísel $a,b$, čiže sú to: $1, 3, 5, 9, 15, 45$. "
   ]
  },
  {
   "cell_type": "markdown",
   "metadata": {},
   "source": []
  }
 ],
 "metadata": {
  "kernelspec": {
   "display_name": "Python 3",
   "language": "python",
   "name": "python3"
  },
  "language_info": {
   "codemirror_mode": {
    "name": "ipython",
    "version": 3
   },
   "file_extension": ".py",
   "mimetype": "text/x-python",
   "name": "python",
   "nbconvert_exporter": "python",
   "pygments_lexer": "ipython3",
   "version": "3.7.10"
  }
 },
 "nbformat": 4,
 "nbformat_minor": 4
}

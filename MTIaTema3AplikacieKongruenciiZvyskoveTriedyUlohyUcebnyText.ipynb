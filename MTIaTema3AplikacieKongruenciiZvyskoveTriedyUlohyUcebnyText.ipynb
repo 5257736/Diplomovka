{
 "cells": [
  {
   "cell_type": "markdown",
   "metadata": {},
   "source": [
    "**Autori:** Andrej Gajdoš, Dagmara Lopatková  <br> \n",
    "*[Ústav matematiky](https://www.upjs.sk/prirodovedecka-fakulta/ustav/umv/), [Prírodovedecká fakulta](https://www.upjs.sk/prirodovedecka-fakulta/), Univerzita Pavla Jozefa Šafárika v Košiciach,* <br> \n",
    "email: [andrej.gajdos@upjs.sk](mailto:andrej.gajdos@upjs.sk)\n",
    "*** \n",
    "**_Tento materiál vznikol za podpory grantu VVGS-2021-1758._** \n",
    "*** \n",
    "\n",
    "**<font size=6 color=blue> MTIa: Téma 3 - Aplikácie kongruencií a zvyškové triedy: úlohy k učebnému textu </font>**"
   ]
  },
  {
   "cell_type": "markdown",
   "metadata": {},
   "source": [
    "---\n",
    "\n",
    "**1. Určte ciferný súčet čísel $6\\,387$ a $849\\,512\\,736$.**"
   ]
  },
  {
   "cell_type": "markdown",
   "metadata": {},
   "source": [
    "<ins> Riešenie: </ins> "
   ]
  },
  {
   "cell_type": "code",
   "execution_count": 3,
   "metadata": {},
   "outputs": [
    {
     "data": {
      "text/plain": [
       "24"
      ]
     },
     "execution_count": 3,
     "metadata": {},
     "output_type": "execute_result"
    }
   ],
   "source": [
    "#ciferný sucet cisla 6387\n",
    "6+3+8+7"
   ]
  },
  {
   "cell_type": "code",
   "execution_count": 2,
   "metadata": {},
   "outputs": [
    {
     "data": {
      "text/plain": [
       "45"
      ]
     },
     "execution_count": 2,
     "metadata": {},
     "output_type": "execute_result"
    }
   ],
   "source": [
    "#ciferný sucet cisla 849 512 736\n",
    "8+4+9+5+1+2+7+3+6"
   ]
  },
  {
   "cell_type": "markdown",
   "metadata": {},
   "source": [
    "Ciferný súčet čísla $6\\,387$ je $24$, pretože sme všetky cifry daného čísla spočítali a ciferný súčet čísla $849\\,512\\,736$ je $45$ (postup rovnaký)."
   ]
  },
  {
   "cell_type": "markdown",
   "metadata": {},
   "source": [
    "---\n",
    "\n",
    "**2. Vyskúšajte si $(17,6)$-dizajn z obrázka v učebnom texte poriadne rozpísať - tak ako by vznikal. Použite Sage napr. pre výpis dvojíc vrcholov, ktoré majú byť spojené úsečkou.**"
   ]
  },
  {
   "cell_type": "markdown",
   "metadata": {},
   "source": [
    "<ins> Riešenie: </ins>  \n",
    "\n",
    "Ku konštrukcii $(17,6)$ zvyškového dizajnu potrebujeme vyznačiť na kružnici $16$ bodov, ktoré sú od seba rovnako vzdialené a pomenovať ich $1,2,\\ldots,16$. Vynásobime každý nenulový zvyšok (po delení $17$) číslom $6$:  "
   ]
  },
  {
   "cell_type": "code",
   "execution_count": 43,
   "metadata": {},
   "outputs": [
    {
     "data": {
      "text/html": [
       "<html><script type=\"math/tex; mode=display\">\\newcommand{\\Bold}[1]{\\mathbf{#1}}\\left[\\left(6\\right)\\right]</script></html>"
      ],
      "text/latex": [
       "$$\\newcommand{\\Bold}[1]{\\mathbf{#1}}\\left[\\left(6\\right)\\right]$$"
      ],
      "text/plain": [
       "[(6,)]"
      ]
     },
     "metadata": {},
     "output_type": "display_data"
    },
    {
     "data": {
      "text/html": [
       "<html><script type=\"math/tex; mode=display\">\\newcommand{\\Bold}[1]{\\mathbf{#1}}\\left[\\left(12\\right)\\right]</script></html>"
      ],
      "text/latex": [
       "$$\\newcommand{\\Bold}[1]{\\mathbf{#1}}\\left[\\left(12\\right)\\right]$$"
      ],
      "text/plain": [
       "[(12,)]"
      ]
     },
     "metadata": {},
     "output_type": "display_data"
    },
    {
     "data": {
      "text/html": [
       "<html><script type=\"math/tex; mode=display\">\\newcommand{\\Bold}[1]{\\mathbf{#1}}\\left[\\left(1\\right)\\right]</script></html>"
      ],
      "text/latex": [
       "$$\\newcommand{\\Bold}[1]{\\mathbf{#1}}\\left[\\left(1\\right)\\right]$$"
      ],
      "text/plain": [
       "[(1,)]"
      ]
     },
     "metadata": {},
     "output_type": "display_data"
    },
    {
     "data": {
      "text/html": [
       "<html><script type=\"math/tex; mode=display\">\\newcommand{\\Bold}[1]{\\mathbf{#1}}\\left[\\left(7\\right)\\right]</script></html>"
      ],
      "text/latex": [
       "$$\\newcommand{\\Bold}[1]{\\mathbf{#1}}\\left[\\left(7\\right)\\right]$$"
      ],
      "text/plain": [
       "[(7,)]"
      ]
     },
     "metadata": {},
     "output_type": "display_data"
    },
    {
     "data": {
      "text/html": [
       "<html><script type=\"math/tex; mode=display\">\\newcommand{\\Bold}[1]{\\mathbf{#1}}\\left[\\left(13\\right)\\right]</script></html>"
      ],
      "text/latex": [
       "$$\\newcommand{\\Bold}[1]{\\mathbf{#1}}\\left[\\left(13\\right)\\right]$$"
      ],
      "text/plain": [
       "[(13,)]"
      ]
     },
     "metadata": {},
     "output_type": "display_data"
    },
    {
     "data": {
      "text/html": [
       "<html><script type=\"math/tex; mode=display\">\\newcommand{\\Bold}[1]{\\mathbf{#1}}\\left[\\left(2\\right)\\right]</script></html>"
      ],
      "text/latex": [
       "$$\\newcommand{\\Bold}[1]{\\mathbf{#1}}\\left[\\left(2\\right)\\right]$$"
      ],
      "text/plain": [
       "[(2,)]"
      ]
     },
     "metadata": {},
     "output_type": "display_data"
    },
    {
     "data": {
      "text/html": [
       "<html><script type=\"math/tex; mode=display\">\\newcommand{\\Bold}[1]{\\mathbf{#1}}\\left[\\left(8\\right)\\right]</script></html>"
      ],
      "text/latex": [
       "$$\\newcommand{\\Bold}[1]{\\mathbf{#1}}\\left[\\left(8\\right)\\right]$$"
      ],
      "text/plain": [
       "[(8,)]"
      ]
     },
     "metadata": {},
     "output_type": "display_data"
    },
    {
     "data": {
      "text/html": [
       "<html><script type=\"math/tex; mode=display\">\\newcommand{\\Bold}[1]{\\mathbf{#1}}\\left[\\left(14\\right)\\right]</script></html>"
      ],
      "text/latex": [
       "$$\\newcommand{\\Bold}[1]{\\mathbf{#1}}\\left[\\left(14\\right)\\right]$$"
      ],
      "text/plain": [
       "[(14,)]"
      ]
     },
     "metadata": {},
     "output_type": "display_data"
    },
    {
     "data": {
      "text/html": [
       "<html><script type=\"math/tex; mode=display\">\\newcommand{\\Bold}[1]{\\mathbf{#1}}\\left[\\left(3\\right)\\right]</script></html>"
      ],
      "text/latex": [
       "$$\\newcommand{\\Bold}[1]{\\mathbf{#1}}\\left[\\left(3\\right)\\right]$$"
      ],
      "text/plain": [
       "[(3,)]"
      ]
     },
     "metadata": {},
     "output_type": "display_data"
    },
    {
     "data": {
      "text/html": [
       "<html><script type=\"math/tex; mode=display\">\\newcommand{\\Bold}[1]{\\mathbf{#1}}\\left[\\left(9\\right)\\right]</script></html>"
      ],
      "text/latex": [
       "$$\\newcommand{\\Bold}[1]{\\mathbf{#1}}\\left[\\left(9\\right)\\right]$$"
      ],
      "text/plain": [
       "[(9,)]"
      ]
     },
     "metadata": {},
     "output_type": "display_data"
    },
    {
     "data": {
      "text/html": [
       "<html><script type=\"math/tex; mode=display\">\\newcommand{\\Bold}[1]{\\mathbf{#1}}\\left[\\left(15\\right)\\right]</script></html>"
      ],
      "text/latex": [
       "$$\\newcommand{\\Bold}[1]{\\mathbf{#1}}\\left[\\left(15\\right)\\right]$$"
      ],
      "text/plain": [
       "[(15,)]"
      ]
     },
     "metadata": {},
     "output_type": "display_data"
    },
    {
     "data": {
      "text/html": [
       "<html><script type=\"math/tex; mode=display\">\\newcommand{\\Bold}[1]{\\mathbf{#1}}\\left[\\left(4\\right)\\right]</script></html>"
      ],
      "text/latex": [
       "$$\\newcommand{\\Bold}[1]{\\mathbf{#1}}\\left[\\left(4\\right)\\right]$$"
      ],
      "text/plain": [
       "[(4,)]"
      ]
     },
     "metadata": {},
     "output_type": "display_data"
    },
    {
     "data": {
      "text/html": [
       "<html><script type=\"math/tex; mode=display\">\\newcommand{\\Bold}[1]{\\mathbf{#1}}\\left[\\left(10\\right)\\right]</script></html>"
      ],
      "text/latex": [
       "$$\\newcommand{\\Bold}[1]{\\mathbf{#1}}\\left[\\left(10\\right)\\right]$$"
      ],
      "text/plain": [
       "[(10,)]"
      ]
     },
     "metadata": {},
     "output_type": "display_data"
    },
    {
     "data": {
      "text/html": [
       "<html><script type=\"math/tex; mode=display\">\\newcommand{\\Bold}[1]{\\mathbf{#1}}\\left[\\left(16\\right)\\right]</script></html>"
      ],
      "text/latex": [
       "$$\\newcommand{\\Bold}[1]{\\mathbf{#1}}\\left[\\left(16\\right)\\right]$$"
      ],
      "text/plain": [
       "[(16,)]"
      ]
     },
     "metadata": {},
     "output_type": "display_data"
    },
    {
     "data": {
      "text/html": [
       "<html><script type=\"math/tex; mode=display\">\\newcommand{\\Bold}[1]{\\mathbf{#1}}\\left[\\left(5\\right)\\right]</script></html>"
      ],
      "text/latex": [
       "$$\\newcommand{\\Bold}[1]{\\mathbf{#1}}\\left[\\left(5\\right)\\right]$$"
      ],
      "text/plain": [
       "[(5,)]"
      ]
     },
     "metadata": {},
     "output_type": "display_data"
    },
    {
     "data": {
      "text/html": [
       "<html><script type=\"math/tex; mode=display\">\\newcommand{\\Bold}[1]{\\mathbf{#1}}\\left[\\left(11\\right)\\right]</script></html>"
      ],
      "text/latex": [
       "$$\\newcommand{\\Bold}[1]{\\mathbf{#1}}\\left[\\left(11\\right)\\right]$$"
      ],
      "text/plain": [
       "[(11,)]"
      ]
     },
     "metadata": {},
     "output_type": "display_data"
    }
   ],
   "source": [
    "show(solve_mod(6*1 == x, 17)),\n",
    "show(solve_mod(6*2 == x, 17)),\n",
    "show(solve_mod(6*3 == x, 17)),\n",
    "show(solve_mod(6*4 == x, 17)),\n",
    "show(solve_mod(6*5 == x, 17)),\n",
    "show(solve_mod(6*6 == x, 17)),\n",
    "show(solve_mod(6*7 == x, 17)),\n",
    "show(solve_mod(6*8 == x, 17)),\n",
    "show(solve_mod(6*9 == x, 17)),\n",
    "show(solve_mod(6*10 == x, 17)),\n",
    "show(solve_mod(6*11 == x, 17)),\n",
    "show(solve_mod(6*12 == x, 17)),\n",
    "show(solve_mod(6*13 == x, 17)),\n",
    "show(solve_mod(6*14 == x, 17)),\n",
    "show(solve_mod(6*15 == x, 17)),\n",
    "show(solve_mod(6*16 == x, 17))"
   ]
  },
  {
   "attachments": {
    "snimka.png": {
     "image/png": "[encoded data removed]"
    }
   },
   "cell_type": "markdown",
   "metadata": {},
   "source": [
    "![snimka.png](attachment:snimka.png)"
   ]
  },
  {
   "cell_type": "markdown",
   "metadata": {},
   "source": [
    "Následne spojíme dvojice bodov $1$ a $6$, $2$ a $12$, $3$ a $1$, ... , $16$ a $11$. (Môžeme vidieť na obrázku vyššie.)"
   ]
  },
  {
   "cell_type": "markdown",
   "metadata": {},
   "source": [
    "---\n",
    "\n",
    "**3. Ako vyzerá $\\mathbb{Z}_2$ a $\\mathbb{Z}_3$? Charakterizujte tieto množiny zvyškových tried, popíšte ich prvky. (Ako vyzerajú jednotlivé zvyškové triedy? Vypíšte niekoľko ich prvkov.)**"
   ]
  },
  {
   "cell_type": "markdown",
   "metadata": {},
   "source": [
    "<ins> Riešenie: </ins>\n",
    "\n",
    "Množina $\\mathbb{Z}_{m}=\\left\\{0_m,1_m,\\ldots,(m-1)_m\\right\\}$ sa nazýva **_množina zvyškových tried podľa modulu_** $m$.  \n",
    "\n",
    "Množina $\\mathbb{Z}_{2}$ obsahuje len dva prvky a sú to tieto: $$\\mathbb{Z}_{2}=\\left\\{0_2,1_2\\right\\}$$ a množina $\\mathbb{Z}_{3}$ obsahuje tri prvky a sú to tieto:$$\\mathbb{Z}_{3}=\\left\\{0_3,1_3,2_3\\right\\}.$$"
   ]
  },
  {
   "cell_type": "markdown",
   "metadata": {},
   "source": [
    "--- \n",
    "\n",
    "**4. Využitím interaktívneho kódu v učebnom texte prečítajte z tabuliek výsledky nasledujúcich sčítaní dvojíc zvyškových tried: $1_{11}\\oplus5_{11}$, $4_6\\oplus4_6$, $9_{15}\\oplus0_{15}$.**"
   ]
  },
  {
   "cell_type": "markdown",
   "metadata": {},
   "source": [
    "<ins> Riešenie: </ins>"
   ]
  },
  {
   "cell_type": "code",
   "execution_count": 1,
   "metadata": {
    "scrolled": false
   },
   "outputs": [
    {
     "data": {
      "application/vnd.jupyter.widget-view+json": {
       "model_id": "c921f846802e4a538d9a8c4d86852347",
       "version_major": 2,
       "version_minor": 0
      },
      "text/plain": [
       "Interactive function <function addition_table_ at 0x6fff27975c20> with 1 widget\n",
       "  m: Dropdown(description='m',…"
      ]
     },
     "metadata": {},
     "output_type": "display_data"
    }
   ],
   "source": [
    "# Crisman (2017)\n",
    "@interact\n",
    "def addition_table_(m=(11,[2..50])):\n",
    "    P=[[mod(a,m)+mod(b,m) for a in [0..m-1]] for b in [0..m-1]]\n",
    "    pretty_print(html(\"Tabuľka sčítania pre modul $%s$\"%(m,)))\n",
    "    pretty_print(html(table(P, header_row = True, frame = True)))"
   ]
  },
  {
   "cell_type": "markdown",
   "metadata": {},
   "source": [
    "Výsledky na základe tabuliek:  \n",
    "$1_{11}\\oplus5_{11}=6_{11}$,\n",
    "\n",
    "$4_6\\oplus4_6=2_6$,   \n",
    "\n",
    "$9_{15}\\oplus0_{15}=9_5$"
   ]
  },
  {
   "cell_type": "markdown",
   "metadata": {},
   "source": [
    "--- \n",
    "\n",
    "**5. Využitím interaktívneho kódu v učebnom texte prečítajte z tabuliek výsledky nasledujúcich násobení dvojíc zvyškových tried: $1_{11}\\odot5_{11}$, $4_6\\odot4_6$, $9_{15}\\odot1_{15}$.**"
   ]
  },
  {
   "cell_type": "markdown",
   "metadata": {},
   "source": [
    "<ins> Riešenie: </ins> "
   ]
  },
  {
   "cell_type": "code",
   "execution_count": 2,
   "metadata": {},
   "outputs": [
    {
     "data": {
      "application/vnd.jupyter.widget-view+json": {
       "model_id": "d4e431cd07db45aaa3285e2770c1bf53",
       "version_major": 2,
       "version_minor": 0
      },
      "text/plain": [
       "Interactive function <function _ at 0x6fff2791f5f0> with 1 widget\n",
       "  m: Dropdown(description='m', index=9, opti…"
      ]
     },
     "metadata": {},
     "output_type": "display_data"
    }
   ],
   "source": [
    "# Crisman (2017)\n",
    "@interact\n",
    "def _(m=(11,[2..50])):\n",
    "    P=[[mod(a,m)*mod(b,m) for a in [0..m-1]] for b in [0..m-1]]\n",
    "    pretty_print(html(\"Tabuľka násobenia pre modul $%s$\"%(m,)))\n",
    "    pretty_print(html(table(P, frame=True)))"
   ]
  },
  {
   "cell_type": "markdown",
   "metadata": {},
   "source": [
    "Výsledky na základe tabuliek:  \n",
    "$1_{11}\\odot5_{11}=5_{11}$,\n",
    "\n",
    "$4_6\\odot4_6=4_6$,   \n",
    "\n",
    "$9_{15}\\odot1_{15}=9_5$"
   ]
  },
  {
   "cell_type": "markdown",
   "metadata": {},
   "source": [
    "--- \n",
    "\n",
    "**6. Ak by sme miesto zvyškových tried podľa modulu $m$ a ich sčítania $\\oplus$ uvažovali reálne alebo celé čísla s operáciou klasického sčítania $+$, existoval by tiež nulový a opačný prvok? Ak áno, ako by vyzerali? Uveďte aj príklad.**"
   ]
  },
  {
   "cell_type": "markdown",
   "metadata": {},
   "source": [
    "<ins> Riešenie: </ins> \n",
    "\n",
    "Ak si zoberieme reálne / celé čísla, tak s operáciou klasického sčítavania + by nulový prvok predstavoval $0$ (hocijaké reálne číslo $a + 0$ vždy bude výsledok $a$). Opačný prvok k prvku $a$ je prvok $-a$, pretože $a+(-a)=0$.    \n",
    "\n",
    "Napr.   \n",
    "$a=2$  \n",
    "$a+0=a => 2+0=2$  \n",
    "$a+(-a)=0 => 2+(-2)=0$  \n"
   ]
  },
  {
   "cell_type": "markdown",
   "metadata": {},
   "source": [
    "---\n",
    "\n",
    "**7. Rozpísaním (podobne ako v príklade za Poznámkou 4) overte, že platí nasledujúca rovnosť:**\n",
    "\n",
    "$$(2_5\\oplus3_5)\\odot4_5=(2_5\\odot4_5)\\oplus(3_5\\odot4_5).$$"
   ]
  },
  {
   "cell_type": "markdown",
   "metadata": {},
   "source": [
    "<ins> Riešenie: </ins>  \n",
    "\n",
    "$$(2_5\\oplus3_5)\\odot4_5=(2_5\\odot4_5)\\oplus(3_5\\odot4_5)$$  \n",
    "\n",
    "$ĽS: (2_5\\oplus3_5)\\odot4_5=(2+3)_5\\odot4_5=0_5\\odot4_5=(0\\cdot4)_5=0_5$  \n",
    "\n",
    "$PS: (2_5\\odot4_5)\\oplus(3_5\\odot4_5)=(2\\cdot4)_5\\oplus(3\\cdot4)_5=8_5\\oplus12_5=3_5\\oplus2_5=(3+2)_5=0_5$  \n",
    "\n",
    "$$ĽS=PS$$"
   ]
  },
  {
   "cell_type": "markdown",
   "metadata": {},
   "source": [
    "---\n",
    "\n",
    "**8. Aký je inverzný prvok k prvku $2_8$ v $\\left(\\mathbb{Z}_{8},\\odot\\right)$ ? Odpoveď zdôvodnite.**\n"
   ]
  },
  {
   "cell_type": "markdown",
   "metadata": {},
   "source": [
    "<ins> Riešenie: </ins>  \n",
    "Hľadáme taký prvok, že $$2_8\\odot x_8=1_8.$$ Lepšie povedané $$(2\\cdot x)_8=1_8.$$ \n",
    "\n",
    "Hľadáme také $x$, aby $2\\cdot x=$ dávalo po delení $8$ zvyšok $1$. \n",
    "\n",
    "Platí to pre $x=10$, pretože $$(2\\cdot10)_8=1_8,$$ ale $10$ už nepatrí do $\\mathbb{Z}_{8}.$ Preto k prvku $2_8$ **neexistuje** inverzný prvok."
   ]
  },
  {
   "cell_type": "code",
   "execution_count": 39,
   "metadata": {},
   "outputs": [
    {
     "data": {
      "text/plain": [
       "2"
      ]
     },
     "execution_count": 39,
     "metadata": {},
     "output_type": "execute_result"
    }
   ],
   "source": [
    "#overenie pomocou Sage\n",
    "a = mod(2,8)\n",
    "a"
   ]
  },
  {
   "cell_type": "code",
   "execution_count": 40,
   "metadata": {},
   "outputs": [
    {
     "ename": "ZeroDivisionError",
     "evalue": "inverse of Mod(2, 8) does not exist",
     "output_type": "error",
     "traceback": [
      "\u001b[0;31m---------------------------------------------------------------------------\u001b[0m",
      "\u001b[0;31mZeroDivisionError\u001b[0m                         Traceback (most recent call last)",
      "\u001b[0;32m<ipython-input-40-915d99091d3d>\u001b[0m in \u001b[0;36m<module>\u001b[0;34m\u001b[0m\n\u001b[0;32m----> 1\u001b[0;31m \u001b[0ma_inv\u001b[0m \u001b[0;34m=\u001b[0m \u001b[0minverse_mod\u001b[0m\u001b[0;34m(\u001b[0m\u001b[0mInteger\u001b[0m\u001b[0;34m(\u001b[0m\u001b[0;36m2\u001b[0m\u001b[0;34m)\u001b[0m\u001b[0;34m,\u001b[0m\u001b[0mInteger\u001b[0m\u001b[0;34m(\u001b[0m\u001b[0;36m8\u001b[0m\u001b[0;34m)\u001b[0m\u001b[0;34m)\u001b[0m\u001b[0;34m\u001b[0m\u001b[0;34m\u001b[0m\u001b[0m\n\u001b[0m\u001b[1;32m      2\u001b[0m \u001b[0ma_inv\u001b[0m\u001b[0;34m\u001b[0m\u001b[0;34m\u001b[0m\u001b[0m\n",
      "\u001b[0;32m/opt/sagemath-9.3/local/lib/python3.7/site-packages/sage/arith/misc.py\u001b[0m in \u001b[0;36minverse_mod\u001b[0;34m(a, m)\u001b[0m\n\u001b[1;32m   2089\u001b[0m     \"\"\"\n\u001b[1;32m   2090\u001b[0m     \u001b[0;32mtry\u001b[0m\u001b[0;34m:\u001b[0m\u001b[0;34m\u001b[0m\u001b[0;34m\u001b[0m\u001b[0m\n\u001b[0;32m-> 2091\u001b[0;31m         \u001b[0;32mreturn\u001b[0m \u001b[0ma\u001b[0m\u001b[0;34m.\u001b[0m\u001b[0minverse_mod\u001b[0m\u001b[0;34m(\u001b[0m\u001b[0mm\u001b[0m\u001b[0;34m)\u001b[0m\u001b[0;34m\u001b[0m\u001b[0;34m\u001b[0m\u001b[0m\n\u001b[0m\u001b[1;32m   2092\u001b[0m     \u001b[0;32mexcept\u001b[0m \u001b[0mAttributeError\u001b[0m\u001b[0;34m:\u001b[0m\u001b[0;34m\u001b[0m\u001b[0;34m\u001b[0m\u001b[0m\n\u001b[1;32m   2093\u001b[0m         \u001b[0;32mreturn\u001b[0m \u001b[0mInteger\u001b[0m\u001b[0;34m(\u001b[0m\u001b[0ma\u001b[0m\u001b[0;34m)\u001b[0m\u001b[0;34m.\u001b[0m\u001b[0minverse_mod\u001b[0m\u001b[0;34m(\u001b[0m\u001b[0mm\u001b[0m\u001b[0;34m)\u001b[0m\u001b[0;34m\u001b[0m\u001b[0;34m\u001b[0m\u001b[0m\n",
      "\u001b[0;32m/opt/sagemath-9.3/local/lib/python3.7/site-packages/sage/rings/integer.pyx\u001b[0m in \u001b[0;36msage.rings.integer.Integer.inverse_mod (build/cythonized/sage/rings/integer.c:41745)\u001b[0;34m()\u001b[0m\n\u001b[1;32m   6757\u001b[0m         \u001b[0msig_off\u001b[0m\u001b[0;34m(\u001b[0m\u001b[0;34m)\u001b[0m\u001b[0;34m\u001b[0m\u001b[0;34m\u001b[0m\u001b[0m\n\u001b[1;32m   6758\u001b[0m         \u001b[0;32mif\u001b[0m \u001b[0mr\u001b[0m \u001b[0;34m==\u001b[0m \u001b[0;36m0\u001b[0m\u001b[0;34m:\u001b[0m\u001b[0;34m\u001b[0m\u001b[0;34m\u001b[0m\u001b[0m\n\u001b[0;32m-> 6759\u001b[0;31m             \u001b[0;32mraise\u001b[0m \u001b[0mZeroDivisionError\u001b[0m\u001b[0;34m(\u001b[0m\u001b[0;34mf\"inverse of Mod({self}, {m}) does not exist\"\u001b[0m\u001b[0;34m)\u001b[0m\u001b[0;34m\u001b[0m\u001b[0;34m\u001b[0m\u001b[0m\n\u001b[0m\u001b[1;32m   6760\u001b[0m         \u001b[0;32mreturn\u001b[0m \u001b[0mans\u001b[0m\u001b[0;34m\u001b[0m\u001b[0;34m\u001b[0m\u001b[0m\n\u001b[1;32m   6761\u001b[0m \u001b[0;34m\u001b[0m\u001b[0m\n",
      "\u001b[0;31mZeroDivisionError\u001b[0m: inverse of Mod(2, 8) does not exist"
     ]
    }
   ],
   "source": [
    "a_inv = inverse_mod(2,8)\n",
    "a_inv"
   ]
  },
  {
   "cell_type": "markdown",
   "metadata": {},
   "source": [
    "---\n",
    "\n",
    "**9. Aké <font color=red> konkrétne </font> otázky máte k náplni študijných materiálov, ktoré by ste chceli na hodine prediskutovať?**"
   ]
  },
  {
   "cell_type": "markdown",
   "metadata": {},
   "source": []
  }
 ],
 "metadata": {
  "kernelspec": {
   "display_name": "SageMath 9.3",
   "language": "sage",
   "name": "sagemath"
  },
  "language_info": {
   "codemirror_mode": {
    "name": "ipython",
    "version": 3
   },
   "file_extension": ".py",
   "mimetype": "text/x-python",
   "name": "python",
   "nbconvert_exporter": "python",
   "pygments_lexer": "ipython3",
   "version": "3.7.10"
  }
 },
 "nbformat": 4,
 "nbformat_minor": 2
}

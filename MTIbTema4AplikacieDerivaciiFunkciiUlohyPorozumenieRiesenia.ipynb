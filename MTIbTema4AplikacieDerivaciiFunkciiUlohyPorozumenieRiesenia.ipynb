{
 "cells": [
  {
   "cell_type": "markdown",
   "metadata": {},
   "source": [
    "**Autori:** Andrej Gajdoš, Dagmara Lopatková  <br> \n",
    "*[Ústav matematiky](https://www.upjs.sk/prirodovedecka-fakulta/ustav/umv/), [Prírodovedecká fakulta](https://www.upjs.sk/prirodovedecka-fakulta/), Univerzita Pavla Jozefa Šafárika v Košiciach,* <br> \n",
    "email: [andrej.gajdos@upjs.sk](mailto:andrej.gajdos@upjs.sk)\n",
    "\n",
    "***\n",
    "\n",
    "**<font size=6 color=blue> MTIb: Téma 4 - Aplikácie derivácií funkcií </font>** "
   ]
  },
  {
   "cell_type": "markdown",
   "metadata": {},
   "source": [
    "---\n",
    "\n",
    "#### 1. Platí nasledujúci výrok? Funkcia $f$, ktorej celý graf je nad osou $x$ má kladnú deriváciu pre všetky $x$.\n",
    "\n",
    "a) Áno   \n",
    "<font color=blue> b) Nie  </font>\n",
    "  \n",
    "  \n",
    "<ins> Vysvetlenie: </ins>    \n",
    "Funkcia môže mať celý graf nad osou $x$ (t.j. $f(x) > 0$ pre všetky $x$), ale jej derivácia môže byť aj **záporná**.   \n",
    "\n",
    "Napríklad:   \n",
    "Funkcia $f(x) = \\frac{1}{x^2}$ pre $x > 0$\n",
    "- Funkcia je vždy kladná.\n",
    "- Jej derivácia $f'(x) = -\\frac{2}{x^3}$ je záporná pre $x > 0$.  \n",
    "\n",
    "Znamienko derivácie súvisí s **monotónnosťou funkcie**, nie s jej polohou voči osi $x$:\n",
    "- Ak je derivácia **kladná**, funkcia je **rastúca**.\n",
    "- Ak je derivácia **záporná**, funkcia je **klesajúca**.\n",
    "\n",
    "V našom príklade je derivácia **záporná** a funkcia je **klesajúca**, napriek tomu že jej graf leží celý nad osou $x$."
   ]
  },
  {
   "cell_type": "markdown",
   "metadata": {},
   "source": [
    "---\n",
    "\n",
    "#### 2. Ak $f'(x)=g'(x)$, potom $f(x)=g(x)$. Je to pravda? \n",
    "\n",
    "a) Áno   \n",
    "<font color=blue> b) Nie  </font> \n",
    "  \n",
    "<ins> Vysvetlenie: </ins>  \n",
    "Ak majú dve funkcie rovnakú deriváciu, neznamená to, že sú identické. Môžu sa líšiť o konštantu.\n",
    "\n",
    "Jednoduchý príklad:  \n",
    "Nech $f(x) = x^2 + 3$ a $g(x) = x^2 + 5$  \n",
    "Ich derivácie sú: $f'(x) = 2x$ a $g'(x) = 2x$  \n",
    "Teda $f'(x) = g'(x)$, ale $f(x) \\neq g(x)$, pretože sa líšia o konštantu 2."
   ]
  },
  {
   "cell_type": "markdown",
   "metadata": {},
   "source": [
    "---\n",
    "\n",
    "#### 3. Platí nasledujúce tvrdenie? Ak $f'(x) \\ge 0$ $\\forall x$, potom $f(a) \\le f(b)$ pre $a \\le b$.\n",
    "\n",
    "<font color=blue> a) Áno </font>  \n",
    "b) Nie  \n",
    "    \n",
    "  \n",
    "<ins> Vysvetlenie: </ins>  \n",
    "Na základe **Tvrdenia 3** vieme, že ak $f'(x) \\ge 0$ potom je funkcia  $f(x)$ **neklesajúca**, $f(a) \\le f(b)$ pre $a \\le b$. "
   ]
  },
  {
   "cell_type": "markdown",
   "metadata": {},
   "source": [
    "---\n",
    "\n",
    "#### 4. Je pravdivý nasledovný výrok? Ak $\\forall x:$ $f'(x) \\le g'(x)$, potom $\\forall x:$ $f(x) \\le g(x)$.\n",
    "\n",
    "a) Áno   \n",
    "<font color=blue> b) Nie  </font>\n",
    "  \n",
    "<ins> Vysvetlenie: </ins>   \n",
    "To, že derivácia jednej funkcie je menšia alebo rovná derivácii druhej funkcie, neznamená, že samotná funkcia je menšia alebo rovná druhej funkcii.  \n",
    "\n",
    "Kontrapríklad:   \n",
    "Nech $f(x) = x + 5$.  \n",
    "Nech $g(x) = x$.  \n",
    "Potom $f'(x) = g'(x) = 1$ pre všetky $x$.   \n",
    "Ale $f(x) > g(x)$ pre všetky $x$, keďže $f(x) = g(x) + 5$."
   ]
  },
  {
   "cell_type": "markdown",
   "metadata": {},
   "source": [
    "---\n",
    "\n",
    "#### 5. Nech $f$ je funkcia definovaná pre všetky reálne čísla. Lokálne maximum funkcie $f$ je v bode, v ktorom $f'(x)=0$. Je to pravda?\n",
    "\n",
    "a) Áno   \n",
    "<font color=blue> b) Nie  </font>\n",
    "\n",
    "  \n",
    "<ins> Vysvetlenie: </ins>    \n",
    "Podmienka $f'(x)=0$ je len **nutnou podmienkou** pre lokálne extrém (maximum alebo minimum), nie **postačujúcou**.    \n",
    "\n",
    "V bode kde $f'(x)=0$ môže byť:\n",
    "- **Lokálne maximum**\n",
    "- **Lokálne minimum**\n",
    "- **Inflexný bod** - napríklad funkcia $f(x)=x^3$ má v bode $x=0$ nulovú deriváciu, ale nie je tam lokálne maximum ani minimum, je tam inflexný bod.\n",
    "\n",
    "Lokálne maximum môže existovať aj v bode, kde derivácia neexistuje (napríklad v \"špicatom\" bode funkcie).  \n",
    "Lokálne maximum môže byť aj v krajnom bode intervalu, kde sa nulová derivácia nevyžaduje.  \n",
    "\n",
    "Preto samotná informácia, že $f'(x)=0$, nestačí na určenie, či v danom bode je lokálne maximum."
   ]
  },
  {
   "cell_type": "markdown",
   "metadata": {},
   "source": [
    "---\n",
    "\n",
    "#### 6. Ak $f'$ je spojitá a $f(x)$ nemá žiadne kritické body, potom $f$ je všade rastúca alebo všade klesajúca. Platí to? \n",
    "\n",
    "<font color=blue> a) Áno </font>  \n",
    "b) Nie  \n",
    "    \n",
    "  \n",
    "<ins> Vysvetlenie: </ins>    \n",
    "Ak funkcia nemá kritické body, znamená to, že $f'(x) \\neq 0$ pre všetky $x$ v definičnom obore.\n",
    "Keďže $f'$ je spojitá funkcia a nenadobúda hodnotu 0, musí byť:  \n",
    "- Buď všade kladná ($f'(x) > 0$).\n",
    "- Alebo všade záporná ($f'(x) < 0$).\n",
    "\n",
    "Z toho vyplýva:  \n",
    "\n",
    "- Ak $f'(x) > 0$ všade, potom $f$ je všade rastúca.\n",
    "- Ak $f'(x) < 0$ všade, potom $f$ je všade klesajúca.  \n",
    "\n",
    "Spojitá funkcia nemôže \"preskočiť\" z kladných do záporných hodnôt bez toho, aby **prešla nulou**. Preto musí **derivácia zachovať** rovnaké znamienko na celom definičnom obore."
   ]
  },
  {
   "cell_type": "markdown",
   "metadata": {},
   "source": [
    "---\n",
    "\n",
    "#### 7. Platí nasledujúce tvrdenie? Rastúca funkcia nemá inflexné body.\n",
    "\n",
    "a) Áno   \n",
    "<font color=blue> b) Nie  </font>\n",
    " \n",
    " \n",
    "<ins> Vysvetlenie: </ins>    \n",
    "Kontrapríklad: \n",
    "Rastúca funkcia s inflexným bodom $f(x) = x^3$ je rastúca funkcia ($f'(x) = 3x^2 > 0$ pre všetky $x$).\n",
    "Má inflexný bod v $x = 0$, pretože tam mení konkávnosť.\n",
    "Preto rastúca funkcia môže mať **inflexné body**, keďže monotónnosť a konkávnosť sú nezávislé vlastnosti funkcie."
   ]
  },
  {
   "cell_type": "markdown",
   "metadata": {},
   "source": [
    "---\n",
    "\n",
    "#### 8. Má funkcia $f:\\ y=x^2$ globálne minimum na intervale $(0,2)$ ?\n",
    "\n",
    "a) Áno   \n",
    "<font color=blue> b) Nie  </font> \n",
    "  \n",
    "<ins> Vysvetlenie: </ins>    \n",
    "Funkcia $f(x)=x^2$ je kvadratická funkcia, ktorá je rastúca na intervale $(0,\\infty)$. Na intervale $(0,2)$ sa hodnota funkcie znižuje, keď $x$ ide k nule, a zvyšuje, keď $x$ ide k $2$. Funkcia teda dosahuje **minimum** na tomto intervale v bode $x=0$, ale tento bod nie je súčasťou otvoreného intervalu $(0,2)$, pretože ho neobsahuje. Takže na tomto intervale funkcia **nemá globálne minimum**."
   ]
  }
 ],
 "metadata": {
  "kernelspec": {
   "display_name": "SageMath 9.3",
   "language": "sage",
   "name": "sagemath"
  },
  "language_info": {
   "codemirror_mode": {
    "name": "ipython",
    "version": 3
   },
   "file_extension": ".py",
   "mimetype": "text/x-python",
   "name": "python",
   "nbconvert_exporter": "python",
   "pygments_lexer": "ipython3",
   "version": "3.7.10"
  }
 },
 "nbformat": 4,
 "nbformat_minor": 4
}

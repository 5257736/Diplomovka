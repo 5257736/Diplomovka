{
 "cells": [
  {
   "cell_type": "markdown",
   "metadata": {},
   "source": [
    "**Autori:** Andrej Gajdoš, Dagmara Lopatková  <br> \n",
    "*[Ústav matematiky](https://www.upjs.sk/prirodovedecka-fakulta/ustav/umv/), [Prírodovedecká fakulta](https://www.upjs.sk/prirodovedecka-fakulta/), Univerzita Pavla Jozefa Šafárika v Košiciach,* <br> \n",
    "email: [andrej.gajdos@upjs.sk](mailto:andrej.gajdos@upjs.sk)\n",
    "\n",
    "***\n",
    "\n",
    "**<font size=6 color=blue> MTIb: Téma 11 - Funkcie viacerých premenných III. </font>** "
   ]
  },
  {
   "cell_type": "markdown",
   "metadata": {},
   "source": [
    "---\n",
    "\n",
    "#### 1. Rozhodnite, či môže platiť nasledujúci výrok: Gradient funkcie $f$ je $\\nabla f(0,0)=7$. \n",
    "\n",
    "a) Áno     \n",
    "<font color=blue> b) Nie </font> \n",
    "  \n",
    "<ins> Vysvetlenie: </ins>    \n",
    "Gradient funkcie dvoch premenných je vektor, nie skalár. Gradient funkcie (**Definícia 3**) $f(x,y)$ v bode $(0,0)$ má tvar:\n",
    "$\\nabla f(0,0) = \\left(\\frac{\\partial f}{\\partial x}(0,0), \\frac{\\partial f}{\\partial y}(0,0)\\right)=\\left(f_x(0,0),f_y(0,0)\\right)$"
   ]
  },
  {
   "cell_type": "markdown",
   "metadata": {},
   "source": [
    "---\n",
    "\n",
    "#### 2. Gradient vektor $\\nabla f(x,y)$ je kolmý na vrstevnice funkcie $f$, a čím bližšie k sebe sú vrstevnice pre rovnomerne rozložené hodnoty $f$, tým kratší je gradient. \n",
    "\n",
    "a) Áno     \n",
    "<font color=blue> b) Nie </font>\n",
    "  \n",
    "<ins> Vysvetlenie: </ins>    \n",
    "Gradient vektor $\\nabla f(x,y)$ je síce kolmý na vrstevnice funkcie $f$, ale druhá časť tvrdenia je nesprávna.  \n",
    "\n",
    "Platí práve opak - čím bližšie sú k sebe vrstevnice pre rovnomerne rozložené hodnoty $f$, tým **dlhší** (nie kratší) je gradient. Veľkosť gradientu udáva, ako rýchlo sa mení funkčná hodnota v smere najväčšieho rastu funkcie. (**Poznámka 4**)"
   ]
  },
  {
   "cell_type": "markdown",
   "metadata": {},
   "source": [
    "---\n",
    "\n",
    "#### 3. Rovnica dotykovej roviny k povrchu $z=f(x,y)$ v bode $[3,4]$ má tvar $$z=f(3,4)+f_x(3,4)x+f_y(3,4)y.$$\n",
    "\n",
    "a) Áno     \n",
    "<font color=blue> b) Nie </font>  \n",
    "  \n",
    "<ins> Vysvetlenie: </ins>    \n",
    "Rovnica dotykovej roviny k povrchu  (**Definícia 2**) $z = f(x,y)$ v bode $[x_0,y_0]$ má tvar:\n",
    "$$z = f(x_0,y_0) + f_x(x_0,y_0)(x - x_0) + f_y(x_0,y_0)(y - y_0)$$\n",
    "\n",
    "V tomto prípade pre bod $[3,4]$ by mala byť rovnica:\n",
    "\n",
    "$$z = f(3,4) + f_x(3,4)(x - 3) + f_y(3,4)(y - 4)$$\n",
    "\n",
    "V uvedenej rovnici chýbajú členy $(x - 3)$ a $(y - 4)$, ktoré vyjadrujú vzdialenosť od bodu dotyku $[3,4]$. Bez týchto členov by dotyková rovina neprechádzala bodom dotyku $[3,4]$.\n",
    "\n"
   ]
  },
  {
   "cell_type": "markdown",
   "metadata": {},
   "source": [
    "---\n",
    "\n",
    "#### 4. Ak $f(x,y)$ je spojitá funkcia v bode $[0,0]$, potom je v tomto bode aj diferencovateľná.\n",
    "\n",
    "a) Áno     \n",
    "<font color=blue> b) Nie </font>  \n",
    "  \n",
    "<ins> Vysvetlenie: </ins>    \n",
    "Spojitosť funkcie v bode nezaručuje jej diferencovateľnosť v tomto bode. Platí len opačná implikácia - ak je funkcia diferencovateľná v bode, tak je v ňom aj spojitá (**Veta 2**).  \n",
    "\n",
    "Príkladom je funkcia $f(x,y)=\\sqrt{x^2+y^2}$, ktorá je spojitá v bode $[0,0]$, ale nie je v tomto bode diferencovateľná, pretože v tomto bode neexistuje parciálna derivácia podľa $x$ (**Príklad 1**).  \n",
    "\n",
    "Teda spojitosť je nutnou, ale nie postačujúcou podmienkou pre diferencovateľnosť funkcie v danom bode."
   ]
  },
  {
   "cell_type": "markdown",
   "metadata": {},
   "source": [
    "---\n",
    "\n",
    "#### 5. Ak $f_x=f_y=0$ v bode $[1,3]$, potom $f$ má lokálne maximum alebo minimum v bode $[1,3]$.\n",
    "\n",
    "a) Áno     \n",
    "<font color=blue> b) Nie </font>  \n",
    "  \n",
    "<ins> Vysvetlenie: </ins>    \n",
    "(**Definícia 4**) Ak platí $f_x(1,3)=f_y(1,3)=0$, znamená to len, že funkcia $f$ má v bode $[1,3]$ stacionárny bod. Stacionárny bod však nemusí byť ani lokálne maximum ani lokálne minimum - môže to byť aj sedlový bod. \n",
    "\n",
    "Napríklad:  \n",
    "Klasickým príkladom je funkcia $f(x,y)=x^2-y^2$, ktorá má v bode $[0,0]$ nulové parciálne derivácie ($f_x(0,0)=f_y(0,0)=0$), ale tento bod nie je ani lokálnym maximom ani minimom - je to sedlový bod. \n",
    "\n",
    "Preto samotná existencia nulových parciálnych derivácií v bode nestačí na určenie, či ide o lokálne maximum alebo minimum."
   ]
  },
  {
   "cell_type": "markdown",
   "metadata": {},
   "source": [
    "---\n",
    "\n",
    "#### 6. Ak pre funkciu $f(x,y)$ platí, že $D=f_{xx}f_{yy}-(f_{xy})^2=0$ v bode $[a,b]$, potom $[a,b]$ je sedlový bod. \n",
    "\n",
    "a) Áno     \n",
    "<font color=blue> b) Nie </font>\n",
    "  \n",
    "<ins> Vysvetlenie: </ins>    \n",
    "(**Veta 5**) Nulovosť determinantu $D$ (tzv. Hessiánu) v bode $[a,b]$ nie je postačujúcou podmienkou na to, aby tento bod bol sedlovým bodom.\n",
    "\n",
    "Determinant $D = 0$ znamená len to, že druhé parciálne derivácie funkcie $f$ sú v bode $[a,b]$ lineárne závislé. Pre určenie, či ide o sedlový bod, potrebujeme vedieť:\n",
    "1. Či je bod $[a,b]$ stacionárnym bodom (t.j. či $f_x = f_y = 0$)\n",
    "2. Znamienko determinantu $D$\n",
    "3. Znamienko $f_xx$ alebo $f_yy$\n",
    "\n",
    "Samotná podmienka $D = 0$ nestačí na určenie typu stacionárneho bodu. Bod $[a,b]$ môže byť:\n",
    "- sedlovým bodom\n",
    "- lokálnym extrémom\n",
    "- alebo ani jedným z nich"
   ]
  },
  {
   "cell_type": "markdown",
   "metadata": {},
   "source": [
    "---\n",
    "\n",
    "#### 7. Ak $f_x(P_0)=f_y(P_0)=0$, potom $P_0$ je kritický bod funkcie $f$.\n",
    "\n",
    "<font color=blue> a) Áno    </font>   \n",
    "b) Nie       \n",
    "  \n",
    "<ins> Vysvetlenie: </ins>    \n",
    "(**Poznámka 5**) Ak v bode $P_0$ sú obe parciálne derivácie nulové $(f_x(P_0) = f_y(P_0) = 0)$ alebo niektorá z partciálnych derivácií neexistuje, potom tento bod $P_0$ je kritickým bodom funkcie $f$."
   ]
  }
 ],
 "metadata": {
  "kernelspec": {
   "display_name": "SageMath 9.3",
   "language": "sage",
   "name": "sagemath"
  },
  "language_info": {
   "codemirror_mode": {
    "name": "ipython",
    "version": 3
   },
   "file_extension": ".py",
   "mimetype": "text/x-python",
   "name": "python",
   "nbconvert_exporter": "python",
   "pygments_lexer": "ipython3",
   "version": "3.7.10"
  }
 },
 "nbformat": 4,
 "nbformat_minor": 4
}

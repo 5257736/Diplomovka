{
 "cells": [
  {
   "cell_type": "markdown",
   "metadata": {},
   "source": [
    "**Autori:** Andrej Gajdoš, Dagmara Lopatková  <br> \n",
    "*[Ústav matematických vied](https://www.upjs.sk/prirodovedecka-fakulta/ustav/umv/), [Prírodovedecká fakulta](https://www.upjs.sk/prirodovedecka-fakulta/), Univerzita Pavla Jozefa Šafárika v Košiciach,* <br> \n",
    "email: [andrej.gajdos@upjs.sk](mailto:andrej.gajdos@upjs.sk)\n",
    "\n",
    "***\n",
    "\n",
    "**<font size=6 color=blue> MTIa: Téma 4 - Číselné sústavy </font>** "
   ]
  },
  {
   "cell_type": "markdown",
   "metadata": {},
   "source": [
    "---\n",
    "\n",
    "#### 1. Aké číslice (symboly) sa používajú v oktálnej (osmičkovej) číselnej sústave?\n",
    "\n",
    "a) $A$-$H$  \n",
    "b) $1$-$8$  \n",
    "<font color=blue> c) $0$-$7$  </font>    \n",
    "d) $0$-$3$ a $A$-$D$   \n",
    "  \n",
    "<ins> Vysvetlenie: </ins>    \n",
    "Osmičková (oktálna) sústava čísel bola navrhnutá pre kompaktné znázornenie binárnych čísel. Systém osmičkových čísel sa nazýva sústava so základom 8, pretože má celkom osem číslic ($0$ - $7$) a pozičná hodnota je vyjadrená v mocninách čísla $8$."
   ]
  },
  {
   "cell_type": "markdown",
   "metadata": {},
   "source": [
    "---\n",
    "\n",
    "#### 2. Keďže existuje len $10$ rôznych číslic, tak nie je možné aby základ sústavy bol väčší ako $10$.\n",
    "\n",
    "a) Áno      \n",
    "<font color=blue> b) Nie </font>   \n",
    "  \n",
    "<ins> Vysvetlenie: </ins>     \n",
    "Základ sústavy môže byť väčší ako 10, pretože čísla vyššie ako 9 vieme zapísať pomocou písmen.\n",
    "\n",
    "Napríklad v šestnástkovej sústave, ktorá má základ 16, máme číslice $0$ - $9$ a potom písmená $A$, $B$, $C$, $D$, $E$, $F$, ktoré predstavujú čísla $10$, $11$, $12$, $13$, $14$, $15$ v šestnástkovej sústave."
   ]
  },
  {
   "cell_type": "markdown",
   "metadata": {},
   "source": [
    "---\n",
    "\n",
    "#### 3. Najväčšie číslo, ktoré je možné zakódovať (vyjadriť) 4 bitmi (4 binárnymi číslicami) je:\n",
    "\n",
    "a) $13$     \n",
    "b) $14$  \n",
    "<font color=blue>  c) $15$  </font>   \n",
    "d) $16$        \n",
    "e) $17$  \n",
    "f) $18$  \n",
    "  \n",
    "  \n",
    "<ins> Vysvetlenie: </ins>   \n",
    "Najväčšie číslo, ktoré môžeme vyjadriť 4 bitmi (111) je $$1\\cdot2^3+1\\cdot2^2+1\\cdot2^1+1\\cdot2^0$$\n",
    "\n",
    "$$8+4+2+1=15$$"
   ]
  },
  {
   "cell_type": "markdown",
   "metadata": {},
   "source": [
    "---\n",
    "\n",
    "#### 4. Aká je binárna reprezentácia hexadecimálneho symbolu \"$A$\" ? \n",
    "\n",
    "a) $1111$   \n",
    "b) $1101$     \n",
    "c) $01010$  \n",
    "<font color=blue> d) $1010$</font>   \n",
    "e) $1001$  \n",
    "f) $1100$  \n",
    "  \n",
    "<ins> Vysvetlenie: </ins>    \n",
    "Musíme si uvedomiť, že $A$ predstavuje $10$ v dekadickom zápise. Číslo $10$ môžeme vyjadriť ako:\n",
    "\n",
    "$$10 = 1 \\cdot 2^3 + 0 \\cdot 2^2 + 1 \\cdot 2^1 + 0 \\cdot 2^0$$\n",
    "\n",
    "Symbol $A$ v šestnástkovej sústave alebo číslo $10$ v desiatkovej chceme zapísať do skupiny 4 binárnych číslic. Takže v hexadecimálnej sústave vieme číslo $10$ zapísať ako $1010$."
   ]
  },
  {
   "cell_type": "markdown",
   "metadata": {},
   "source": [
    "---\n",
    "\n",
    "#### 5. Aka je desiatková reprezentácia hexadecimálneho symbolu $C$ ?\n",
    "\n",
    "a) $10$   \n",
    "b) $11$  \n",
    "<font color=blue> c) $12$  </font>  \n",
    "d) $13$  \n",
    "e) $14$  \n",
    "f) $15$  \n",
    "g) $16$  \n",
    "  \n",
    "<ins> Vysvetlenie: </ins>     \n",
    "Máme $0$ - $9$ číslic a potom nasledujú písmená. V šestnástkovej sústave:\n",
    "\n",
    "- $A$ predstavuje číslo $10$ v desiatkovej sústave,\n",
    "- $B$ predstavuje číslo $11$ v desiatkovej sústave,\n",
    "- $C$ predstavuje číslo $12$ v desiatkovej sústave,\n",
    "- $D$ predstavuje číslo $13$ v desiatkovej sústave,\n",
    "- a tak ďalej."
   ]
  },
  {
   "cell_type": "markdown",
   "metadata": {},
   "source": [
    "---\n",
    "\n",
    "#### 6. Pri ceste na inú planétu vidíte na tabuli matematický príklad $13 + 15 = 31$. Aký základ číselnej sústavy používajú?\n",
    "\n",
    "a) $5$   \n",
    "b) $6$  \n",
    "<font color=blue> c) $7$  </font>  \n",
    "d) $8$  \n",
    "e) $9$  \n",
    "f) $10$    \n",
    "  \n",
    "<ins> Vysvetlenie: </ins>     \n",
    "Vieme, že ak by sme predpokladali, že čísla sú v desiatkovej sústave, tak by:\n",
    "\n",
    "$$13 + 15 = 28$$\n",
    "\n",
    "lenže my máme výsledok $31$. Takže rozdiel medzi nimi je:\n",
    "\n",
    "$$31 - 28 = 3$$\n",
    "\n",
    "Tento rozdiel nám umožňuje určiť základ číselnej sústavy. Základ číselnej sústavy je:\n",
    "\n",
    "$$10 - 3 = 7$$\n",
    "\n",
    "Teda základ číselnej sústavy, ktorý sa používa, je $7$.\n"
   ]
  },
  {
   "cell_type": "markdown",
   "metadata": {},
   "source": [
    "---\n",
    "\n",
    "#### 7. Na inej planéte vidíte príklad $15-7=7$. Aký základ číselnej sústavy používajú tam?  \n",
    "\n",
    "a) $6$   \n",
    "b) $7$  \n",
    "c) $8$  \n",
    "<font color=blue> d) $9$   </font>     \n",
    "e) $10$   \n",
    "  \n",
    "<ins> Vysvetlenie: </ins>   \n",
    "Vieme, že ak by sme predpokladali, že čísla sú v desiatkovej sústave, tak by:\n",
    "\n",
    "$$15 - 7 = 8$$\n",
    "\n",
    "lenže my máme výsledok $7$. Takže rozdiel medzi nimi je:\n",
    "\n",
    "$$8 - 7 = 1$$\n",
    "\n",
    "Tento rozdiel nám umožňuje určiť základ číselnej sústavy. Základ číselnej sústavy je:\n",
    "\n",
    "$$10 - 1 = 9$$\n",
    "\n",
    "Teda základ číselnej sústavy, ktorý sa používa, je $9$.\n"
   ]
  }
 ],
 "metadata": {
  "kernelspec": {
   "display_name": "Python 3",
   "language": "python",
   "name": "python3"
  },
  "language_info": {
   "codemirror_mode": {
    "name": "ipython",
    "version": 3
   },
   "file_extension": ".py",
   "mimetype": "text/x-python",
   "name": "python",
   "nbconvert_exporter": "python",
   "pygments_lexer": "ipython3",
   "version": "3.7.10"
  }
 },
 "nbformat": 4,
 "nbformat_minor": 4
}

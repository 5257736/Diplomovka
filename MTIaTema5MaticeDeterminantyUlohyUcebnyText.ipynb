{
 "cells": [
  {
   "cell_type": "markdown",
   "metadata": {},
   "source": [
    "**Autori:** Andrej Gajdoš, Dagmara Lopatková  <br> \n",
    "*[Ústav matematiky](https://www.upjs.sk/prirodovedecka-fakulta/ustav/umv/), [Prírodovedecká fakulta](https://www.upjs.sk/prirodovedecka-fakulta/), Univerzita Pavla Jozefa Šafárika v Košiciach,* <br> \n",
    "email: [andrej.gajdos@upjs.sk](mailto:andrej.gajdos@upjs.sk)\n",
    "*** \n",
    "**_Tento materiál vznikol za podpory grantu VVGS-2021-1758._** \n",
    "*** \n",
    "\n",
    "**<font size=6 color=blue> MTIa: Téma 5 - Matice a determinanty: úlohy k učebnému textu </font>**"
   ]
  },
  {
   "cell_type": "markdown",
   "metadata": {},
   "source": [
    "---\n",
    "\n",
    "**1. Uvažujte matice z úvodu študijného materiálu. Čomu sú rovné nasledujúce prvky matíc: $a_{12}$, $b_{22}$, $b_{43}$, $c_{23}$ ? Čomu odpovedajú vektory $c_{.4}$ a $c_{4.}$ ? Vypíšte všetky diagonálne prvky (na hlavnej diagonále) matice $\\boldsymbol{\\mathrm{A}}$ a matice $\\boldsymbol{\\mathrm{B}}$**"
   ]
  },
  {
   "cell_type": "markdown",
   "metadata": {},
   "source": [
    "<ins> Riešenie: </ins>  \n",
    "\n",
    "Máme tieto matice:"
   ]
  },
  {
   "cell_type": "code",
   "execution_count": 1,
   "metadata": {
    "scrolled": true
   },
   "outputs": [
    {
     "data": {
      "text/html": [
       "<html><script type=\"math/tex; mode=display\">\\newcommand{\\Bold}[1]{\\mathbf{#1}}\\left(\\begin{array}{rrrrr}\n",
       "-1 & 2 & 1 & -5 & 6 \\\\\n",
       "0 & 0 & -1 & 1 & -5 \\\\\n",
       "1 & 3 & 3 & -1 & 0 \\\\\n",
       "-1 & 5 & -1 & 0 & -1\n",
       "\\end{array}\\right) \\left(\\begin{array}{rrr}\n",
       "1 & 2 & 3 \\\\\n",
       "4 & 5 & 6 \\\\\n",
       "7 & 8 & 9\n",
       "\\end{array}\\right) \\left(\\begin{array}{rrrr}\n",
       "-\\frac{1}{2} & 2 & 1 & -5 \\\\\n",
       "\\frac{3}{2} & 0 & 0 & -1 \\\\\n",
       "\\frac{1}{2} & -\\frac{5}{3} & 1 & \\frac{3}{2} \\\\\n",
       "3 & -1 & 0 & -\\frac{1}{5} \\\\\n",
       "5 & -\\frac{1}{4} & 0 & -1\n",
       "\\end{array}\\right)</script></html>"
      ],
      "text/latex": [
       "$$\\newcommand{\\Bold}[1]{\\mathbf{#1}}\\left(\\begin{array}{rrrrr}\n",
       "-1 & 2 & 1 & -5 & 6 \\\\\n",
       "0 & 0 & -1 & 1 & -5 \\\\\n",
       "1 & 3 & 3 & -1 & 0 \\\\\n",
       "-1 & 5 & -1 & 0 & -1\n",
       "\\end{array}\\right) \\left(\\begin{array}{rrr}\n",
       "1 & 2 & 3 \\\\\n",
       "4 & 5 & 6 \\\\\n",
       "7 & 8 & 9\n",
       "\\end{array}\\right) \\left(\\begin{array}{rrrr}\n",
       "-\\frac{1}{2} & 2 & 1 & -5 \\\\\n",
       "\\frac{3}{2} & 0 & 0 & -1 \\\\\n",
       "\\frac{1}{2} & -\\frac{5}{3} & 1 & \\frac{3}{2} \\\\\n",
       "3 & -1 & 0 & -\\frac{1}{5} \\\\\n",
       "5 & -\\frac{1}{4} & 0 & -1\n",
       "\\end{array}\\right)$$"
      ],
      "text/plain": [
       "[-1  2  1 -5  6]\n",
       "[ 0  0 -1  1 -5]\n",
       "[ 1  3  3 -1  0]\n",
       "[-1  5 -1  0 -1] [1 2 3]\n",
       "[4 5 6]\n",
       "[7 8 9] [-1/2    2    1   -5]\n",
       "[ 3/2    0    0   -1]\n",
       "[ 1/2 -5/3    1  3/2]\n",
       "[   3   -1    0 -1/5]\n",
       "[   5 -1/4    0   -1]"
      ]
     },
     "metadata": {},
     "output_type": "display_data"
    }
   ],
   "source": [
    "# priklady matic \n",
    "# na vytvorenie matice sluzi funkcia matrix(), prve dve cisla urcuju rozmery - teda pocet riadkov a pocet stlpcov \n",
    "A = matrix( 4, 5, [-1, 2, 1, -5, 6, 0, 0, -1, 1, -5, 1, 3, 3, -1, 0, -1, 5, -1, 0, -1 ] )\n",
    "B = matrix(3, 3, [1, 2, 3, 4, 5, 6, 7, 8, 9]) \n",
    "# matica C je vytvorena pomocou zoznamov riadkov - t.j. jeden zoznam = jeden riadok\n",
    "C = matrix( [ [-1/2, 2, 1, -5,], [6/4, 0, 0, -1], [1/2 , -5/3, 1, 3/2], [3, -1, 0, -1/5] , [5, -1/4, 0, -1 ] ] )\n",
    "show(A,B,C)"
   ]
  },
  {
   "cell_type": "markdown",
   "metadata": {},
   "source": [
    "$\\boldsymbol{\\mathrm{A}} = \\left(\\begin{array}{rrrrr}\n",
    "-1 & 2 & 1 & -5 & 6 \\\\\n",
    "0 & 0 & -1 & 1 & -5 \\\\\n",
    "1 & 3 & 3 & -1 & 0 \\\\\n",
    "-1 & 5 & -1 & 0 & -1\n",
    "\\end{array}\\right)$\n",
    "$\\boldsymbol{\\mathrm{B}}=\\left(\\begin{array}{rrr}\n",
    "1 & 2 & 3 \\\\\n",
    "4 & 5 & 6 \\\\\n",
    "7 & 8 & 9\n",
    "\\end{array}\\right)$\n",
    "$\\boldsymbol{\\mathrm{C}}=\\left(\\begin{array}{rrrr}\n",
    "-\\frac{1}{2} & 2 & 1 & -5 \\\\\n",
    "\\frac{3}{2} & 0 & 0 & -1 \\\\\n",
    "\\frac{1}{2} & -\\frac{5}{3} & 1 & \\frac{3}{2} \\\\\n",
    "3 & -1 & 0 & -\\frac{1}{5} \\\\\n",
    "5 & -\\frac{1}{4} & 0 & -1\n",
    "\\end{array}\\right)$"
   ]
  },
  {
   "cell_type": "markdown",
   "metadata": {},
   "source": [
    "Prvok matice $a_{12}$ vieme nájsť tak, že $1$ predstavuje prvý riadok a $2$ predstavuje druhý stĺpec a to je rovné $2$,  \n",
    "\n",
    "$b_{22}$ -> $2$ predstavuje druhý riadok a $2$ predstavuje druhý stĺpec a to je rovné $5$,  \n",
    "\n",
    "$b_{43}$ -> $4$ predstavuje štvrtý riadok a $3$ predstavuje tretí stĺpec a taký prvok **neexistuje**,  \n",
    "\n",
    "$c_{23}$ -> $2$ predstavuje druhý riadok a $3$ predstavuje tretí stĺpec a to je rovné $0$."
   ]
  },
  {
   "cell_type": "markdown",
   "metadata": {},
   "source": [
    "---\n",
    "\n",
    "**2. Vzťahy a) - f) v Tvrdení 1 ilustrujte na konrétnych príkladoch v Sage.**"
   ]
  },
  {
   "cell_type": "markdown",
   "metadata": {},
   "source": [
    "Nech $\\boldsymbol{\\mathrm{A}}$, $\\boldsymbol{\\mathrm{B}}$ a $\\boldsymbol{\\mathrm{C}}$ sú matice rovnakých rozmerov a nech $p$, $q$ sú prvky (skaláry) z poľa $\\mathbb{F}$. Potom platia nasledujúce vzťahy: \n",
    "\n",
    "a) $\\boldsymbol{\\mathrm{A}}+\\boldsymbol{\\mathrm{B}}=\\boldsymbol{\\mathrm{B}}+\\boldsymbol{\\mathrm{A}}$;\n",
    "\n",
    "b) $\\left(\\boldsymbol{\\mathrm{A}}+\\boldsymbol{\\mathrm{B}}\\right)+\\boldsymbol{\\mathrm{C}}=\\boldsymbol{\\mathrm{A}}+\\left(\\boldsymbol{\\mathrm{B}}+\\boldsymbol{\\mathrm{C}}\\right)$; \n",
    "\n",
    "c) $\\boldsymbol{\\mathrm{A}}+\\boldsymbol{\\mathrm{0}}=\\boldsymbol{\\mathrm{A}}$, kde $\\boldsymbol{\\mathrm{0}}$ predstavuje nulovú maticu (všetky jej prvky sú $0$); \n",
    "\n",
    "d) $p\\left(\\boldsymbol{\\mathrm{A}}+\\boldsymbol{\\mathrm{B}}\\right)=p\\boldsymbol{\\mathrm{A}}+p\\boldsymbol{\\mathrm{B}}$; \n",
    "\n",
    "e) $(p+q)\\boldsymbol{\\mathrm{A}}=p\\boldsymbol{\\mathrm{A}}+q\\boldsymbol{\\mathrm{A}}$;\n",
    "\n",
    "f) $p(q\\boldsymbol{\\mathrm{A}})=(pq)\\boldsymbol{\\mathrm{A}}$. \n",
    "\n",
    "<ins> Riešenie: </ins>  \n",
    "\n",
    "Napr. Zoberieme tieto matice: \n",
    "\n",
    "$\\boldsymbol{\\mathrm{A}}=\\left(\\begin{array}{rr}\n",
    "11 & 12 \\\\\n",
    "13 & 14\n",
    "\\end{array}\\right)$\n",
    "\n",
    "$\\boldsymbol{\\mathrm{B}}=\\left(\\begin{array}{rr}\n",
    "1 & 2 \\\\\n",
    "3 & 4 \n",
    "\\end{array}\\right)$\n",
    "\n",
    "$\\boldsymbol{\\mathrm{C}}=\\left(\\begin{array}{rr}\n",
    "10 & 20 \\\\\n",
    "30 & 40 \n",
    "\\end{array}\\right)$\n",
    "\n",
    "$p=2$ a $q=5$  \n",
    "\n",
    "\n",
    "a) $\\boldsymbol{\\mathrm{A}}+\\boldsymbol{\\mathrm{B}}=\\boldsymbol{\\mathrm{B}}+\\boldsymbol{\\mathrm{A}}$;  \n",
    "\n",
    "$\\left(\\begin{array}{rr}\n",
    "11 & 12 \\\\\n",
    "13 & 14\n",
    "\\end{array}\\right)$\n",
    "+\n",
    "$\\left(\\begin{array}{rr}\n",
    "1 & 2 \\\\\n",
    "3 & 4\n",
    "\\end{array}\\right)$\n",
    "=\n",
    "$\\left(\\begin{array}{rr}\n",
    "12 & 14 \\\\\n",
    "16 & 18\n",
    "\\end{array}\\right)$\n",
    "=\n",
    "$\\left(\\begin{array}{rr}\n",
    "1 & 2 \\\\\n",
    "3 & 4\n",
    "\\end{array}\\right)$\n",
    "+\n",
    "$\\left(\\begin{array}{rr}\n",
    "11 & 12 \\\\\n",
    "13 & 14\n",
    "\\end{array}\\right)$\n"
   ]
  },
  {
   "cell_type": "code",
   "execution_count": 16,
   "metadata": {},
   "outputs": [
    {
     "data": {
      "text/html": [
       "<html><script type=\"math/tex; mode=display\">\\newcommand{\\Bold}[1]{\\mathbf{#1}}\\left(\\begin{array}{rr}\n",
       "12 & 14 \\\\\n",
       "16 & 18\n",
       "\\end{array}\\right)</script></html>"
      ],
      "text/latex": [
       "$$\\newcommand{\\Bold}[1]{\\mathbf{#1}}\\left(\\begin{array}{rr}\n",
       "12 & 14 \\\\\n",
       "16 & 18\n",
       "\\end{array}\\right)$$"
      ],
      "text/plain": [
       "[12 14]\n",
       "[16 18]"
      ]
     },
     "metadata": {},
     "output_type": "display_data"
    },
    {
     "data": {
      "text/html": [
       "<html><script type=\"math/tex; mode=display\">\\newcommand{\\Bold}[1]{\\mathbf{#1}}\\left(\\begin{array}{rr}\n",
       "12 & 14 \\\\\n",
       "16 & 18\n",
       "\\end{array}\\right)</script></html>"
      ],
      "text/latex": [
       "$$\\newcommand{\\Bold}[1]{\\mathbf{#1}}\\left(\\begin{array}{rr}\n",
       "12 & 14 \\\\\n",
       "16 & 18\n",
       "\\end{array}\\right)$$"
      ],
      "text/plain": [
       "[12 14]\n",
       "[16 18]"
      ]
     },
     "metadata": {},
     "output_type": "display_data"
    }
   ],
   "source": [
    "#vztah a)\n",
    "A = matrix(2,2,[11,12,13,14])\n",
    "B = matrix(2,2,[1,2,3,4])\n",
    "show(A+B)\n",
    "show(B+A)"
   ]
  },
  {
   "cell_type": "markdown",
   "metadata": {},
   "source": [
    "b) \n",
    "$\\left(\\boldsymbol{\\mathrm{A}}+\\boldsymbol{\\mathrm{B}}\\right)+\\boldsymbol{\\mathrm{C}}=\\boldsymbol{\\mathrm{A}}+\\left(\\boldsymbol{\\mathrm{B}}+\\boldsymbol{\\mathrm{C}}\\right)$;  \n",
    "\n",
    "$\\Bigg($ $\\left(\\begin{array}{rr}\n",
    "11 & 12 \\\\\n",
    "13 & 14\n",
    "\\end{array}\\right)$\n",
    "+\n",
    "$ \\left(\\begin{array}{rr}\n",
    "1 & 2 \\\\\n",
    "3 & 4 \n",
    "\\end{array}\\right)$ $\\Bigg)$\n",
    "+\n",
    "$\\left(\\begin{array}{rr}\n",
    "10 & 20 \\\\\n",
    "30 & 40 \n",
    "\\end{array}\\right)$\n",
    "=\n",
    "$ \\left(\\begin{array}{rr}\n",
    "12 & 14 \\\\\n",
    "16 & 18 \n",
    "\\end{array}\\right)$ $\\Bigg)$\n",
    "+\n",
    "$\\left(\\begin{array}{rr}\n",
    "10 & 20 \\\\\n",
    "30 & 40 \n",
    "\\end{array}\\right)$\n",
    "=\n",
    "$\\left(\\begin{array}{rr}\n",
    "22 & 34 \\\\\n",
    "46 & 58 \n",
    "\\end{array}\\right)$  \n",
    "\n",
    "$\\left(\\begin{array}{rr}\n",
    "11 & 12 \\\\\n",
    "13 & 14\n",
    "\\end{array}\\right)$\n",
    "+\n",
    "$\\Bigg($$ \\left(\\begin{array}{rr}\n",
    "1 & 2 \\\\\n",
    "3 & 4 \n",
    "\\end{array}\\right)$ \n",
    "+\n",
    "$\\left(\\begin{array}{rr}\n",
    "10 & 20 \\\\\n",
    "30 & 40 \n",
    "\\end{array}\\right)$$\\Bigg)$\n",
    "=\n",
    "$\\left(\\begin{array}{rr}\n",
    "11 & 12 \\\\\n",
    "13 & 14\n",
    "\\end{array}\\right)$\n",
    "+\n",
    "$\\left(\\begin{array}{rr}\n",
    "11 & 22 \\\\\n",
    "33 & 44 \n",
    "\\end{array}\\right)$\n",
    "=\n",
    "$\\left(\\begin{array}{rr}\n",
    "22 & 34 \\\\\n",
    "46 & 58 \n",
    "\\end{array}\\right)$\n"
   ]
  },
  {
   "cell_type": "code",
   "execution_count": 17,
   "metadata": {
    "scrolled": true
   },
   "outputs": [
    {
     "data": {
      "text/html": [
       "<html><script type=\"math/tex; mode=display\">\\newcommand{\\Bold}[1]{\\mathbf{#1}}\\left(\\begin{array}{rr}\n",
       "22 & 34 \\\\\n",
       "46 & 58\n",
       "\\end{array}\\right)</script></html>"
      ],
      "text/latex": [
       "$$\\newcommand{\\Bold}[1]{\\mathbf{#1}}\\left(\\begin{array}{rr}\n",
       "22 & 34 \\\\\n",
       "46 & 58\n",
       "\\end{array}\\right)$$"
      ],
      "text/plain": [
       "[22 34]\n",
       "[46 58]"
      ]
     },
     "metadata": {},
     "output_type": "display_data"
    },
    {
     "data": {
      "text/html": [
       "<html><script type=\"math/tex; mode=display\">\\newcommand{\\Bold}[1]{\\mathbf{#1}}\\left(\\begin{array}{rr}\n",
       "22 & 34 \\\\\n",
       "46 & 58\n",
       "\\end{array}\\right)</script></html>"
      ],
      "text/latex": [
       "$$\\newcommand{\\Bold}[1]{\\mathbf{#1}}\\left(\\begin{array}{rr}\n",
       "22 & 34 \\\\\n",
       "46 & 58\n",
       "\\end{array}\\right)$$"
      ],
      "text/plain": [
       "[22 34]\n",
       "[46 58]"
      ]
     },
     "metadata": {},
     "output_type": "display_data"
    }
   ],
   "source": [
    "#vztah b)\n",
    "A = matrix(2,2,[11,12,13,14])\n",
    "B = matrix(2,2,[1,2,3,4])\n",
    "C = matrix(2,2,[10,20,30,40])\n",
    "show((A+B)+C)\n",
    "show(A+(B+C))"
   ]
  },
  {
   "cell_type": "markdown",
   "metadata": {},
   "source": [
    "c) $\\boldsymbol{\\mathrm{A}}+\\boldsymbol{\\mathrm{0}}=\\boldsymbol{\\mathrm{A}}$, kde $\\boldsymbol{\\mathrm{0}}$ predstavuje nulovú maticu (všetky jej prvky sú $0$); \n",
    "\n",
    "$\\left(\\begin{array}{rr}\n",
    "11 & 12 \\\\\n",
    "13 & 14\n",
    "\\end{array}\\right)$\n",
    "+\n",
    "$\\left(\\begin{array}{rr}\n",
    "0 & 0 \\\\\n",
    "0 & 0\n",
    "\\end{array}\\right)$\n",
    "=\n",
    "$\\left(\\begin{array}{rr}\n",
    "11 & 12 \\\\\n",
    "13 & 14\n",
    "\\end{array}\\right)$"
   ]
  },
  {
   "cell_type": "code",
   "execution_count": 18,
   "metadata": {},
   "outputs": [
    {
     "data": {
      "text/html": [
       "<html><script type=\"math/tex; mode=display\">\\newcommand{\\Bold}[1]{\\mathbf{#1}}\\left(\\begin{array}{rr}\n",
       "11 & 12 \\\\\n",
       "13 & 14\n",
       "\\end{array}\\right)</script></html>"
      ],
      "text/latex": [
       "$$\\newcommand{\\Bold}[1]{\\mathbf{#1}}\\left(\\begin{array}{rr}\n",
       "11 & 12 \\\\\n",
       "13 & 14\n",
       "\\end{array}\\right)$$"
      ],
      "text/plain": [
       "[11 12]\n",
       "[13 14]"
      ]
     },
     "metadata": {},
     "output_type": "display_data"
    }
   ],
   "source": [
    "#vztah c)\n",
    "A = matrix(2,2,[11,12,13,14])\n",
    "nul = matrix(2,2,[0,0,0,0])\n",
    "show(A+nul)"
   ]
  },
  {
   "cell_type": "markdown",
   "metadata": {},
   "source": [
    "d) $p\\left(\\boldsymbol{\\mathrm{A}}+\\boldsymbol{\\mathrm{B}}\\right)=p\\boldsymbol{\\mathrm{A}}+p\\boldsymbol{\\mathrm{B}}$; \n",
    "\n",
    "$2\\times\n",
    "\\Bigg(\\left(\\begin{array}{rr}\n",
    "11 & 12 \\\\\n",
    "13 & 14\n",
    "\\end{array}\\right)$\n",
    "+\n",
    "$ \\left(\\begin{array}{rr}\n",
    "1 & 2 \\\\\n",
    "3 & 4 \n",
    "\\end{array}\\right)$ $\\Bigg)$\n",
    "=\n",
    "$2\\times \n",
    "\\left(\\begin{array}{rr}\n",
    "12 & 14 \\\\\n",
    "16 & 18\n",
    "\\end{array}\\right)$ \n",
    "=\n",
    "$\\left(\\begin{array}{rr}\n",
    "24 & 28 \\\\\n",
    "32 & 36\n",
    "\\end{array}\\right)$\n",
    "\n",
    "$2\\times\n",
    "\\left(\\begin{array}{rr}\n",
    "11 & 12 \\\\\n",
    "13 & 14\n",
    "\\end{array}\\right)$\n",
    "+\n",
    "$ 2\\times\n",
    "\\left(\\begin{array}{rr}\n",
    "1 & 2 \\\\\n",
    "3 & 4 \n",
    "\\end{array}\\right)$\n",
    "=\n",
    "$\\left(\\begin{array}{rr}\n",
    "22 & 24 \\\\\n",
    "26 & 28\n",
    "\\end{array}\\right)$\n",
    "+\n",
    "$\\left(\\begin{array}{rr}\n",
    "2 & 4 \\\\\n",
    "6 & 8 \n",
    "\\end{array}\\right)$\n",
    "=\n",
    "$\\left(\\begin{array}{rr}\n",
    "24 & 28 \\\\\n",
    "32 & 36 \n",
    "\\end{array}\\right)$"
   ]
  },
  {
   "cell_type": "code",
   "execution_count": 19,
   "metadata": {},
   "outputs": [
    {
     "data": {
      "text/html": [
       "<html><script type=\"math/tex; mode=display\">\\newcommand{\\Bold}[1]{\\mathbf{#1}}\\left(\\begin{array}{rr}\n",
       "24 & 28 \\\\\n",
       "32 & 36\n",
       "\\end{array}\\right)</script></html>"
      ],
      "text/latex": [
       "$$\\newcommand{\\Bold}[1]{\\mathbf{#1}}\\left(\\begin{array}{rr}\n",
       "24 & 28 \\\\\n",
       "32 & 36\n",
       "\\end{array}\\right)$$"
      ],
      "text/plain": [
       "[24 28]\n",
       "[32 36]"
      ]
     },
     "metadata": {},
     "output_type": "display_data"
    },
    {
     "data": {
      "text/html": [
       "<html><script type=\"math/tex; mode=display\">\\newcommand{\\Bold}[1]{\\mathbf{#1}}\\left(\\begin{array}{rr}\n",
       "24 & 28 \\\\\n",
       "32 & 36\n",
       "\\end{array}\\right)</script></html>"
      ],
      "text/latex": [
       "$$\\newcommand{\\Bold}[1]{\\mathbf{#1}}\\left(\\begin{array}{rr}\n",
       "24 & 28 \\\\\n",
       "32 & 36\n",
       "\\end{array}\\right)$$"
      ],
      "text/plain": [
       "[24 28]\n",
       "[32 36]"
      ]
     },
     "metadata": {},
     "output_type": "display_data"
    }
   ],
   "source": [
    "#vztah d)\n",
    "A = matrix(2,2,[11,12,13,14])\n",
    "B = matrix(2,2,[1,2,3,4])\n",
    "p=2\n",
    "show(p*(A+B))\n",
    "show(p*A+p*B)"
   ]
  },
  {
   "cell_type": "markdown",
   "metadata": {},
   "source": [
    "e) $(p+q)\\boldsymbol{\\mathrm{A}}=p\\boldsymbol{\\mathrm{A}}+q\\boldsymbol{\\mathrm{A}}$;  \n",
    "\n",
    "$(2+5)\\times$\n",
    "$\\left(\\begin{array}{rr}\n",
    "11 & 12 \\\\\n",
    "13 & 14\n",
    "\\end{array}\\right)$\n",
    "=\n",
    "$7\\times \n",
    "\\left(\\begin{array}{rr}\n",
    "11 & 12 \\\\\n",
    "13 & 14\n",
    "\\end{array}\\right)$\n",
    "=\n",
    "$\\left(\\begin{array}{rr}\n",
    "77 & 84 \\\\\n",
    "91 & 98\n",
    "\\end{array}\\right)$\n",
    "\n",
    "$2\\times \\left(\\begin{array}{rr}\n",
    "11 & 12 \\\\\n",
    "13 & 14\n",
    "\\end{array}\\right)$\n",
    "+\n",
    "$5\\times \\left(\\begin{array}{rr}\n",
    "11 & 12 \\\\\n",
    "13 & 14\n",
    "\\end{array}\\right)$\n",
    "=\n",
    "$\\left(\\begin{array}{rr}\n",
    "22 & 24 \\\\\n",
    "26 & 28\n",
    "\\end{array}\\right)$\n",
    "+\n",
    "$\\left(\\begin{array}{rr}\n",
    "55 & 60 \\\\\n",
    "65 & 70\n",
    "\\end{array}\\right)$\n",
    "=\n",
    "$\\left(\\begin{array}{rr}\n",
    "77 & 84 \\\\\n",
    "91 & 98\n",
    "\\end{array}\\right)$"
   ]
  },
  {
   "cell_type": "code",
   "execution_count": 20,
   "metadata": {},
   "outputs": [
    {
     "data": {
      "text/html": [
       "<html><script type=\"math/tex; mode=display\">\\newcommand{\\Bold}[1]{\\mathbf{#1}}\\left(\\begin{array}{rr}\n",
       "77 & 84 \\\\\n",
       "91 & 98\n",
       "\\end{array}\\right)</script></html>"
      ],
      "text/latex": [
       "$$\\newcommand{\\Bold}[1]{\\mathbf{#1}}\\left(\\begin{array}{rr}\n",
       "77 & 84 \\\\\n",
       "91 & 98\n",
       "\\end{array}\\right)$$"
      ],
      "text/plain": [
       "[77 84]\n",
       "[91 98]"
      ]
     },
     "metadata": {},
     "output_type": "display_data"
    },
    {
     "data": {
      "text/html": [
       "<html><script type=\"math/tex; mode=display\">\\newcommand{\\Bold}[1]{\\mathbf{#1}}\\left(\\begin{array}{rr}\n",
       "77 & 84 \\\\\n",
       "91 & 98\n",
       "\\end{array}\\right)</script></html>"
      ],
      "text/latex": [
       "$$\\newcommand{\\Bold}[1]{\\mathbf{#1}}\\left(\\begin{array}{rr}\n",
       "77 & 84 \\\\\n",
       "91 & 98\n",
       "\\end{array}\\right)$$"
      ],
      "text/plain": [
       "[77 84]\n",
       "[91 98]"
      ]
     },
     "metadata": {},
     "output_type": "display_data"
    }
   ],
   "source": [
    "#vztah e)\n",
    "A = matrix(2,2,[11,12,13,14])\n",
    "p=2\n",
    "q=5\n",
    "show((p+q)*A)\n",
    "show(p*A+q*A)"
   ]
  },
  {
   "cell_type": "markdown",
   "metadata": {},
   "source": [
    "f) $p(q\\boldsymbol{\\mathrm{A}})=(pq)\\boldsymbol{\\mathrm{A}}$  \n",
    "\n",
    "$2\\times \\bigg( 5 \\times \\left(\\begin{array}{rr}\n",
    "11 & 12 \\\\\n",
    "13 & 14\n",
    "\\end{array}\\right) \\bigg)\n",
    "=\n",
    "2\\times \\left(\\begin{array}{rr}\n",
    "55 & 60 \\\\\n",
    "65 & 70\n",
    "\\end{array}\\right)\n",
    "=\n",
    "\\left(\\begin{array}{rr}\n",
    "110 & 120 \\\\\n",
    "130 & 140\n",
    "\\end{array}\\right)$\n",
    "\n",
    "$(2\\times 5)\\times$ \n",
    "$\\left(\\begin{array}{rr}\n",
    "11 & 12 \\\\\n",
    "13 & 14\n",
    "\\end{array}\\right)$\n",
    "=\n",
    "$10\\times$\n",
    "$\\left(\\begin{array}{rr}\n",
    "11 & 12 \\\\\n",
    "13 & 14\n",
    "\\end{array}\\right)$\n",
    "=\n",
    "$\\left(\\begin{array}{rr}\n",
    "110 & 120 \\\\\n",
    "130 & 140\n",
    "\\end{array}\\right)$"
   ]
  },
  {
   "cell_type": "code",
   "execution_count": 21,
   "metadata": {},
   "outputs": [
    {
     "data": {
      "text/html": [
       "<html><script type=\"math/tex; mode=display\">\\newcommand{\\Bold}[1]{\\mathbf{#1}}\\left(\\begin{array}{rr}\n",
       "110 & 120 \\\\\n",
       "130 & 140\n",
       "\\end{array}\\right)</script></html>"
      ],
      "text/latex": [
       "$$\\newcommand{\\Bold}[1]{\\mathbf{#1}}\\left(\\begin{array}{rr}\n",
       "110 & 120 \\\\\n",
       "130 & 140\n",
       "\\end{array}\\right)$$"
      ],
      "text/plain": [
       "[110 120]\n",
       "[130 140]"
      ]
     },
     "metadata": {},
     "output_type": "display_data"
    },
    {
     "data": {
      "text/html": [
       "<html><script type=\"math/tex; mode=display\">\\newcommand{\\Bold}[1]{\\mathbf{#1}}\\left(\\begin{array}{rr}\n",
       "110 & 120 \\\\\n",
       "130 & 140\n",
       "\\end{array}\\right)</script></html>"
      ],
      "text/latex": [
       "$$\\newcommand{\\Bold}[1]{\\mathbf{#1}}\\left(\\begin{array}{rr}\n",
       "110 & 120 \\\\\n",
       "130 & 140\n",
       "\\end{array}\\right)$$"
      ],
      "text/plain": [
       "[110 120]\n",
       "[130 140]"
      ]
     },
     "metadata": {},
     "output_type": "display_data"
    }
   ],
   "source": [
    "#vztah f)\n",
    "A = matrix(2,2,[11,12,13,14])\n",
    "p=2\n",
    "q=5\n",
    "show(p*(q*A))\n",
    "show((p*q)*A)"
   ]
  },
  {
   "cell_type": "markdown",
   "metadata": {},
   "source": [
    "--- \n",
    "\n",
    "**3. Vzťahy a) - e) v Tvrdení 2 ilustrujte na konrétnych príkladoch v Sage.**"
   ]
  },
  {
   "cell_type": "markdown",
   "metadata": {},
   "source": [
    "Nech $\\boldsymbol{\\mathrm{A}}$, $\\boldsymbol{\\mathrm{B}}$, $\\boldsymbol{\\mathrm{C}}$ sú matice nad poľom $\\mathbb{F}$ vhodných rozmerov tak, aby príslušné operácie (súčty, súčiny) s nimi boli definované, pričom matica $\\boldsymbol{\\mathrm{A}}$ nech je typu $m\\times n$ a nech $p$ je prvok (skalár) z poľa $\\mathbb{F}$. Potom platia tieto vzťahy: \n",
    "\n",
    "a) $\\boldsymbol{\\mathrm{A}}(\\boldsymbol{\\mathrm{B}}\\boldsymbol{\\mathrm{C}})=(\\boldsymbol{\\mathrm{A}}\\boldsymbol{\\mathrm{B}})\\boldsymbol{\\mathrm{C}}$;\n",
    "\n",
    "b) $A(\\boldsymbol{\\mathrm{B}}+\\boldsymbol{\\mathrm{C}})=\\boldsymbol{\\mathrm{A}}\\boldsymbol{\\mathrm{B}}+\\boldsymbol{\\mathrm{A}}\\boldsymbol{\\mathrm{C}}$;\n",
    "\n",
    "c) $(\\boldsymbol{\\mathrm{B}}+\\boldsymbol{\\mathrm{C}})\\boldsymbol{\\mathrm{A}}=\\boldsymbol{\\mathrm{B}}\\boldsymbol{\\mathrm{A}}+\\boldsymbol{\\mathrm{C}}\\boldsymbol{\\mathrm{A}}$;\n",
    "\n",
    "d) $p(\\boldsymbol{\\mathrm{A}}\\boldsymbol{\\mathrm{B}})=(p\\boldsymbol{\\mathrm{A}})\\boldsymbol{\\mathrm{B}}=\\boldsymbol{\\mathrm{A}}(p\\boldsymbol{\\mathrm{B}})$;\n",
    "\n",
    "e) $\\boldsymbol{\\mathrm{I}}_m\\boldsymbol{\\mathrm{A}}=\\boldsymbol{\\mathrm{A}}=\\boldsymbol{\\mathrm{A}}\\boldsymbol{\\mathrm{I}}_n$, ak $m=n$ tak $\\boldsymbol{\\mathrm{I}}_n\\boldsymbol{\\mathrm{A}}=\\boldsymbol{\\mathrm{A}}=\\boldsymbol{\\mathrm{A}}\\boldsymbol{\\mathrm{I}}_n$.\n",
    "\n",
    "\n",
    "<ins> Riešenie: </ins>  \n",
    "\n",
    "Napr. Zoberieme tieto matice: \n",
    "\n",
    "$\\boldsymbol{\\mathrm{A}}=\\left(\\begin{array}{rr}\n",
    "11 & 12 \\\\\n",
    "13 & 14\n",
    "\\end{array}\\right)$\n",
    "\n",
    "$\\boldsymbol{\\mathrm{B}}=\\left(\\begin{array}{rr}\n",
    "1 & 2 \\\\\n",
    "3 & 4 \n",
    "\\end{array}\\right)$\n",
    "\n",
    "$\\boldsymbol{\\mathrm{C}}=\\left(\\begin{array}{rr}\n",
    "10 & 20 \\\\\n",
    "30 & 40 \n",
    "\\end{array}\\right)$\n",
    "\n",
    "$p=2$ "
   ]
  },
  {
   "cell_type": "code",
   "execution_count": 7,
   "metadata": {},
   "outputs": [
    {
     "data": {
      "text/html": [
       "<html><script type=\"math/tex; mode=display\">\\newcommand{\\Bold}[1]{\\mathbf{#1}}\\left(\\begin{array}{rr}\n",
       "2570 & 3740 \\\\\n",
       "3010 & 4380\n",
       "\\end{array}\\right)</script></html>"
      ],
      "text/latex": [
       "$$\\newcommand{\\Bold}[1]{\\mathbf{#1}}\\left(\\begin{array}{rr}\n",
       "2570 & 3740 \\\\\n",
       "3010 & 4380\n",
       "\\end{array}\\right)$$"
      ],
      "text/plain": [
       "[2570 3740]\n",
       "[3010 4380]"
      ]
     },
     "metadata": {},
     "output_type": "display_data"
    },
    {
     "data": {
      "text/html": [
       "<html><script type=\"math/tex; mode=display\">\\newcommand{\\Bold}[1]{\\mathbf{#1}}\\left(\\begin{array}{rr}\n",
       "2570 & 3740 \\\\\n",
       "3010 & 4380\n",
       "\\end{array}\\right)</script></html>"
      ],
      "text/latex": [
       "$$\\newcommand{\\Bold}[1]{\\mathbf{#1}}\\left(\\begin{array}{rr}\n",
       "2570 & 3740 \\\\\n",
       "3010 & 4380\n",
       "\\end{array}\\right)$$"
      ],
      "text/plain": [
       "[2570 3740]\n",
       "[3010 4380]"
      ]
     },
     "metadata": {},
     "output_type": "display_data"
    }
   ],
   "source": [
    "#vztah a)\n",
    "A = matrix(2,2,[11,12,13,14])\n",
    "B = matrix(2,2,[1,2,3,4])\n",
    "C = matrix(2,2,[10,20,30,40])\n",
    "show(A*(B*C))\n",
    "show((A*B)*C)"
   ]
  },
  {
   "cell_type": "code",
   "execution_count": 8,
   "metadata": {},
   "outputs": [
    {
     "data": {
      "text/html": [
       "<html><script type=\"math/tex; mode=display\">\\newcommand{\\Bold}[1]{\\mathbf{#1}}\\left(\\begin{array}{rr}\n",
       "517 & 770 \\\\\n",
       "605 & 902\n",
       "\\end{array}\\right)</script></html>"
      ],
      "text/latex": [
       "$$\\newcommand{\\Bold}[1]{\\mathbf{#1}}\\left(\\begin{array}{rr}\n",
       "517 & 770 \\\\\n",
       "605 & 902\n",
       "\\end{array}\\right)$$"
      ],
      "text/plain": [
       "[517 770]\n",
       "[605 902]"
      ]
     },
     "metadata": {},
     "output_type": "display_data"
    },
    {
     "data": {
      "text/html": [
       "<html><script type=\"math/tex; mode=display\">\\newcommand{\\Bold}[1]{\\mathbf{#1}}\\left(\\begin{array}{rr}\n",
       "517 & 770 \\\\\n",
       "605 & 902\n",
       "\\end{array}\\right)</script></html>"
      ],
      "text/latex": [
       "$$\\newcommand{\\Bold}[1]{\\mathbf{#1}}\\left(\\begin{array}{rr}\n",
       "517 & 770 \\\\\n",
       "605 & 902\n",
       "\\end{array}\\right)$$"
      ],
      "text/plain": [
       "[517 770]\n",
       "[605 902]"
      ]
     },
     "metadata": {},
     "output_type": "display_data"
    }
   ],
   "source": [
    "#vztah b)\n",
    "A = matrix(2,2,[11,12,13,14])\n",
    "B = matrix(2,2,[1,2,3,4])\n",
    "C = matrix(2,2,[10,20,30,40])\n",
    "show(A*(B+C))\n",
    "show((A*B)+(A*C))"
   ]
  },
  {
   "cell_type": "code",
   "execution_count": 9,
   "metadata": {},
   "outputs": [
    {
     "data": {
      "text/html": [
       "<html><script type=\"math/tex; mode=display\">\\newcommand{\\Bold}[1]{\\mathbf{#1}}\\left(\\begin{array}{rr}\n",
       "407 & 440 \\\\\n",
       "935 & 1012\n",
       "\\end{array}\\right)</script></html>"
      ],
      "text/latex": [
       "$$\\newcommand{\\Bold}[1]{\\mathbf{#1}}\\left(\\begin{array}{rr}\n",
       "407 & 440 \\\\\n",
       "935 & 1012\n",
       "\\end{array}\\right)$$"
      ],
      "text/plain": [
       "[ 407  440]\n",
       "[ 935 1012]"
      ]
     },
     "metadata": {},
     "output_type": "display_data"
    },
    {
     "data": {
      "text/html": [
       "<html><script type=\"math/tex; mode=display\">\\newcommand{\\Bold}[1]{\\mathbf{#1}}\\left(\\begin{array}{rr}\n",
       "407 & 440 \\\\\n",
       "935 & 1012\n",
       "\\end{array}\\right)</script></html>"
      ],
      "text/latex": [
       "$$\\newcommand{\\Bold}[1]{\\mathbf{#1}}\\left(\\begin{array}{rr}\n",
       "407 & 440 \\\\\n",
       "935 & 1012\n",
       "\\end{array}\\right)$$"
      ],
      "text/plain": [
       "[ 407  440]\n",
       "[ 935 1012]"
      ]
     },
     "metadata": {},
     "output_type": "display_data"
    }
   ],
   "source": [
    "#vztah c)\n",
    "A = matrix(2,2,[11,12,13,14])\n",
    "B = matrix(2,2,[1,2,3,4])\n",
    "C = matrix(2,2,[10,20,30,40])\n",
    "show((B+C)*A)\n",
    "show((B*A)+(C*A))"
   ]
  },
  {
   "cell_type": "code",
   "execution_count": 10,
   "metadata": {},
   "outputs": [
    {
     "data": {
      "text/html": [
       "<html><script type=\"math/tex; mode=display\">\\newcommand{\\Bold}[1]{\\mathbf{#1}}\\left(\\begin{array}{rr}\n",
       "94 & 140 \\\\\n",
       "110 & 164\n",
       "\\end{array}\\right)</script></html>"
      ],
      "text/latex": [
       "$$\\newcommand{\\Bold}[1]{\\mathbf{#1}}\\left(\\begin{array}{rr}\n",
       "94 & 140 \\\\\n",
       "110 & 164\n",
       "\\end{array}\\right)$$"
      ],
      "text/plain": [
       "[ 94 140]\n",
       "[110 164]"
      ]
     },
     "metadata": {},
     "output_type": "display_data"
    },
    {
     "data": {
      "text/html": [
       "<html><script type=\"math/tex; mode=display\">\\newcommand{\\Bold}[1]{\\mathbf{#1}}\\left(\\begin{array}{rr}\n",
       "94 & 140 \\\\\n",
       "110 & 164\n",
       "\\end{array}\\right)</script></html>"
      ],
      "text/latex": [
       "$$\\newcommand{\\Bold}[1]{\\mathbf{#1}}\\left(\\begin{array}{rr}\n",
       "94 & 140 \\\\\n",
       "110 & 164\n",
       "\\end{array}\\right)$$"
      ],
      "text/plain": [
       "[ 94 140]\n",
       "[110 164]"
      ]
     },
     "metadata": {},
     "output_type": "display_data"
    },
    {
     "data": {
      "text/html": [
       "<html><script type=\"math/tex; mode=display\">\\newcommand{\\Bold}[1]{\\mathbf{#1}}\\left(\\begin{array}{rr}\n",
       "94 & 140 \\\\\n",
       "110 & 164\n",
       "\\end{array}\\right)</script></html>"
      ],
      "text/latex": [
       "$$\\newcommand{\\Bold}[1]{\\mathbf{#1}}\\left(\\begin{array}{rr}\n",
       "94 & 140 \\\\\n",
       "110 & 164\n",
       "\\end{array}\\right)$$"
      ],
      "text/plain": [
       "[ 94 140]\n",
       "[110 164]"
      ]
     },
     "metadata": {},
     "output_type": "display_data"
    }
   ],
   "source": [
    "#vztah d)\n",
    "A = matrix(2,2,[11,12,13,14])\n",
    "B = matrix(2,2,[1,2,3,4])\n",
    "p=2\n",
    "show(p*(A*B))\n",
    "show((p*A)*B)\n",
    "show(A*(p*B))"
   ]
  },
  {
   "cell_type": "code",
   "execution_count": 15,
   "metadata": {},
   "outputs": [
    {
     "data": {
      "text/html": [
       "<html><script type=\"math/tex; mode=display\">\\newcommand{\\Bold}[1]{\\mathbf{#1}}\\left(\\begin{array}{rr}\n",
       "11 & 12 \\\\\n",
       "13 & 14\n",
       "\\end{array}\\right)</script></html>"
      ],
      "text/latex": [
       "$$\\newcommand{\\Bold}[1]{\\mathbf{#1}}\\left(\\begin{array}{rr}\n",
       "11 & 12 \\\\\n",
       "13 & 14\n",
       "\\end{array}\\right)$$"
      ],
      "text/plain": [
       "[11 12]\n",
       "[13 14]"
      ]
     },
     "metadata": {},
     "output_type": "display_data"
    },
    {
     "data": {
      "text/html": [
       "<html><script type=\"math/tex; mode=display\">\\newcommand{\\Bold}[1]{\\mathbf{#1}}\\left(\\begin{array}{rr}\n",
       "11 & 12 \\\\\n",
       "13 & 14\n",
       "\\end{array}\\right)</script></html>"
      ],
      "text/latex": [
       "$$\\newcommand{\\Bold}[1]{\\mathbf{#1}}\\left(\\begin{array}{rr}\n",
       "11 & 12 \\\\\n",
       "13 & 14\n",
       "\\end{array}\\right)$$"
      ],
      "text/plain": [
       "[11 12]\n",
       "[13 14]"
      ]
     },
     "metadata": {},
     "output_type": "display_data"
    }
   ],
   "source": [
    "#vztah e)\n",
    "A = matrix(2,2,[11,12,13,14])\n",
    "I = matrix(2,2,[1,0,0,1])\n",
    "show(A*I)\n",
    "show(I*A)"
   ]
  },
  {
   "cell_type": "markdown",
   "metadata": {},
   "source": [
    "---\n",
    "\n",
    "**4. Vypočítajte algebraický doplnok k prvku $a_{44}$ v Príklade 5.** "
   ]
  },
  {
   "cell_type": "markdown",
   "metadata": {},
   "source": [
    "<ins> Riešenie: </ins>  \n",
    "\n",
    "\n",
    "Nech je daná matica \n",
    "\n",
    "$$\\boldsymbol{\\mathrm{A}}=\\left(\\begin{array}{rrrr}\n",
    "1 & 2 & 2 & 1 \\\\\n",
    "3 & -1 & 2 & 4 \\\\\n",
    "0 & -2 & 0 & 3 \\\\\n",
    "1 & 2 & -1 & -2\n",
    "\\end{array}\\right).$$ \n",
    "\n",
    "Určíme, čomu je rovný algebraický doplnok k prvku $a_{44}$, t.j. $\\alpha_{44}$. \n",
    "\n",
    "Postupujeme podľa definície algebraického doplnku. K prvku matice $a_{44}$ potrebujeme vytvoriť podmaticu $\\boldsymbol{\\mathrm{A}}_{44}$ tak, že z pôvodnej matice $\\boldsymbol{\\mathrm{A}}$ vynecháme $4.$ riadok a $4.$ stĺpec, čím dostávame \n",
    "\n",
    "$$\\boldsymbol{\\mathrm{A}}_{44}=\n",
    "\\left(\\begin{array}{rrr}\n",
    "1 & 2 & 2 \\\\\n",
    "3 & -1 & 2 \\\\\n",
    "0 & -2 & 0\n",
    "\\end{array}\\right).$$\n",
    "\n",
    "Prvok $a_{44}=-2$ v pôvodnej matici $\\boldsymbol{\\mathrm{A}}$ je na pozícii $[4,4]$ (štvrtý riadok, štvrtý stĺpec) a teda algebraický doplnok vyzerá takto: \n",
    "\n",
    "$$\\alpha_{44}=(-1)^{4+4}\\cdot\\mathrm{det}\\left(\\boldsymbol{\\mathrm{A}}_{44}\\right)=(-1)^8\\cdot\n",
    "\\begin{vmatrix}\n",
    "1 & 2 & 2 \\\\\n",
    "3 & -1 & 2 \\\\\n",
    "0 & -2 & 0\n",
    "\\end{vmatrix}=\n",
    "(+1)\\cdot(-8)=-8. \n",
    "$$\n",
    " \n",
    "\n",
    "Ukážeme si aj výpočet pomocou Sage. "
   ]
  },
  {
   "cell_type": "code",
   "execution_count": 2,
   "metadata": {},
   "outputs": [
    {
     "data": {
      "text/html": [
       "<html><script type=\"math/tex; mode=display\">\\newcommand{\\Bold}[1]{\\mathbf{#1}}\\left(\\begin{array}{rrrr}\n",
       "1 & 2 & 2 & 1 \\\\\n",
       "3 & -1 & 2 & 4 \\\\\n",
       "0 & -2 & 0 & 3 \\\\\n",
       "1 & 2 & -1 & -2\n",
       "\\end{array}\\right)</script></html>"
      ],
      "text/latex": [
       "$$\\newcommand{\\Bold}[1]{\\mathbf{#1}}\\left(\\begin{array}{rrrr}\n",
       "1 & 2 & 2 & 1 \\\\\n",
       "3 & -1 & 2 & 4 \\\\\n",
       "0 & -2 & 0 & 3 \\\\\n",
       "1 & 2 & -1 & -2\n",
       "\\end{array}\\right)$$"
      ],
      "text/plain": [
       "[ 1  2  2  1]\n",
       "[ 3 -1  2  4]\n",
       "[ 0 -2  0  3]\n",
       "[ 1  2 -1 -2]"
      ]
     },
     "metadata": {},
     "output_type": "display_data"
    }
   ],
   "source": [
    "A = matrix(4,4,[1,2,2,1,3,-1,2,4,0,-2,0,3,1,2,-1,-2])\n",
    "show(A)"
   ]
  },
  {
   "cell_type": "code",
   "execution_count": 3,
   "metadata": {},
   "outputs": [
    {
     "data": {
      "text/html": [
       "<html><script type=\"math/tex; mode=display\">\\newcommand{\\Bold}[1]{\\mathbf{#1}}\\left(\\begin{array}{rrr}\n",
       "1 & 2 & 2 \\\\\n",
       "3 & -1 & 2 \\\\\n",
       "0 & -2 & 0\n",
       "\\end{array}\\right)</script></html>"
      ],
      "text/latex": [
       "$$\\newcommand{\\Bold}[1]{\\mathbf{#1}}\\left(\\begin{array}{rrr}\n",
       "1 & 2 & 2 \\\\\n",
       "3 & -1 & 2 \\\\\n",
       "0 & -2 & 0\n",
       "\\end{array}\\right)$$"
      ],
      "text/plain": [
       "[ 1  2  2]\n",
       "[ 3 -1  2]\n",
       "[ 0 -2  0]"
      ]
     },
     "metadata": {},
     "output_type": "display_data"
    }
   ],
   "source": [
    "A44mat = matrix(3,3,[1,2,2,3,-1,2,0,-2,0])\n",
    "show(A44mat) "
   ]
  },
  {
   "cell_type": "code",
   "execution_count": 4,
   "metadata": {},
   "outputs": [
    {
     "data": {
      "text/plain": [
       "-8"
      ]
     },
     "execution_count": 4,
     "metadata": {},
     "output_type": "execute_result"
    }
   ],
   "source": [
    "alpha44 = (-1)^(4+4) * det(A44mat)\n",
    "alpha44"
   ]
  },
  {
   "cell_type": "markdown",
   "metadata": {},
   "source": [
    "---\n",
    "\n",
    "**5. Rozhodnite o pravdivosti výroku: Nie je možné nájsť takú maticu $\\boldsymbol{\\mathrm{A}}$, aby platilo**  \n",
    "$$\\boldsymbol{\\mathrm{0}}\\boldsymbol{\\mathrm{A}}=\\boldsymbol{\\mathrm{A}}\\boldsymbol{\\mathrm{0}}=\\boldsymbol{\\mathrm{I}},$$ \n",
    "**kde $\\boldsymbol{\\mathrm{0}}$ je nulová matica typu $5\\times5$ a $\\boldsymbol{\\mathrm{I}}$ je jednotková diagonálna matica typu $5\\times5$ t.j. $\\boldsymbol{\\mathrm{I}}_5$. Svoju odpoveď zdôvodnite.** <br/> \n",
    "**A) Pravda.  \n",
    "B) Nepravda.**\n"
   ]
  },
  {
   "cell_type": "markdown",
   "metadata": {},
   "source": [
    "<ins> Riešenie: </ins>  \n",
    "\n",
    "Pravda. Pretože nie je možné nájsť takú maticu $\\boldsymbol{\\mathrm{A}}$, aby daný výrok platil. \n",
    "Ak by sme zobrali hocijakú maticu A a vynásobili ju nulovou maticou tak, výsledok je vždy nulová matica. Hovorí o tom aj **Definícia 6**, že matica $\\boldsymbol{\\mathrm{A}}$ by musela byť inverznou maticou k nulovej matici, ale inverzná matica k nulovej matici **neexistuje**, preto výrok je pravdivý. \n",
    "\n",
    "\n",
    "\n",
    "Vysvetlenie: \n",
    "1. Násobenie nulovou maticou:\n",
    "   Keď násobíme $\\boldsymbol{\\mathrm{0}}\\boldsymbol{\\mathrm{A}}$, znamená to, že každý riadok nulovej matice $\\boldsymbol{\\mathrm{0}}$ násobíme s každým stĺpcom matice $\\boldsymbol{\\mathrm{A}}$. Z definície násobenia matíc (riadok krát stĺpec) vždy dostaneme nulový prvok vo výslednej matici.\n",
    "\n",
    "   Príklad:\n",
    "   $$\n",
    "   \\boldsymbol{\\mathrm{0}}\\boldsymbol{\\mathrm{A}} = \n",
    "   \\begin{bmatrix}\n",
    "   0 & 0 & 0 & 0 & 0 \\\\\n",
    "   0 & 0 & 0 & 0 & 0 \\\\\n",
    "   0 & 0 & 0 & 0 & 0 \\\\\n",
    "   0 & 0 & 0 & 0 & 0 \\\\\n",
    "   0 & 0 & 0 & 0 & 0\n",
    "   \\end{bmatrix}\n",
    "   \\begin{bmatrix}\n",
    "   a_{11} & a_{12} & a_{13} & a_{14} & a_{15} \\\\\n",
    "   a_{21} & a_{22} & a_{23} & a_{24} & a_{25} \\\\\n",
    "   a_{31} & a_{32} & a_{33} & a_{34} & a_{35} \\\\\n",
    "   a_{41} & a_{42} & a_{43} & a_{44} & a_{45} \\\\\n",
    "   a_{51} & a_{52} & a_{53} & a_{54} & a_{55}\n",
    "   \\end{bmatrix} =\n",
    "   \\begin{bmatrix}\n",
    "   0 & 0 & 0 & 0 & 0 \\\\\n",
    "   0 & 0 & 0 & 0 & 0 \\\\\n",
    "   0 & 0 & 0 & 0 & 0 \\\\\n",
    "   0 & 0 & 0 & 0 & 0 \\\\\n",
    "   0 & 0 & 0 & 0 & 0\n",
    "   \\end{bmatrix}\n",
    "   $$\n",
    "\n",
    "\n",
    "\n",
    "2. Podobne, pri násobení $\\boldsymbol{\\mathrm{A}}\\boldsymbol{\\mathrm{0}}$, každý riadok matice $\\boldsymbol{\\mathrm{A}}$ násobíme nulovými stĺpcami matice $\\boldsymbol{\\mathrm{0}}$, čo opäť vedie k nulovej matici.\n",
    "\n",
    "3. Výsledok $\\boldsymbol{\\mathrm{0}}\\boldsymbol{\\mathrm{A}} = \\boldsymbol{\\mathrm{A}}\\boldsymbol{\\mathrm{0}} = \\boldsymbol{\\mathrm{0}}$ je vždy nulová matica, nie jednotková matica $\\boldsymbol{\\mathrm{I}}_5$.\n",
    "\n",
    "4. Navyše, ako bolo spomenuté, matica $\\boldsymbol{\\mathrm{A}}$ by musela byť inverznou maticou k nulovej matici, aby platilo $\\boldsymbol{\\mathrm{0}}\\boldsymbol{\\mathrm{A}} = \\boldsymbol{\\mathrm{I}}_5$. Avšak, nulová matica nemá inverznú maticu.\n",
    "\n",
    "Preto nie je možné nájsť takú maticu $\\boldsymbol{\\mathrm{A}}$, aby platilo $\\boldsymbol{\\mathrm{0}}\\boldsymbol{\\mathrm{A}} = \\boldsymbol{\\mathrm{A}}\\boldsymbol{\\mathrm{0}} = \\boldsymbol{\\mathrm{I}}_5$, a teda výrok je pravdivý."
   ]
  },
  {
   "cell_type": "markdown",
   "metadata": {},
   "source": [
    "---\n",
    "\n",
    "**6. Aké <font color=red> konkrétne </font> otázky máte k náplni študijných materiálov, ktoré by ste chceli na hodine prediskutovať?**"
   ]
  },
  {
   "cell_type": "code",
   "execution_count": null,
   "metadata": {},
   "outputs": [],
   "source": []
  }
 ],
 "metadata": {
  "kernelspec": {
   "display_name": "SageMath 9.3",
   "language": "sage",
   "name": "sagemath"
  },
  "language_info": {
   "codemirror_mode": {
    "name": "ipython",
    "version": 3
   },
   "file_extension": ".py",
   "mimetype": "text/x-python",
   "name": "python",
   "nbconvert_exporter": "python",
   "pygments_lexer": "ipython3",
   "version": "3.7.10"
  }
 },
 "nbformat": 4,
 "nbformat_minor": 2
}

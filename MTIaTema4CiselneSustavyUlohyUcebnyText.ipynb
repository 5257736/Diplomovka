{
 "cells": [
  {
   "cell_type": "markdown",
   "metadata": {},
   "source": [
    "**Autori:** Andrej Gajdoš, Dagmara Lopatková  <br> \n",
    "*[Ústav matematiky](https://www.upjs.sk/prirodovedecka-fakulta/ustav/umv/), [Prírodovedecká fakulta](https://www.upjs.sk/prirodovedecka-fakulta/), Univerzita Pavla Jozefa Šafárika v Košiciach,* <br> \n",
    "email: [andrej.gajdos@upjs.sk](mailto:andrej.gajdos@upjs.sk)\n",
    "***\n",
    "**_Tento materiál vznikol za podpory grantu VVGS-2021-1758._** \n",
    "*** \n",
    "\n",
    "**<font size=6 color=blue> MTIa: Téma 4 - Číselné sústavy: úlohy k učebnému textu </font>**"
   ]
  },
  {
   "cell_type": "markdown",
   "metadata": {},
   "source": [
    "---\n",
    "\n",
    "**1. Podobne ako v Príklade 2, s využitím Sage a [tabuľky ASCII kódov](https://en.wikipedia.org/wiki/List_of_Unicode_characters) (druhá tabuľka zhora) nájdite binárne vyjadrenia pre všetky písmená v slove MATEMATIKA.**"
   ]
  },
  {
   "cell_type": "markdown",
   "metadata": {},
   "source": [
    "<ins> Riešenie: </ins>   \n",
    "\n",
    "Kódujeme slovo MATEMATIKA a kódovanú hodnotu prevedieme na binárne hodnoty, ktorým môže porozumieť počítač.\n",
    "\n",
    "\n",
    "* ASCII hodnota (kód) písmena M je $77$ a prislúchajúci 7-bitový binárny kód je $1001101$. \n",
    "\n",
    "* ASCII hodnota (kód) písmena A je $65$ a prislúchajúci 7-bitový binárny kód je $1000001$.  \n",
    "\n",
    "* ASCII hodnota (kód) písmena T je $84$ a prislúchajúci 7-bitový binárny kód je $1010100$.  \n",
    "\n",
    "* ASCII hodnota (kód) písmena E je $69$ a prislúchajúci 7-bitový binárny kód je $1000101$. \n",
    "\n",
    "* ASCII hodnota (kód) písmena M je $77$ a prislúchajúci 7-bitový binárny kód je $1001101$. \n",
    "\n",
    "* ASCII hodnota (kód) písmena A je $65$ a prislúchajúci 7-bitový binárny kód je $1000001$.  \n",
    "\n",
    "* ASCII hodnota (kód) písmena T je $84$ a prislúchajúci 7-bitový binárny kód je $1010100$.  \n",
    "\n",
    "* ASCII hodnota (kód) písmena I je $73$ a prislúchajúci 7-bitový binárny kód je $1001001$.  \n",
    "\n",
    "* ASCII hodnota (kód) písmena K je $75$ a prislúchajúci 7-bitový binárny kód je $1001011$. \n",
    "\n",
    "* ASCII hodnota (kód) písmena A je $65$ a prislúchajúci 7-bitový binárny kód je $1000001$.  \n"
   ]
  },
  {
   "cell_type": "code",
   "execution_count": 1,
   "metadata": {},
   "outputs": [
    {
     "data": {
      "text/html": [
       "1000001"
      ],
      "text/plain": [
       "'1000001'"
      ]
     },
     "metadata": {},
     "output_type": "display_data"
    }
   ],
   "source": [
    "# pismeno A \n",
    "A = 65 # priradime do premennej A kod ASCII pre pismeno A \n",
    "show(A.str(base=2)) # \"povieme\" Sage aby previedol cislo 65 do dvojkovej (binarnej) sustavy, preto base = 2"
   ]
  },
  {
   "cell_type": "code",
   "execution_count": 2,
   "metadata": {},
   "outputs": [
    {
     "data": {
      "text/html": [
       "1000101"
      ],
      "text/plain": [
       "'1000101'"
      ]
     },
     "metadata": {},
     "output_type": "display_data"
    }
   ],
   "source": [
    "# pismeno E \n",
    "E = 69 # priradime do premennej E kod ASCII pre pismeno E \n",
    "show(E.str(base=2)) # \"povieme\" Sage aby previedol cislo 69 do dvojkovej (binarnej) sustavy, preto base = 2"
   ]
  },
  {
   "cell_type": "code",
   "execution_count": 3,
   "metadata": {},
   "outputs": [
    {
     "data": {
      "text/html": [
       "1001001"
      ],
      "text/plain": [
       "'1001001'"
      ]
     },
     "metadata": {},
     "output_type": "display_data"
    }
   ],
   "source": [
    "# pismeno I \n",
    "I = 73 # priradime do premennej I kod ASCII pre pismeno I \n",
    "show(I.str(base=2)) # \"povieme\" Sage aby previedol cislo 73 do dvojkovej (binarnej) sustavy, preto base = 2"
   ]
  },
  {
   "cell_type": "code",
   "execution_count": 4,
   "metadata": {},
   "outputs": [
    {
     "data": {
      "text/html": [
       "1001011"
      ],
      "text/plain": [
       "'1001011'"
      ]
     },
     "metadata": {},
     "output_type": "display_data"
    }
   ],
   "source": [
    "# pismeno K \n",
    "K = 75 # priradime do premennej K kod ASCII pre pismeno K \n",
    "show(K.str(base=2)) # \"povieme\" Sage aby previedol cislo 75 do dvojkovej (binarnej) sustavy, preto base = 2"
   ]
  },
  {
   "cell_type": "code",
   "execution_count": 5,
   "metadata": {},
   "outputs": [
    {
     "data": {
      "text/html": [
       "1001101"
      ],
      "text/plain": [
       "'1001101'"
      ]
     },
     "metadata": {},
     "output_type": "display_data"
    }
   ],
   "source": [
    "# pismeno M \n",
    "M = 77 # priradime do premennej M kod ASCII pre pismeno M \n",
    "show(M.str(base=2)) # \"povieme\" Sage aby previedol cislo 77 do dvojkovej (binarnej) sustavy, preto base = 2"
   ]
  },
  {
   "cell_type": "code",
   "execution_count": 6,
   "metadata": {},
   "outputs": [
    {
     "data": {
      "text/html": [
       "1010100"
      ],
      "text/plain": [
       "'1010100'"
      ]
     },
     "metadata": {},
     "output_type": "display_data"
    }
   ],
   "source": [
    "# pismeno T \n",
    "T = 84 # priradime do premennej T kod ASCII pre pismeno T \n",
    "show(T.str(base=2)) # \"povieme\" Sage aby previedol cislo 84 do dvojkovej (binarnej) sustavy, preto base = 2"
   ]
  },
  {
   "cell_type": "markdown",
   "metadata": {},
   "source": [
    "---\n",
    "\n",
    "**2. Podľa príkladu s číslom $123.45$ alebo s číslom $237.25$ z učebného textu zapíšte číslo $8204.11$ v desiatkovej sústave pomocou mocnín základu - t.j. pomocou mocnín čísla $10$ (resp. pomocou súčtu súčinov pozičných hodnôt a číslic).**"
   ]
  },
  {
   "cell_type": "markdown",
   "metadata": {},
   "source": [
    "<ins> Riešenie: </ins>  \n",
    "\n",
    "Dosteme zápis čísla $8204.11$ v desiatkovej sústave pomocou mocnín základu t.j. $ 8\\times10^3+2\\times10^2+0\\times10^1+4\\times10^0+1\\times10^{-1}+1\\times10^{-2}=(8204.11)_{10}$ , čo je možné skrátiť a zapísať v tvare $8204.11$. "
   ]
  },
  {
   "cell_type": "markdown",
   "metadata": {},
   "source": [
    "---\n",
    "\n",
    "**3. Podľa príkladov z učebného textu rozpíšte binárne čísla $(1001011)_2$, $(111111.01)_2$ pomocou mocnín základu - t.j. mocnín dvojky (resp. pomocou súčtu súčinov pozičných hodnôt a číslic) a nájdite ich hodnoty resp. vyjadrenia v desiatkovej sústave. Svoje riešenia overte v Sage.**"
   ]
  },
  {
   "cell_type": "markdown",
   "metadata": {},
   "source": [
    "<ins> Riešenie: </ins>  \n",
    "\n",
    "$(1001011)_2$ je možné rozpísať pomocou mocnín základu - t.j. mocnín dvojky do tvaru $1\\times2^6+0\\times2^5+0\\times2^4+1\\times2^3+0\\times2^2+1\\times2^1+1\\times2^0=75$. Teda číslu $(1001011)_2$ v dvojkovej sústave zodpovedá čislo $(75)_{10}$ v desiatkovej sústave.  \n",
    "\n",
    "$(111111.01)_2$ je možné rozpísať pomocou mocnín základu - t.j. mocnín dvojky do tvaru $1\\times2^5+1\\times2^4+1\\times2^3+1\\times2^2+1\\times2^1+1\\times2^0+0\\times2^{-1}+1\\times2^{-2}=63.25$. Teda číslu $(111111.01)_2$ v dvojkovej sústave zodpovedá čislo $(63.25)_{10}$ v desiatkovej sústave."
   ]
  },
  {
   "cell_type": "code",
   "execution_count": 60,
   "metadata": {},
   "outputs": [
    {
     "data": {
      "text/html": [
       "1001011"
      ],
      "text/plain": [
       "'1001011'"
      ]
     },
     "metadata": {},
     "output_type": "display_data"
    }
   ],
   "source": [
    "# kontrola v Sage \n",
    "x = 75\n",
    "show(x.str(base=2)) \n",
    "# vsimnime si, ze Sage pridal za desatinnu bodku 101 a potom vela nul, tieto nuly si v praxi mozeme odmysliet, \n",
    "# suvisi to s presnostou, s akou Sage pracuje "
   ]
  },
  {
   "cell_type": "code",
   "execution_count": 13,
   "metadata": {},
   "outputs": [
    {
     "data": {
      "text/html": [
       "111111.01000000000000000000000000000000000000000000000"
      ],
      "text/plain": [
       "'111111.01000000000000000000000000000000000000000000000'"
      ]
     },
     "metadata": {},
     "output_type": "display_data"
    }
   ],
   "source": [
    "# kontrola v Sage \n",
    "x = 63.25\n",
    "show(x.str(base=2)) \n",
    "# vsimnime si, ze Sage pridal za desatinnu bodku 101 a potom vela nul, tieto nuly si v praxi mozeme odmysliet, \n",
    "# suvisi to s presnostou, s akou Sage pracuje "
   ]
  },
  {
   "cell_type": "markdown",
   "metadata": {},
   "source": [
    "--- \n",
    "\n",
    "**4. Nájdite vyjadrenia pre $(13)_8$ a $(617.24)_8$ pomocou mocnín základu - t.j. mocnín čísla $8$ (resp. pomocou súčtu súčinov pozičných hodnôt a číslic) a napíšte tak hodnoty týchto čísel (zadaných v osmičkovej sústave) v desiatkovej sústave. Svoje riešenia overte v Sage.**"
   ]
  },
  {
   "cell_type": "markdown",
   "metadata": {},
   "source": [
    "<ins> Riešenie: </ins>  \n",
    "\n",
    "Zápis čísla $(13)_8$ pomocou mocnín základu - t.j. mocnín čísla $8$ je $1\\times8^1+3\\times8^0=11$. Teda číslu $(13)_8$ v osmičkovej sústave zodpovedá číslo $(11)_{10}$ v desiatkovej sústave.  \n",
    "\n",
    "Zápis čísla $(617.24)_8$ pomocou mocnín základu - t.j. mocnín čísla $8$ je $6\\times8^2+1\\times8^1+7\\times8^0+2\\times8^{-1}+4\\times8^{-2}=399.3125$. Teda číslu $(617.24)_8$ v osmičkovej sústave zodpovedá číslo $(399.3125)_{10}$ v desiatkovej sústave."
   ]
  },
  {
   "cell_type": "code",
   "execution_count": 14,
   "metadata": {},
   "outputs": [
    {
     "data": {
      "text/html": [
       "13"
      ],
      "text/plain": [
       "'13'"
      ]
     },
     "metadata": {},
     "output_type": "display_data"
    }
   ],
   "source": [
    "# kontrola pomocou Sage \n",
    "z = 11\n",
    "show(z.str(base=8)) # opat nuly na konci je mozne si odmysliet, nemenia hodnotu cisla "
   ]
  },
  {
   "cell_type": "code",
   "execution_count": 15,
   "metadata": {},
   "outputs": [
    {
     "data": {
      "text/html": [
       "617.2400000000000000"
      ],
      "text/plain": [
       "'617.2400000000000000'"
      ]
     },
     "metadata": {},
     "output_type": "display_data"
    }
   ],
   "source": [
    "# kontrola pomocou Sage \n",
    "z = 399.3125\n",
    "show(z.str(base=8)) # opat nuly na konci je mozne si odmysliet, nemenia hodnotu cisla "
   ]
  },
  {
   "cell_type": "markdown",
   "metadata": {},
   "source": [
    "--- \n",
    "\n",
    "**5. Podľa príkladu z učebného textu rozpíšte hexadecimálne čísla $(23A.05)_{16}$, $(619B.A)_{16}$ pomocou mocnín základu - t.j. mocnín šestnástky (resp. pomocou súčtu súčinov pozičných hodnôt a číslic) a nájdite ich hodnoty resp. vyjadrenia v desiatkovej sústave. Svoje riešenia overte v Sage.**"
   ]
  },
  {
   "cell_type": "markdown",
   "metadata": {},
   "source": [
    "<ins> Riešenie: </ins>  \n",
    "\n",
    "Číslo $(23A.05)_{16}$ uvedené v šestnástkovej sústave, je možné zapísať pomocou mocnín základu - t.j. mocnín šestnástky nasledovne $2\\times16^2+3\\times16^1+A\\times16^0+0\\times16^{-1}+5\\times16^{-2}=\\frac{145925}{256}$. Teda číslu $(23A.05)_{16}$ v šestnástkovej sústave zodpovedá číslo $(\\frac{145925}{256})_{10}$ v desiatkovej sústave. \n",
    "\n",
    "Číslo $(619B.A)_{16}$ uvedené v šestnástkovej sústave, je možné zapísať pomocou mocnín základu - t.j. mocnín šestnástky nasledovne $6\\times16^3+1\\times16^2+9\\times16^1+B\\times16^0+A\\times16^{-1}=24987.90909$. Teda číslu $(619B.A)_{16}$ v šestnástkovej sústave zodpovedá číslo $(24987.909090)_{10}$ v desiatkovej sústave."
   ]
  },
  {
   "cell_type": "code",
   "execution_count": 23,
   "metadata": {},
   "outputs": [
    {
     "data": {
      "text/html": [
       "<html><script type=\"math/tex; mode=display\">\\newcommand{\\Bold}[1]{\\mathbf{#1}}\\frac{145925}{256}</script></html>"
      ],
      "text/latex": [
       "$$\\newcommand{\\Bold}[1]{\\mathbf{#1}}\\frac{145925}{256}$$"
      ],
      "text/plain": [
       "145925/256"
      ]
     },
     "metadata": {},
     "output_type": "display_data"
    }
   ],
   "source": [
    "a=2*16^2+3*16^1+10*16^0+0*16^(-1)+5*16^(-2)\n",
    "show(a)"
   ]
  },
  {
   "cell_type": "code",
   "execution_count": 24,
   "metadata": {},
   "outputs": [
    {
     "data": {
      "text/html": [
       "23a05/100"
      ],
      "text/plain": [
       "'23a05/100'"
      ]
     },
     "metadata": {},
     "output_type": "display_data"
    }
   ],
   "source": [
    "# kontrola pomocou Sage \n",
    "z = 145925/256\n",
    "show(z.str(base=16))"
   ]
  },
  {
   "cell_type": "code",
   "execution_count": 61,
   "metadata": {},
   "outputs": [
    {
     "data": {
      "text/html": [
       "<html><script type=\"math/tex; mode=display\">\\newcommand{\\Bold}[1]{\\mathbf{#1}}\\frac{199901}{8}</script></html>"
      ],
      "text/latex": [
       "$$\\newcommand{\\Bold}[1]{\\mathbf{#1}}\\frac{199901}{8}$$"
      ],
      "text/plain": [
       "199901/8"
      ]
     },
     "metadata": {},
     "output_type": "display_data"
    }
   ],
   "source": [
    "b=6*16^3+1*16^2+9*16^1+11*16^0+10*16^(-1)\n",
    "show(b)"
   ]
  },
  {
   "cell_type": "code",
   "execution_count": 33,
   "metadata": {},
   "outputs": [
    {
     "data": {
      "text/html": [
       "30cdd/8"
      ],
      "text/plain": [
       "'30cdd/8'"
      ]
     },
     "metadata": {},
     "output_type": "display_data"
    }
   ],
   "source": [
    "# kontrola pomocou Sage \n",
    "x = 199901/8\n",
    "show(x.str(base=16))"
   ]
  },
  {
   "cell_type": "code",
   "execution_count": 62,
   "metadata": {},
   "outputs": [
    {
     "data": {
      "text/plain": [
       "199901/8"
      ]
     },
     "execution_count": 62,
     "metadata": {},
     "output_type": "execute_result"
    }
   ],
   "source": [
    "# kontrola \n",
    "(3*16^4+12*16^2+13*16^1+13)/8"
   ]
  },
  {
   "cell_type": "markdown",
   "metadata": {},
   "source": [
    "--- \n",
    "\n",
    "**6. Overte v Sage, že kódy farieb v desiatkovej sústave z tabuľky v učebnom texte majú uvedené binárne a hexadecimálne reprezentácie.**"
   ]
  },
  {
   "cell_type": "markdown",
   "metadata": {},
   "source": [
    "<ins> Riešenie: </ins>  \n",
    "\n",
    "**Čierna - Black** má binárny zápis : $$(00000000,00000000,00000000)$$\n",
    "Dekadický zápis: $$(0,0,0)$$\n",
    "Hexadecimálny zápis: $$(00,00,00)$$  \n",
    "\n",
    "**Biela - White** má binárny zápis : $$(11111111,11111111,11111111)$$\n",
    "Dekadický zápis: $$(255,255,255)$$\n",
    "Hexadecimálny zápis: $$(FF,FF,FF)$$  \n",
    "\n",
    "**Žltá - Yellow** má binárny zápis : $$(11111111,11111111,00000000)$$\n",
    "Dekadický zápis: $$(255,255,0)$$\n",
    "Hexadecimálny zápis: $$(FF,FF,00)$$ \n",
    "\n",
    "**Sivá - Grey** má binárny zápis : $$(10000000,10000000,10000000)$$\n",
    "Dekadický zápis: $$(128,128,128)$$\n",
    "Hexadecimálny zápis: $$(80,80,80)$$\n",
    "\n"
   ]
  },
  {
   "cell_type": "code",
   "execution_count": 76,
   "metadata": {},
   "outputs": [
    {
     "ename": "SyntaxError",
     "evalue": "invalid syntax (<ipython-input-76-3fe1338be9d5>, line 1)",
     "output_type": "error",
     "traceback": [
      "\u001b[0;36m  File \u001b[0;32m\"<ipython-input-76-3fe1338be9d5>\"\u001b[0;36m, line \u001b[0;32m1\u001b[0m\n\u001b[0;31m    obrazok este !!!!!!\u001b[0m\n\u001b[0m               ^\u001b[0m\n\u001b[0;31mSyntaxError\u001b[0m\u001b[0;31m:\u001b[0m invalid syntax\n"
     ]
    }
   ],
   "source": [
    "obrazok este !!!!!!"
   ]
  },
  {
   "cell_type": "code",
   "execution_count": 68,
   "metadata": {},
   "outputs": [
    {
     "data": {
      "text/html": [
       "0"
      ],
      "text/plain": [
       "'0'"
      ]
     },
     "metadata": {},
     "output_type": "display_data"
    }
   ],
   "source": [
    "#overenie ciernej farby binarneho zapisu (8 bitov)\n",
    "x = 0\n",
    "show(x.str(base=2))"
   ]
  },
  {
   "cell_type": "code",
   "execution_count": 64,
   "metadata": {},
   "outputs": [
    {
     "data": {
      "text/html": [
       "0"
      ],
      "text/plain": [
       "'0'"
      ]
     },
     "metadata": {},
     "output_type": "display_data"
    }
   ],
   "source": [
    "#overenie ciernej farby hexadecimalneho zapisu (8 bitov)\n",
    "x = 0\n",
    "show(x.str(base=16))"
   ]
  },
  {
   "cell_type": "code",
   "execution_count": 69,
   "metadata": {},
   "outputs": [
    {
     "data": {
      "text/html": [
       "11111111"
      ],
      "text/plain": [
       "'11111111'"
      ]
     },
     "metadata": {},
     "output_type": "display_data"
    }
   ],
   "source": [
    "#overenie bielej farby binarneho zapisu (8 bitov)\n",
    "x = 255\n",
    "show(x.str(base=2))"
   ]
  },
  {
   "cell_type": "code",
   "execution_count": 70,
   "metadata": {},
   "outputs": [
    {
     "data": {
      "text/html": [
       "ff"
      ],
      "text/plain": [
       "'ff'"
      ]
     },
     "metadata": {},
     "output_type": "display_data"
    }
   ],
   "source": [
    "#overenie bielej farby hexadecimalneho zapisu (8 bitov)\n",
    "x = 255\n",
    "show(x.str(base=16))"
   ]
  },
  {
   "cell_type": "code",
   "execution_count": 71,
   "metadata": {},
   "outputs": [
    {
     "data": {
      "text/html": [
       "11111111"
      ],
      "text/plain": [
       "'11111111'"
      ]
     },
     "metadata": {},
     "output_type": "display_data"
    }
   ],
   "source": [
    "#overenie zltej farby binarneho zapisu (8 bitov)\n",
    "x = 255\n",
    "show(x.str(base=2))"
   ]
  },
  {
   "cell_type": "code",
   "execution_count": 73,
   "metadata": {},
   "outputs": [
    {
     "data": {
      "text/html": [
       "ff"
      ],
      "text/plain": [
       "'ff'"
      ]
     },
     "metadata": {},
     "output_type": "display_data"
    }
   ],
   "source": [
    "#overenie zltej farby hexadecimalneho zapisu (8 bitov)\n",
    "x = 255\n",
    "show(x.str(base=16))"
   ]
  },
  {
   "cell_type": "code",
   "execution_count": 74,
   "metadata": {},
   "outputs": [
    {
     "data": {
      "text/html": [
       "10000000"
      ],
      "text/plain": [
       "'10000000'"
      ]
     },
     "metadata": {},
     "output_type": "display_data"
    }
   ],
   "source": [
    "#overenie sivej farby binarneho zapisu (8 bitov)\n",
    "x = 128\n",
    "show(x.str(base=2))"
   ]
  },
  {
   "cell_type": "code",
   "execution_count": 75,
   "metadata": {},
   "outputs": [
    {
     "data": {
      "text/html": [
       "80"
      ],
      "text/plain": [
       "'80'"
      ]
     },
     "metadata": {},
     "output_type": "display_data"
    }
   ],
   "source": [
    "#overenie sivej farby hexadecimalneho zapisu (8 bitov)\n",
    "x = 128\n",
    "show(x.str(base=16))"
   ]
  },
  {
   "cell_type": "markdown",
   "metadata": {},
   "source": [
    "Na základe Sage sme si overili binárne a hexadecimálne zápisy pre čiernu, bielu, žltú a sivú farbu."
   ]
  },
  {
   "cell_type": "markdown",
   "metadata": {},
   "source": [
    "---\n",
    "\n",
    "**7. Dôkladným rozpísaním  preveďte (obidva sčítance i výsledok) príklad $457_8 + 325_8 = 1004_8$  do desiatkovej sústavy a tam ho vypočítajte. Svoje riešenie (prevody aj sčítanie) skontrolujte v Sage.**"
   ]
  },
  {
   "cell_type": "markdown",
   "metadata": {},
   "source": [
    "<ins> Riešenie: </ins>  \n",
    "\n",
    "$$457_8=4\\times8^2+5\\times8^1+7\\times8^0=303_{10}$$  \n",
    "$$325_8=3\\times8^2+2\\times8^1+5\\times8^0=213_ {10}$$  \n",
    "$$1004_8=1\\times8^3+0\\times8^2+0\\times8^1+4\\times8^0=516_{10}$$  \n",
    "\n",
    "Príklad v desiatkovej sústave by vyzeral: $$303+213=516$$"
   ]
  },
  {
   "cell_type": "code",
   "execution_count": 35,
   "metadata": {},
   "outputs": [
    {
     "data": {
      "text/plain": [
       "303"
      ]
     },
     "execution_count": 35,
     "metadata": {},
     "output_type": "execute_result"
    }
   ],
   "source": [
    "4*8^2+5*8^1+7*8^0"
   ]
  },
  {
   "cell_type": "code",
   "execution_count": 36,
   "metadata": {},
   "outputs": [
    {
     "data": {
      "text/html": [
       "457"
      ],
      "text/plain": [
       "'457'"
      ]
     },
     "metadata": {},
     "output_type": "display_data"
    }
   ],
   "source": [
    "# kontrola pomocou Sage \n",
    "x = 303\n",
    "show(x.str(base=8))"
   ]
  },
  {
   "cell_type": "code",
   "execution_count": 37,
   "metadata": {},
   "outputs": [
    {
     "data": {
      "text/plain": [
       "213"
      ]
     },
     "execution_count": 37,
     "metadata": {},
     "output_type": "execute_result"
    }
   ],
   "source": [
    "3*8^2+2*8^1+5*8^0"
   ]
  },
  {
   "cell_type": "code",
   "execution_count": 38,
   "metadata": {},
   "outputs": [
    {
     "data": {
      "text/html": [
       "325"
      ],
      "text/plain": [
       "'325'"
      ]
     },
     "metadata": {},
     "output_type": "display_data"
    }
   ],
   "source": [
    "# kontrola pomocou Sage \n",
    "x = 213\n",
    "show(x.str(base=8))"
   ]
  },
  {
   "cell_type": "code",
   "execution_count": 39,
   "metadata": {},
   "outputs": [
    {
     "data": {
      "text/plain": [
       "516"
      ]
     },
     "execution_count": 39,
     "metadata": {},
     "output_type": "execute_result"
    }
   ],
   "source": [
    "1*8^3+0*8^2+0*8^1+4*8^0"
   ]
  },
  {
   "cell_type": "code",
   "execution_count": 40,
   "metadata": {},
   "outputs": [
    {
     "data": {
      "text/html": [
       "1004"
      ],
      "text/plain": [
       "'1004'"
      ]
     },
     "metadata": {},
     "output_type": "display_data"
    }
   ],
   "source": [
    "# kontrola pomocou Sage \n",
    "x = 516\n",
    "show(x.str(base=8))"
   ]
  },
  {
   "cell_type": "markdown",
   "metadata": {},
   "source": [
    "---\n",
    "\n",
    "**8. Dôkladným rozpísaním  preveďte príklad (všetky čísla v ňom) $321_8 - 177_8 = 122_8$  do desiatkovej sústavy a tam ho vypočítajte. Svoje riešenie (prevody aj sčítanie) skontrolujte v Sage.**\n"
   ]
  },
  {
   "cell_type": "markdown",
   "metadata": {},
   "source": [
    "<ins> Riešenie: </ins> \n",
    "\n",
    "$$321_8=3\\times8^2+2\\times8^1+1\\times8^0=209_{10}$$  \n",
    "$$177_8=1\\times8^2+7\\times8^1+7\\times8^0=127_ {10}$$  \n",
    "$$122_8=1\\times8^2+2\\times8^1+2\\times8^0=82_{10}$$  \n",
    "\n",
    "Príklad v desiatkovej sústave by vyzeral: $$209-127=82$$"
   ]
  },
  {
   "cell_type": "code",
   "execution_count": 49,
   "metadata": {},
   "outputs": [
    {
     "data": {
      "text/plain": [
       "209"
      ]
     },
     "execution_count": 49,
     "metadata": {},
     "output_type": "execute_result"
    }
   ],
   "source": [
    "3*8^2+2*8^1+1*8^0"
   ]
  },
  {
   "cell_type": "code",
   "execution_count": 50,
   "metadata": {},
   "outputs": [
    {
     "data": {
      "text/html": [
       "321"
      ],
      "text/plain": [
       "'321'"
      ]
     },
     "metadata": {},
     "output_type": "display_data"
    }
   ],
   "source": [
    "# kontrola pomocou Sage \n",
    "x = 209\n",
    "show(x.str(base=8))"
   ]
  },
  {
   "cell_type": "code",
   "execution_count": 42,
   "metadata": {},
   "outputs": [
    {
     "data": {
      "text/plain": [
       "127"
      ]
     },
     "execution_count": 42,
     "metadata": {},
     "output_type": "execute_result"
    }
   ],
   "source": [
    "1*8^2+7*8^1+7*8^0"
   ]
  },
  {
   "cell_type": "code",
   "execution_count": 45,
   "metadata": {},
   "outputs": [
    {
     "data": {
      "text/html": [
       "177"
      ],
      "text/plain": [
       "'177'"
      ]
     },
     "metadata": {},
     "output_type": "display_data"
    }
   ],
   "source": [
    "# kontrola pomocou Sage \n",
    "x = 127\n",
    "show(x.str(base=8))"
   ]
  },
  {
   "cell_type": "code",
   "execution_count": 43,
   "metadata": {},
   "outputs": [
    {
     "data": {
      "text/plain": [
       "82"
      ]
     },
     "execution_count": 43,
     "metadata": {},
     "output_type": "execute_result"
    }
   ],
   "source": [
    "1*8^2+2*8^1+2*8^0"
   ]
  },
  {
   "cell_type": "code",
   "execution_count": 46,
   "metadata": {},
   "outputs": [
    {
     "data": {
      "text/html": [
       "122"
      ],
      "text/plain": [
       "'122'"
      ]
     },
     "metadata": {},
     "output_type": "display_data"
    }
   ],
   "source": [
    "# kontrola pomocou Sage \n",
    "x = 82\n",
    "show(x.str(base=8))"
   ]
  },
  {
   "cell_type": "markdown",
   "metadata": {},
   "source": [
    "--- \n",
    "\n",
    "**9. Dôkladným rozpísaním  preveďte príklad (všetky čísla v ňom) $312_4 \\times 12_4=11010_4$ do desiatkovej sústavy a tam ho vypočítajte. Svoje riešenie (prevody aj sčítanie) skontrolujte v Sage.**"
   ]
  },
  {
   "cell_type": "markdown",
   "metadata": {},
   "source": [
    "<ins> Riešenie: </ins>  \n",
    "\n",
    "$$312_4=3\\times4^2+1\\times4^1+2\\times4^0=54_{10}$$  \n",
    "$$12_4=1\\times4^1+2\\times4^0=6_ {10}$$  \n",
    "$$11010_4=1\\times4^4+1\\times4^3+0\\times4^2+1\\times4^1+0\\times4^0=324_{10}$$  \n",
    "\n",
    "Príklad v desiatkovej sústave by vyzeral: $$54\\times6=324$$"
   ]
  },
  {
   "cell_type": "code",
   "execution_count": 54,
   "metadata": {},
   "outputs": [
    {
     "data": {
      "text/plain": [
       "54"
      ]
     },
     "execution_count": 54,
     "metadata": {},
     "output_type": "execute_result"
    }
   ],
   "source": [
    "3*4^2+1*4+2*4^0"
   ]
  },
  {
   "cell_type": "code",
   "execution_count": 55,
   "metadata": {},
   "outputs": [
    {
     "data": {
      "text/html": [
       "312"
      ],
      "text/plain": [
       "'312'"
      ]
     },
     "metadata": {},
     "output_type": "display_data"
    }
   ],
   "source": [
    "# kontrola pomocou Sage \n",
    "x = 54\n",
    "show(x.str(base=4))"
   ]
  },
  {
   "cell_type": "code",
   "execution_count": 56,
   "metadata": {},
   "outputs": [
    {
     "data": {
      "text/plain": [
       "6"
      ]
     },
     "execution_count": 56,
     "metadata": {},
     "output_type": "execute_result"
    }
   ],
   "source": [
    "1*4+2*4^0"
   ]
  },
  {
   "cell_type": "code",
   "execution_count": 57,
   "metadata": {},
   "outputs": [
    {
     "data": {
      "text/html": [
       "12"
      ],
      "text/plain": [
       "'12'"
      ]
     },
     "metadata": {},
     "output_type": "display_data"
    }
   ],
   "source": [
    "# kontrola pomocou Sage \n",
    "x = 6\n",
    "show(x.str(base=4))"
   ]
  },
  {
   "cell_type": "code",
   "execution_count": 58,
   "metadata": {},
   "outputs": [
    {
     "data": {
      "text/plain": [
       "324"
      ]
     },
     "execution_count": 58,
     "metadata": {},
     "output_type": "execute_result"
    }
   ],
   "source": [
    "1*4^4+1*4^3+0*4^2+1*4^1+0*4^0"
   ]
  },
  {
   "cell_type": "code",
   "execution_count": 59,
   "metadata": {},
   "outputs": [
    {
     "data": {
      "text/html": [
       "11010"
      ],
      "text/plain": [
       "'11010'"
      ]
     },
     "metadata": {},
     "output_type": "display_data"
    }
   ],
   "source": [
    "# kontrola pomocou Sage \n",
    "x = 324\n",
    "show(x.str(base=4))"
   ]
  },
  {
   "cell_type": "markdown",
   "metadata": {},
   "source": [
    "---\n",
    "\n",
    "**10. Aké <font color=red> konkrétne </font> otázky máte k náplni študijných materiálov, ktoré by ste chceli na hodine prediskutovať?**"
   ]
  },
  {
   "cell_type": "code",
   "execution_count": null,
   "metadata": {},
   "outputs": [],
   "source": []
  }
 ],
 "metadata": {
  "kernelspec": {
   "display_name": "SageMath 9.3",
   "language": "sage",
   "name": "sagemath"
  },
  "language_info": {
   "codemirror_mode": {
    "name": "ipython",
    "version": 3
   },
   "file_extension": ".py",
   "mimetype": "text/x-python",
   "name": "python",
   "nbconvert_exporter": "python",
   "pygments_lexer": "ipython3",
   "version": "3.7.10"
  }
 },
 "nbformat": 4,
 "nbformat_minor": 2
}

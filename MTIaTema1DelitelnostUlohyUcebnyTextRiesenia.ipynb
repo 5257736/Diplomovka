{
 "cells": [
  {
   "cell_type": "markdown",
   "metadata": {},
   "source": [
    "**Autori:** Andrej Gajdoš, Dagmara Lopatková  <br> \n",
    "*[Ústav matematiky](https://www.upjs.sk/prirodovedecka-fakulta/ustav/umv/), [Prírodovedecká fakulta](https://www.upjs.sk/prirodovedecka-fakulta/), Univerzita Pavla Jozefa Šafárika v Košiciach,* <br> \n",
    "email: [andrej.gajdos@upjs.sk](mailto:andrej.gajdos@upjs.sk)\n",
    "\n",
    "***\n",
    "\n",
    "**<font size=6 color=blue> MTIa: Téma 1 - Deliteľnosť celých čísel: úlohy k učebnému textu </font>**  "
   ]
  },
  {
   "cell_type": "markdown",
   "metadata": {},
   "source": [
    "---\n",
    "\n",
    "**1. Prečo nasledujúce tvrdenie vo všeobecnosti neplatí? $\\left(\\forall a,b\\in\\mathbb{Z}\\right)\\,\\, a\\mid b\\Rightarrow |a|\\le |b|$. Uveďte príklad - tzn. nájdite konkrétne $a,b$, pre ktoré uvedená implikácia neplatí. Čiže nájdite také konkrétne celé čísla $a,b$, že $a\\mid b$ ale súčasne $|a| > |b|$.**"
   ]
  },
  {
   "cell_type": "markdown",
   "metadata": {},
   "source": [
    "<ins> Riešenie: </ins> \n",
    "\n",
    "Ak zvolíme $a=1$, $b=0$, potom zrejme $a \\mid b$,  lebo nula je deliteľná každým celým číslom (**Poznámka 2** v učebnom texte) a súčasne platí $|1|>|0|$.\n"
   ]
  },
  {
   "cell_type": "markdown",
   "metadata": {},
   "source": [
    "---\n",
    "\n",
    "**2. Vymyslite príklad (tzn. nájdite konkrétne celé čísla $a,b,c,u,v$) pre nasledujúcu vlastnosť deliteľnosti: $\\left(\\forall a,b,c,u,v\\in\\mathbb{Z}\\right)\\left(a\\mid b \\wedge a\\mid c\\right)\\Rightarrow a\\mid (bu\\pm cv)$. Na príklade tiež ukážte, že opačná implikácia neplatí, tzn. ak $a\\mid (bu + cv)$ nemusí potom platiť, že $a\\mid b$ a súčasne $a\\mid c$.**"
   ]
  },
  {
   "cell_type": "markdown",
   "metadata": {},
   "source": [
    "<ins> Riešenie: </ins> "
   ]
  },
  {
   "cell_type": "markdown",
   "metadata": {},
   "source": [
    "Príklad: $a=3$, $b=6$, $c=15$, $u=2$, $v=1$ potom dosadíme $ 3\\mid(6\\cdot 2 +15\\cdot 1) \\Rightarrow 3\\mid(12+15) \\Rightarrow 3\\mid 27 \\Rightarrow 27 =3\\cdot \\mathbf{9} $. Našli sme dané čísla, pre ktoré vlastnosť platí.  \n",
    "\n",
    "Kontrapríklad: $a=17$, $b=3$, $c=11$, $u=2$, $v=1$ tu neplatí implikácia, neplatí preto, lebo nie každé číslo vieme rozdeliť na také dve násobky čísel, aby $a$ delilo jeden aj druhý násobok čísel. "
   ]
  },
  {
   "cell_type": "markdown",
   "metadata": {},
   "source": [
    "---\n",
    "\n",
    "**3. Aplikujte Vetu o delení so zvyškom na nasledujúce dvojice čísel: $59,7$; $-100,9$ a $84,12$.** Na pomocné výpočty použite Sage. "
   ]
  },
  {
   "cell_type": "code",
   "execution_count": 3,
   "metadata": {},
   "outputs": [
    {
     "data": {
      "text/plain": [
       "8.42857142857143"
      ]
     },
     "execution_count": 3,
     "metadata": {},
     "output_type": "execute_result"
    }
   ],
   "source": [
    "# zistíme koľkokrát sa číslo 7 nachádza v čísle 59\n",
    "n(59/7)"
   ]
  },
  {
   "cell_type": "code",
   "execution_count": 4,
   "metadata": {},
   "outputs": [
    {
     "data": {
      "text/plain": [
       "56"
      ]
     },
     "execution_count": 4,
     "metadata": {},
     "output_type": "execute_result"
    }
   ],
   "source": [
    "7*8"
   ]
  },
  {
   "cell_type": "code",
   "execution_count": 6,
   "metadata": {},
   "outputs": [
    {
     "data": {
      "text/plain": [
       "59"
      ]
     },
     "execution_count": 6,
     "metadata": {},
     "output_type": "execute_result"
    }
   ],
   "source": [
    "# dopočítame koľko nám chýba do 59\n",
    "8*7+3"
   ]
  },
  {
   "cell_type": "code",
   "execution_count": 7,
   "metadata": {},
   "outputs": [
    {
     "data": {
      "text/plain": [
       "-108"
      ]
     },
     "execution_count": 7,
     "metadata": {},
     "output_type": "execute_result"
    }
   ],
   "source": [
    "9*(-12)"
   ]
  },
  {
   "cell_type": "code",
   "execution_count": 8,
   "metadata": {},
   "outputs": [
    {
     "data": {
      "text/plain": [
       "-100"
      ]
     },
     "execution_count": 8,
     "metadata": {},
     "output_type": "execute_result"
    }
   ],
   "source": [
    "# vždy kladný zvyšok\n",
    "9*(-12)+8"
   ]
  },
  {
   "cell_type": "code",
   "execution_count": 9,
   "metadata": {},
   "outputs": [
    {
     "data": {
      "text/plain": [
       "7"
      ]
     },
     "execution_count": 9,
     "metadata": {},
     "output_type": "execute_result"
    }
   ],
   "source": [
    "84/12"
   ]
  },
  {
   "cell_type": "code",
   "execution_count": 10,
   "metadata": {},
   "outputs": [
    {
     "data": {
      "text/plain": [
       "84"
      ]
     },
     "execution_count": 10,
     "metadata": {},
     "output_type": "execute_result"
    }
   ],
   "source": [
    "7*12+0"
   ]
  },
  {
   "cell_type": "markdown",
   "metadata": {},
   "source": [
    "---\n",
    "\n",
    "**4. Využite a vhodne upravte kódy z Príkladu 3 a urobte analogický výpočet pre Príklad 4 pomocou Sage.** (1160718174,316258250)"
   ]
  },
  {
   "cell_type": "code",
   "execution_count": 11,
   "metadata": {},
   "outputs": [
    {
     "data": {
      "text/plain": [
       "(316258250, 1160718174)"
      ]
     },
     "execution_count": 11,
     "metadata": {},
     "output_type": "execute_result"
    }
   ],
   "source": [
    "# uložme si do premennej čísla, b>a\n",
    "b = 1160718174\n",
    "a = 316258250\n",
    "a,b"
   ]
  },
  {
   "cell_type": "code",
   "execution_count": 12,
   "metadata": {},
   "outputs": [
    {
     "data": {
      "text/plain": [
       "(3, 211943424)"
      ]
     },
     "execution_count": 12,
     "metadata": {},
     "output_type": "execute_result"
    }
   ],
   "source": [
    "# hľadáme prvý kvocient a prvý zvyšok, postup opakujeme, kým zvyšok po delení nie je 0\n",
    "q1 = 1160718174 // 316258250\n",
    "r1 = 1160718174 % 316258250\n",
    "q1,r1"
   ]
  },
  {
   "cell_type": "code",
   "execution_count": 13,
   "metadata": {},
   "outputs": [
    {
     "data": {
      "text/plain": [
       "(1, 104314826)"
      ]
     },
     "execution_count": 13,
     "metadata": {},
     "output_type": "execute_result"
    }
   ],
   "source": [
    "q2 = a // r1\n",
    "r2 = a % r1\n",
    "q2,r2"
   ]
  },
  {
   "cell_type": "code",
   "execution_count": 14,
   "metadata": {},
   "outputs": [
    {
     "data": {
      "text/plain": [
       "(2, 3313772)"
      ]
     },
     "execution_count": 14,
     "metadata": {},
     "output_type": "execute_result"
    }
   ],
   "source": [
    "q3 = r1 // r2\n",
    "r3 = r1 % r2\n",
    "q3,r3"
   ]
  },
  {
   "cell_type": "code",
   "execution_count": 15,
   "metadata": {},
   "outputs": [
    {
     "data": {
      "text/plain": [
       "(31, 1587894)"
      ]
     },
     "execution_count": 15,
     "metadata": {},
     "output_type": "execute_result"
    }
   ],
   "source": [
    "q4 = r2 // r3\n",
    "r4 = r2 % r3\n",
    "q4,r4"
   ]
  },
  {
   "cell_type": "code",
   "execution_count": 16,
   "metadata": {},
   "outputs": [
    {
     "data": {
      "text/plain": [
       "(2, 137984)"
      ]
     },
     "execution_count": 16,
     "metadata": {},
     "output_type": "execute_result"
    }
   ],
   "source": [
    "q5 = r3 // r4\n",
    "r5 = r3 % r4\n",
    "q5,r5"
   ]
  },
  {
   "cell_type": "code",
   "execution_count": 17,
   "metadata": {},
   "outputs": [
    {
     "data": {
      "text/plain": [
       "(11, 70070)"
      ]
     },
     "execution_count": 17,
     "metadata": {},
     "output_type": "execute_result"
    }
   ],
   "source": [
    "q6 = r4 // r5\n",
    "r6 = r4 % r5\n",
    "q6,r6"
   ]
  },
  {
   "cell_type": "code",
   "execution_count": 18,
   "metadata": {},
   "outputs": [
    {
     "data": {
      "text/plain": [
       "(1, 67914)"
      ]
     },
     "execution_count": 18,
     "metadata": {},
     "output_type": "execute_result"
    }
   ],
   "source": [
    "q7 = r5 // r6\n",
    "r7 = r5 % r6\n",
    "q7,r7"
   ]
  },
  {
   "cell_type": "code",
   "execution_count": 19,
   "metadata": {},
   "outputs": [
    {
     "data": {
      "text/plain": [
       "(1, 2156)"
      ]
     },
     "execution_count": 19,
     "metadata": {},
     "output_type": "execute_result"
    }
   ],
   "source": [
    "q8 = r6 // r7\n",
    "r8 = r6 % r7\n",
    "q8,r8"
   ]
  },
  {
   "cell_type": "code",
   "execution_count": 20,
   "metadata": {},
   "outputs": [
    {
     "data": {
      "text/plain": [
       "(31, 1078)"
      ]
     },
     "execution_count": 20,
     "metadata": {},
     "output_type": "execute_result"
    }
   ],
   "source": [
    "q9 = r7 // r8\n",
    "r9 = r7 % r8\n",
    "q9,r9"
   ]
  },
  {
   "cell_type": "code",
   "execution_count": 21,
   "metadata": {},
   "outputs": [
    {
     "data": {
      "text/plain": [
       "(2, 0)"
      ]
     },
     "execution_count": 21,
     "metadata": {},
     "output_type": "execute_result"
    }
   ],
   "source": [
    "q10 = r8 // r9\n",
    "r10 = r8 % r9\n",
    "q10,r10"
   ]
  },
  {
   "cell_type": "markdown",
   "metadata": {},
   "source": [
    "Euklidov algoritmus končí, lebo zvyšok po delení vyšiel nulový."
   ]
  },
  {
   "cell_type": "markdown",
   "metadata": {},
   "source": [
    "Pre výpočet kvocientov a zvyškov použijeme funkciu `divmod()`, musíme dávať pozor na poradie vstupov. Môžeme si tým overiť výsledky z predchádzajúceho postupu. "
   ]
  },
  {
   "cell_type": "code",
   "execution_count": 22,
   "metadata": {},
   "outputs": [
    {
     "data": {
      "text/plain": [
       "(3, 211943424)"
      ]
     },
     "execution_count": 22,
     "metadata": {},
     "output_type": "execute_result"
    }
   ],
   "source": [
    "divmod(b,a)"
   ]
  },
  {
   "cell_type": "code",
   "execution_count": 23,
   "metadata": {},
   "outputs": [
    {
     "data": {
      "text/plain": [
       "(3, 211943424)"
      ]
     },
     "execution_count": 23,
     "metadata": {},
     "output_type": "execute_result"
    }
   ],
   "source": [
    "q1 = divmod(b,a)[0]\n",
    "r1 = divmod(b,a)[1]\n",
    "q1,r1"
   ]
  },
  {
   "cell_type": "code",
   "execution_count": 25,
   "metadata": {},
   "outputs": [
    {
     "data": {
      "text/plain": [
       "(1, 104314826)"
      ]
     },
     "execution_count": 25,
     "metadata": {},
     "output_type": "execute_result"
    }
   ],
   "source": [
    "divmod(a,211943424)"
   ]
  },
  {
   "cell_type": "code",
   "execution_count": 26,
   "metadata": {},
   "outputs": [
    {
     "data": {
      "text/plain": [
       "(2, 3313772)"
      ]
     },
     "execution_count": 26,
     "metadata": {},
     "output_type": "execute_result"
    }
   ],
   "source": [
    "divmod(211943424,104314826)"
   ]
  },
  {
   "cell_type": "code",
   "execution_count": 27,
   "metadata": {},
   "outputs": [
    {
     "data": {
      "text/plain": [
       "(31, 1587894)"
      ]
     },
     "execution_count": 27,
     "metadata": {},
     "output_type": "execute_result"
    }
   ],
   "source": [
    "divmod(104314826,3313772)"
   ]
  },
  {
   "cell_type": "code",
   "execution_count": 28,
   "metadata": {},
   "outputs": [
    {
     "data": {
      "text/plain": [
       "(2, 137984)"
      ]
     },
     "execution_count": 28,
     "metadata": {},
     "output_type": "execute_result"
    }
   ],
   "source": [
    "divmod(3313772,1587894)"
   ]
  },
  {
   "cell_type": "code",
   "execution_count": 29,
   "metadata": {},
   "outputs": [
    {
     "data": {
      "text/plain": [
       "(11, 70070)"
      ]
     },
     "execution_count": 29,
     "metadata": {},
     "output_type": "execute_result"
    }
   ],
   "source": [
    "divmod(1587894,137984)"
   ]
  },
  {
   "cell_type": "code",
   "execution_count": 30,
   "metadata": {},
   "outputs": [
    {
     "data": {
      "text/plain": [
       "(1, 67914)"
      ]
     },
     "execution_count": 30,
     "metadata": {},
     "output_type": "execute_result"
    }
   ],
   "source": [
    "divmod(137984,70070)"
   ]
  },
  {
   "cell_type": "code",
   "execution_count": 31,
   "metadata": {},
   "outputs": [
    {
     "data": {
      "text/plain": [
       "(1, 2156)"
      ]
     },
     "execution_count": 31,
     "metadata": {},
     "output_type": "execute_result"
    }
   ],
   "source": [
    "divmod(70070,67914)"
   ]
  },
  {
   "cell_type": "code",
   "execution_count": 32,
   "metadata": {},
   "outputs": [
    {
     "data": {
      "text/plain": [
       "(31, 1078)"
      ]
     },
     "execution_count": 32,
     "metadata": {},
     "output_type": "execute_result"
    }
   ],
   "source": [
    "divmod(67914,2156)"
   ]
  },
  {
   "cell_type": "code",
   "execution_count": 33,
   "metadata": {},
   "outputs": [
    {
     "data": {
      "text/plain": [
       "(2, 0)"
      ]
     },
     "execution_count": 33,
     "metadata": {},
     "output_type": "execute_result"
    }
   ],
   "source": [
    "divmod(2156,1078)"
   ]
  },
  {
   "cell_type": "markdown",
   "metadata": {},
   "source": [
    "Zvyšok po delení je nula, Euklidov algoritmus končí. "
   ]
  },
  {
   "cell_type": "markdown",
   "metadata": {},
   "source": [
    "Ďalší spôsob na overenie výsledku je funkcia `gcd()`. Na poradí vstupov v tomto prípade nezáleží. "
   ]
  },
  {
   "cell_type": "code",
   "execution_count": 24,
   "metadata": {},
   "outputs": [
    {
     "data": {
      "text/plain": [
       "(1078, 1078)"
      ]
     },
     "execution_count": 24,
     "metadata": {},
     "output_type": "execute_result"
    }
   ],
   "source": [
    "gcd(b,a), gcd(a,b)"
   ]
  },
  {
   "cell_type": "markdown",
   "metadata": {},
   "source": [
    "Najmenší spoločný deliteť čísel 1160718174, 316258250 je 1078."
   ]
  },
  {
   "cell_type": "markdown",
   "metadata": {},
   "source": [
    "--- \n",
    "\n",
    "**5. Overte (môžete aj pomocou Sage), že $x=-3,y=1$ je riešením rovnice $10x+35y=5$ a $x=-3,y=2$ je riešením rovnice $7x+11y=1$. Overte tiež, že aj dvojica $x=8,y=-5$ je riešením rovnice $7x+11y=1$.** "
   ]
  },
  {
   "cell_type": "markdown",
   "metadata": {},
   "source": [
    "Máme dané rovnice a máme overiť správnosť uvedených riešení. To znamená, že dané riešenia dosadíme do príslušných rovníc. Ak sa po dosadení bude pravá strana rovnice zhodovať s jej ľavou stranou, tak zadané riešenie je riešením diofantickej rovnice. "
   ]
  },
  {
   "cell_type": "code",
   "execution_count": 35,
   "metadata": {},
   "outputs": [
    {
     "data": {
      "text/plain": [
       "5"
      ]
     },
     "execution_count": 35,
     "metadata": {},
     "output_type": "execute_result"
    }
   ],
   "source": [
    "x1=-3\n",
    "y1=1\n",
    "10*x1+35*y1"
   ]
  },
  {
   "cell_type": "code",
   "execution_count": 36,
   "metadata": {},
   "outputs": [
    {
     "data": {
      "text/plain": [
       "1"
      ]
     },
     "execution_count": 36,
     "metadata": {},
     "output_type": "execute_result"
    }
   ],
   "source": [
    "x2=-3\n",
    "y2=2\n",
    "7*x2+11*y2"
   ]
  },
  {
   "cell_type": "code",
   "execution_count": 37,
   "metadata": {},
   "outputs": [
    {
     "data": {
      "text/plain": [
       "1"
      ]
     },
     "execution_count": 37,
     "metadata": {},
     "output_type": "execute_result"
    }
   ],
   "source": [
    "x3=8\n",
    "y3=-5\n",
    "7*x3+11*y3"
   ]
  },
  {
   "cell_type": "markdown",
   "metadata": {},
   "source": [
    "--- \n",
    "**6. S využitím kódov a postupu z Príkladu 5, nájdite pomocou Sage riešenie rovnice $12453x+2347y=(12453,2347)$.**"
   ]
  },
  {
   "cell_type": "markdown",
   "metadata": {},
   "source": [
    "Najprv využijeme Euklidov algoritmus. "
   ]
  },
  {
   "cell_type": "code",
   "execution_count": 4,
   "metadata": {},
   "outputs": [
    {
     "data": {
      "text/plain": [
       "(12453, 2347)"
      ]
     },
     "execution_count": 4,
     "metadata": {},
     "output_type": "execute_result"
    }
   ],
   "source": [
    "a = 12453 \n",
    "b = 2347\n",
    "a,b"
   ]
  },
  {
   "cell_type": "code",
   "execution_count": 6,
   "metadata": {},
   "outputs": [
    {
     "data": {
      "text/plain": [
       "(5, 718)"
      ]
     },
     "execution_count": 6,
     "metadata": {},
     "output_type": "execute_result"
    }
   ],
   "source": [
    "q1 = a // b\n",
    "r1 = a % b\n",
    "q1,r1"
   ]
  },
  {
   "cell_type": "code",
   "execution_count": 7,
   "metadata": {},
   "outputs": [
    {
     "data": {
      "text/plain": [
       "(3, 193)"
      ]
     },
     "execution_count": 7,
     "metadata": {},
     "output_type": "execute_result"
    }
   ],
   "source": [
    "q2 = b // r1  \n",
    "r2 = b % r1\n",
    "q2,r2"
   ]
  },
  {
   "cell_type": "code",
   "execution_count": 8,
   "metadata": {},
   "outputs": [
    {
     "data": {
      "text/plain": [
       "(3, 139)"
      ]
     },
     "execution_count": 8,
     "metadata": {},
     "output_type": "execute_result"
    }
   ],
   "source": [
    "q3 = r1 // r2  \n",
    "r3 = r1 % r2\n",
    "q3,r3"
   ]
  },
  {
   "cell_type": "code",
   "execution_count": 9,
   "metadata": {},
   "outputs": [
    {
     "data": {
      "text/plain": [
       "(1, 54)"
      ]
     },
     "execution_count": 9,
     "metadata": {},
     "output_type": "execute_result"
    }
   ],
   "source": [
    "q4 = r2 // r3  \n",
    "r4 = r2 % r3\n",
    "q4,r4"
   ]
  },
  {
   "cell_type": "code",
   "execution_count": 10,
   "metadata": {},
   "outputs": [
    {
     "data": {
      "text/plain": [
       "(2, 31)"
      ]
     },
     "execution_count": 10,
     "metadata": {},
     "output_type": "execute_result"
    }
   ],
   "source": [
    "q5 = r3 // r4  \n",
    "r5 = r3 % r4\n",
    "q5,r5"
   ]
  },
  {
   "cell_type": "code",
   "execution_count": 11,
   "metadata": {},
   "outputs": [
    {
     "data": {
      "text/plain": [
       "(1, 23)"
      ]
     },
     "execution_count": 11,
     "metadata": {},
     "output_type": "execute_result"
    }
   ],
   "source": [
    "q6 = r4 // r5\n",
    "r6 = r4 % r5\n",
    "q6,r6"
   ]
  },
  {
   "cell_type": "code",
   "execution_count": 12,
   "metadata": {},
   "outputs": [
    {
     "data": {
      "text/plain": [
       "(1, 8)"
      ]
     },
     "execution_count": 12,
     "metadata": {},
     "output_type": "execute_result"
    }
   ],
   "source": [
    "q7 = r5 // r6\n",
    "r7 = r5 % r6\n",
    "q7,r7"
   ]
  },
  {
   "cell_type": "code",
   "execution_count": 13,
   "metadata": {},
   "outputs": [
    {
     "data": {
      "text/plain": [
       "(2, 7)"
      ]
     },
     "execution_count": 13,
     "metadata": {},
     "output_type": "execute_result"
    }
   ],
   "source": [
    "q8 = r6 // r7\n",
    "r8 = r6 % r7\n",
    "q8,r8"
   ]
  },
  {
   "cell_type": "code",
   "execution_count": 14,
   "metadata": {},
   "outputs": [
    {
     "data": {
      "text/plain": [
       "(1, 1)"
      ]
     },
     "execution_count": 14,
     "metadata": {},
     "output_type": "execute_result"
    }
   ],
   "source": [
    "q9 = r7 // r8\n",
    "r9 = r7 % r8\n",
    "q9,r9"
   ]
  },
  {
   "cell_type": "code",
   "execution_count": 15,
   "metadata": {},
   "outputs": [
    {
     "data": {
      "text/plain": [
       "(7, 0)"
      ]
     },
     "execution_count": 15,
     "metadata": {},
     "output_type": "execute_result"
    }
   ],
   "source": [
    "q10 = r8 // r9\n",
    "r10 = r8 % r9\n",
    "q10,r10"
   ]
  },
  {
   "cell_type": "markdown",
   "metadata": {},
   "source": [
    "Teraz ideme od konca Euklidovho algoritmu vyjadrovať, čomu sa rovnajú jednotlivé zvyšky po delení."
   ]
  },
  {
   "cell_type": "code",
   "execution_count": 16,
   "metadata": {},
   "outputs": [
    {
     "data": {
      "text/plain": [
       "aa - 5*bb"
      ]
     },
     "execution_count": 16,
     "metadata": {},
     "output_type": "execute_result"
    }
   ],
   "source": [
    "var('rr1,aa,bb') # zavedieme symbolicke premenne pre cisla a,b aj pre prvy zvysok r1  \n",
    "eqn1 = [aa==q1*bb+rr1] # prva rovnost z Euklidovho algoritmu \n",
    "s1 = solve(eqn1, rr1) # vyjadrime z prvej rovnice prvy zvysok (po deleni) r1 pomocou cisel a,b \n",
    "rr1 = s1[0].rhs() # vyjadreny zvysok ulozime do premennej (funkcia rhs() vrati pravu stranu riesenia resp. vyjadrenia z rovnice)\n",
    "rr1"
   ]
  },
  {
   "cell_type": "code",
   "execution_count": 17,
   "metadata": {},
   "outputs": [
    {
     "data": {
      "text/plain": [
       "-3*aa + 16*bb"
      ]
     },
     "execution_count": 17,
     "metadata": {},
     "output_type": "execute_result"
    }
   ],
   "source": [
    "var('rr2') # zavedieme symbolicku premennu pre druhy zvysok r2 \n",
    "eqn2 = [bb==q2*rr1+rr2] # druha rovnost z Euklidovho algoritmu\n",
    "s2 = solve(eqn2, rr2) # vyjadrime z druhej rovnice druhy zvysok (po deleni) r2 pomocou cisel a,b \n",
    "rr2 = s2[0].rhs() # vyjadreny zvysok ulozime do premennej (funkcia rhs() vrati pravu stranu riesenia resp. vyjadrenia z rovnice)\n",
    "rr2"
   ]
  },
  {
   "cell_type": "code",
   "execution_count": 18,
   "metadata": {},
   "outputs": [
    {
     "data": {
      "text/plain": [
       "10*aa - 53*bb"
      ]
     },
     "execution_count": 18,
     "metadata": {},
     "output_type": "execute_result"
    }
   ],
   "source": [
    "var('rr3') # zavedieme symbolicku premennu pre druhy zvysok r3\n",
    "eqn3 = [rr1==q3*rr2+rr3] # tretia rovnost z Euklidovho algoritmu \n",
    "s3 = solve(eqn3, rr3) # vyjadrime z tretej rovnice prvy zvysok (po deleni) r3 pomocou cisel a,b\n",
    "rr3 = s3[0].rhs() # vyjadreny zvysok ulozime do premennej (funkcia rhs() vrati pravu stranu riesenia resp. vyjadrenia z rovnice)\n",
    "rr3"
   ]
  },
  {
   "cell_type": "code",
   "execution_count": 19,
   "metadata": {},
   "outputs": [
    {
     "data": {
      "text/plain": [
       "-13*aa + 69*bb"
      ]
     },
     "execution_count": 19,
     "metadata": {},
     "output_type": "execute_result"
    }
   ],
   "source": [
    "var('rr4')\n",
    "eqn4 = [rr2==q4*rr3+rr4]\n",
    "s4 = solve(eqn4, rr4)\n",
    "rr4 = s4[0].rhs()\n",
    "rr4"
   ]
  },
  {
   "cell_type": "code",
   "execution_count": 20,
   "metadata": {},
   "outputs": [
    {
     "data": {
      "text/plain": [
       "36*aa - 191*bb"
      ]
     },
     "execution_count": 20,
     "metadata": {},
     "output_type": "execute_result"
    }
   ],
   "source": [
    "var('rr5')\n",
    "eqn5 = [rr3==q5*rr4+rr5]\n",
    "s5 = solve(eqn5, rr5)\n",
    "rr5 = s5[0].rhs()\n",
    "rr5"
   ]
  },
  {
   "cell_type": "code",
   "execution_count": 21,
   "metadata": {},
   "outputs": [
    {
     "data": {
      "text/plain": [
       "-49*aa + 260*bb"
      ]
     },
     "execution_count": 21,
     "metadata": {},
     "output_type": "execute_result"
    }
   ],
   "source": [
    "var('rr6')\n",
    "eqn6 = [rr4==q6*rr5+rr6]\n",
    "s6 = solve(eqn6, rr6)\n",
    "rr6 = s6[0].rhs()\n",
    "rr6"
   ]
  },
  {
   "cell_type": "code",
   "execution_count": 22,
   "metadata": {},
   "outputs": [
    {
     "data": {
      "text/plain": [
       "85*aa - 451*bb"
      ]
     },
     "execution_count": 22,
     "metadata": {},
     "output_type": "execute_result"
    }
   ],
   "source": [
    "var('rr7')\n",
    "eqn7 = [rr5==q7*rr6+rr7]\n",
    "s7 = solve(eqn7, rr7)\n",
    "rr7 = s7[0].rhs()\n",
    "rr7"
   ]
  },
  {
   "cell_type": "code",
   "execution_count": 23,
   "metadata": {},
   "outputs": [
    {
     "data": {
      "text/plain": [
       "-219*aa + 1162*bb"
      ]
     },
     "execution_count": 23,
     "metadata": {},
     "output_type": "execute_result"
    }
   ],
   "source": [
    "var('rr8')\n",
    "eqn8 = [rr6==q8*rr7+rr8]\n",
    "s8 = solve(eqn8, rr8)\n",
    "rr8 = s8[0].rhs()\n",
    "rr8"
   ]
  },
  {
   "cell_type": "code",
   "execution_count": 24,
   "metadata": {},
   "outputs": [
    {
     "data": {
      "text/plain": [
       "304*aa - 1613*bb"
      ]
     },
     "execution_count": 24,
     "metadata": {},
     "output_type": "execute_result"
    }
   ],
   "source": [
    "var('rr9')\n",
    "eqn9 = [rr7==q9*rr8+rr9]\n",
    "s9 = solve(eqn9, rr9)\n",
    "rr9 = s9[0].rhs()\n",
    "rr9"
   ]
  },
  {
   "cell_type": "code",
   "execution_count": 25,
   "metadata": {},
   "outputs": [
    {
     "data": {
      "text/plain": [
       "1"
      ]
     },
     "execution_count": 25,
     "metadata": {},
     "output_type": "execute_result"
    }
   ],
   "source": [
    "# kontrola spravnosti vypoctu tym, ze dosadime hodnoty a = 12453, b = 2347 a mali by sme dostat NSD teda 1\n",
    "rr9.subs(aa == a, bb = b)"
   ]
  },
  {
   "cell_type": "code",
   "execution_count": 26,
   "metadata": {},
   "outputs": [
    {
     "data": {
      "text/plain": [
       "(1, 304, -1613)"
      ]
     },
     "execution_count": 26,
     "metadata": {},
     "output_type": "execute_result"
    }
   ],
   "source": [
    "# iný spôsob ako si overiť správnosť výsledku (NSD, násobok čísla a, násobok čísla b)\n",
    "xgcd(12453,2347)"
   ]
  },
  {
   "cell_type": "markdown",
   "metadata": {},
   "source": [
    "---\n",
    "\n",
    "**7. Rozhodnite o správnosti výroku a svoju odpoveď zdôvodnite (pomôžte si výpočtom v Sage): Čísla $77$ a $791$ sú nesúdeliteľné.** "
   ]
  },
  {
   "cell_type": "code",
   "execution_count": 34,
   "metadata": {},
   "outputs": [
    {
     "data": {
      "text/plain": [
       "(7, 7)"
      ]
     },
     "execution_count": 34,
     "metadata": {},
     "output_type": "execute_result"
    }
   ],
   "source": [
    "c=77\n",
    "d=791\n",
    "gcd(c,d), gcd(d,c)"
   ]
  },
  {
   "cell_type": "markdown",
   "metadata": {},
   "source": [
    "Čísla $77$ a $791$ majú NSD $7$ čiže nie sú nesúdeliteľné. Konkrétne $-7,-1,1,7$ sú ich spoločnými deliteľmi. "
   ]
  },
  {
   "cell_type": "markdown",
   "metadata": {},
   "source": [
    "--- \n",
    "\n",
    "**8. Pomocou interaktivneho kódu v časti \"Riešenie diofantických rovníc\" vizualizujte riešenie rovnice $2x-5y=2$ na oblasti $x\\in\\langle-10,10\\rangle \\wedge y\\in\\langle-10,10\\rangle$ a vypíšte súradnice znázornených bodov na priamke, ktoré sú riešením tejto rovnice.**"
   ]
  },
  {
   "cell_type": "code",
   "execution_count": 121,
   "metadata": {},
   "outputs": [
    {
     "data": {
      "text/plain": [
       "'[1+5*k,0+2*k]'"
      ]
     },
     "execution_count": 121,
     "metadata": {},
     "output_type": "execute_result"
    }
   ],
   "source": [
    "\"y=2/5*x-2/5, (5,2),\" \n",
    "\"[1+5*k,0+2*k]\" \n"
   ]
  },
  {
   "cell_type": "code",
   "execution_count": 27,
   "metadata": {},
   "outputs": [
    {
     "data": {
      "image/png": "[encoded data removed]",
      "text/plain": [
       "Graphics object consisting of 5 graphics primitives"
      ]
     },
     "execution_count": 27,
     "metadata": {},
     "output_type": "execute_result"
    }
   ],
   "source": [
    "plot(2/5*x -2/5, (x,-10,10)) + point((1,0), size = 40, color = 'blue') + point((6,2), size = 40, color = 'red')  + point((-4,-2), size = 40, color = 'green')+ point((-9,-4), size = 40, color = 'green')  "
   ]
  },
  {
   "attachments": {
    "u8r.PNG": {
     "image/png": "[encoded data removed]"
    }
   },
   "cell_type": "markdown",
   "metadata": {},
   "source": [
    "![u8r.PNG](attachment:u8r.PNG) "
   ]
  },
  {
   "cell_type": "markdown",
   "metadata": {},
   "source": [
    "---\n",
    "\n",
    "**9. Aké <span style=\"color:red\"> konkrétne </span> otázky máte k náplni študijných materiálov, ktoré by ste chceli na hodine prediskutovať?**"
   ]
  },
  {
   "cell_type": "code",
   "execution_count": null,
   "metadata": {},
   "outputs": [],
   "source": []
  }
 ],
 "metadata": {
  "kernelspec": {
   "display_name": "SageMath 9.3",
   "language": "sage",
   "name": "sagemath"
  },
  "language_info": {
   "codemirror_mode": {
    "name": "ipython",
    "version": 3
   },
   "file_extension": ".py",
   "mimetype": "text/x-python",
   "name": "python",
   "nbconvert_exporter": "python",
   "pygments_lexer": "ipython3",
   "version": "3.7.10"
  }
 },
 "nbformat": 4,
 "nbformat_minor": 2
}
